{
  "nbformat": 4,
  "nbformat_minor": 0,
  "metadata": {
    "colab": {
      "name": "HW4-1_ZahraDehghani.ipynb",
      "provenance": [],
      "collapsed_sections": [],
      "authorship_tag": "ABX9TyMeOM3cernh/bGL4MzH++Mz",
      "include_colab_link": true
    },
    "kernelspec": {
      "name": "python3",
      "display_name": "Python 3"
    },
    "language_info": {
      "name": "python"
    }
  },
  "cells": [
    {
      "cell_type": "markdown",
      "metadata": {
        "id": "view-in-github",
        "colab_type": "text"
      },
      "source": [
        "<a href=\"https://colab.research.google.com/github/ZahraDehghani99/ML_MSc/blob/main/HW4_1.ipynb\" target=\"_parent\"><img src=\"https://colab.research.google.com/assets/colab-badge.svg\" alt=\"Open In Colab\"/></a>"
      ]
    },
    {
      "cell_type": "markdown",
      "source": [
        "#Home Work 4-1"
      ],
      "metadata": {
        "id": "jTylLf_lOIw-"
      }
    },
    {
      "cell_type": "code",
      "source": [
        "import matplotlib.pyplot as plt"
      ],
      "metadata": {
        "id": "AZ2tq0hjOPFG"
      },
      "execution_count": null,
      "outputs": []
    },
    {
      "cell_type": "code",
      "execution_count": null,
      "metadata": {
        "colab": {
          "base_uri": "https://localhost:8080/",
          "height": 295
        },
        "id": "fvMw2H-nOHeG",
        "outputId": "44402936-4d66-4095-f425-e3f2f29e7613"
      },
      "outputs": [
        {
          "output_type": "display_data",
          "data": {
            "image/png": "[encoded data removed]",
            "text/plain": [
              "<Figure size 432x288 with 1 Axes>"
            ]
          },
          "metadata": {
            "needs_background": "light"
          }
        }
      ],
      "source": [
        "plt.scatter([0, 1, 2, 1, -1, -1, -1],[-1, 0, 1, 1 ,1, -1, -1],color=['red'], label=\"original\")\n",
        "plt.scatter([-1.56, 1.84, 5.14, 3.24, -0.66, -3.46, -3.46],[-1.2, 1.2, 3.6, 2.2 ,-0.6, -2.6, -2.6],color=['green'], label=\"reconstructed\")\n",
        "plt.title('original vs. reconstructed data')\n",
        "plt.xlabel('feature1')\n",
        "plt.ylabel('feature2')\n",
        "plt.legend(loc=\"upper left\")\n",
        "plt.show()"
      ]
    }
  ]
}