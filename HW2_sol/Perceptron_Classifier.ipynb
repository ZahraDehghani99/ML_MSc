{
  "nbformat": 4,
  "nbformat_minor": 0,
  "metadata": {
    "colab": {
      "name": "HW2_610300199.ipynb",
      "provenance": [],
      "collapsed_sections": [],
      "toc_visible": true
    },
    "kernelspec": {
      "name": "python3",
      "display_name": "Python 3"
    },
    "language_info": {
      "name": "python"
    }
  },
  "cells": [
    {
      "cell_type": "markdown",
      "metadata": {
        "id": "yLPhwk0gNTay"
      },
      "source": [
        "# Home Work2\n",
        "## Perceptron Classifier"
      ]
    },
    {
      "cell_type": "code",
      "metadata": {
        "id": "BHIPCIriNqKz"
      },
      "source": [
        "import pandas as pd\n",
        "import numpy as np\n",
        "import matplotlib.pyplot as plt \n"
      ],
      "execution_count": 1,
      "outputs": []
    },
    {
      "cell_type": "markdown",
      "metadata": {
        "id": "IyF24dGy1Cs1"
      },
      "source": [
        "## Load dataset and EDA"
      ]
    },
    {
      "cell_type": "code",
      "metadata": {
        "colab": {
          "base_uri": "https://localhost:8080/"
        },
        "id": "UeU3tZGP2Sdi",
        "outputId": "66f69559-09ef-4d4b-9e6c-13085369c0da"
      },
      "source": [
        "from google.colab import drive\n",
        "drive.mount('/content/drive')"
      ],
      "execution_count": 2,
      "outputs": [
        {
          "output_type": "stream",
          "name": "stdout",
          "text": [
            "Drive already mounted at /content/drive; to attempt to forcibly remount, call drive.mount(\"/content/drive\", force_remount=True).\n"
          ]
        }
      ]
    },
    {
      "cell_type": "markdown",
      "source": [
        "هدف از قطعه کد زیر نمایش داده ها است. همانطور که می بینیم داده های ما دو ستون مربوط به ویژگی دارند و ستون آخر مربوط به برچسب داده های ما می باشد که 0 و 1 هستند یعنی داده های ما مربوط به دو کلاس هستند. برای الگوریتم کلاس بند پرسپترون هم می توان از تابع پله و هم از تابع ساین استفاده کرد. چون ما می خواهیم از تابع ساین استفاده کنیم و خروجی تابع ساین(علامت) -1 و 1 می باشد پس داده هایی که برچسب 0 دارند را به -1 تبدیل می کنیم. این کار را هم برای داده های آموزشی و هم داده های تست انجام میدهیم. این کار مربوط به پیش پردارش داده ها است."
      ],
      "metadata": {
        "id": "ay9fjcMBdZVE"
      }
    },
    {
      "cell_type": "code",
      "metadata": {
        "colab": {
          "base_uri": "https://localhost:8080/",
          "height": 206
        },
        "id": "UWDe8vHYNuRO",
        "outputId": "90903b88-f8ba-4551-b8c3-821faef5ef32"
      },
      "source": [
        "train = pd.read_csv('/content/drive/MyDrive/ML/HW2/train.csv')\n",
        "train.head()"
      ],
      "execution_count": 3,
      "outputs": [
        {
          "output_type": "execute_result",
          "data": {
            "text/html": [
              "<div>\n",
              "<style scoped>\n",
              "    .dataframe tbody tr th:only-of-type {\n",
              "        vertical-align: middle;\n",
              "    }\n",
              "\n",
              "    .dataframe tbody tr th {\n",
              "        vertical-align: top;\n",
              "    }\n",
              "\n",
              "    .dataframe thead th {\n",
              "        text-align: right;\n",
              "    }\n",
              "</style>\n",
              "<table border=\"1\" class=\"dataframe\">\n",
              "  <thead>\n",
              "    <tr style=\"text-align: right;\">\n",
              "      <th></th>\n",
              "      <th>feature1</th>\n",
              "      <th>feature2</th>\n",
              "      <th>label</th>\n",
              "    </tr>\n",
              "  </thead>\n",
              "  <tbody>\n",
              "    <tr>\n",
              "      <th>0</th>\n",
              "      <td>-0.586110</td>\n",
              "      <td>-0.974014</td>\n",
              "      <td>0.0</td>\n",
              "    </tr>\n",
              "    <tr>\n",
              "      <th>1</th>\n",
              "      <td>-1.503634</td>\n",
              "      <td>-0.505257</td>\n",
              "      <td>0.0</td>\n",
              "    </tr>\n",
              "    <tr>\n",
              "      <th>2</th>\n",
              "      <td>-1.280899</td>\n",
              "      <td>-0.152307</td>\n",
              "      <td>0.0</td>\n",
              "    </tr>\n",
              "    <tr>\n",
              "      <th>3</th>\n",
              "      <td>-0.023598</td>\n",
              "      <td>-1.526080</td>\n",
              "      <td>0.0</td>\n",
              "    </tr>\n",
              "    <tr>\n",
              "      <th>4</th>\n",
              "      <td>1.336478</td>\n",
              "      <td>-1.159745</td>\n",
              "      <td>1.0</td>\n",
              "    </tr>\n",
              "  </tbody>\n",
              "</table>\n",
              "</div>"
            ],
            "text/plain": [
              "   feature1  feature2  label\n",
              "0 -0.586110 -0.974014    0.0\n",
              "1 -1.503634 -0.505257    0.0\n",
              "2 -1.280899 -0.152307    0.0\n",
              "3 -0.023598 -1.526080    0.0\n",
              "4  1.336478 -1.159745    1.0"
            ]
          },
          "metadata": {},
          "execution_count": 3
        }
      ]
    },
    {
      "cell_type": "markdown",
      "source": [
        "در کد زیر برچسب های 0 به -1 تبدیل می شوند"
      ],
      "metadata": {
        "id": "6Du_EecReUi-"
      }
    },
    {
      "cell_type": "code",
      "metadata": {
        "colab": {
          "base_uri": "https://localhost:8080/",
          "height": 206
        },
        "id": "iiBRwUN7BSe6",
        "outputId": "facd733a-766b-4d9f-f670-748ea28b2a3c"
      },
      "source": [
        "train['label'].replace(to_replace= 0, value = -1, inplace=True )\n",
        "train.head()"
      ],
      "execution_count": 4,
      "outputs": [
        {
          "output_type": "execute_result",
          "data": {
            "text/html": [
              "<div>\n",
              "<style scoped>\n",
              "    .dataframe tbody tr th:only-of-type {\n",
              "        vertical-align: middle;\n",
              "    }\n",
              "\n",
              "    .dataframe tbody tr th {\n",
              "        vertical-align: top;\n",
              "    }\n",
              "\n",
              "    .dataframe thead th {\n",
              "        text-align: right;\n",
              "    }\n",
              "</style>\n",
              "<table border=\"1\" class=\"dataframe\">\n",
              "  <thead>\n",
              "    <tr style=\"text-align: right;\">\n",
              "      <th></th>\n",
              "      <th>feature1</th>\n",
              "      <th>feature2</th>\n",
              "      <th>label</th>\n",
              "    </tr>\n",
              "  </thead>\n",
              "  <tbody>\n",
              "    <tr>\n",
              "      <th>0</th>\n",
              "      <td>-0.586110</td>\n",
              "      <td>-0.974014</td>\n",
              "      <td>-1.0</td>\n",
              "    </tr>\n",
              "    <tr>\n",
              "      <th>1</th>\n",
              "      <td>-1.503634</td>\n",
              "      <td>-0.505257</td>\n",
              "      <td>-1.0</td>\n",
              "    </tr>\n",
              "    <tr>\n",
              "      <th>2</th>\n",
              "      <td>-1.280899</td>\n",
              "      <td>-0.152307</td>\n",
              "      <td>-1.0</td>\n",
              "    </tr>\n",
              "    <tr>\n",
              "      <th>3</th>\n",
              "      <td>-0.023598</td>\n",
              "      <td>-1.526080</td>\n",
              "      <td>-1.0</td>\n",
              "    </tr>\n",
              "    <tr>\n",
              "      <th>4</th>\n",
              "      <td>1.336478</td>\n",
              "      <td>-1.159745</td>\n",
              "      <td>1.0</td>\n",
              "    </tr>\n",
              "  </tbody>\n",
              "</table>\n",
              "</div>"
            ],
            "text/plain": [
              "   feature1  feature2  label\n",
              "0 -0.586110 -0.974014   -1.0\n",
              "1 -1.503634 -0.505257   -1.0\n",
              "2 -1.280899 -0.152307   -1.0\n",
              "3 -0.023598 -1.526080   -1.0\n",
              "4  1.336478 -1.159745    1.0"
            ]
          },
          "metadata": {},
          "execution_count": 4
        }
      ]
    },
    {
      "cell_type": "code",
      "metadata": {
        "colab": {
          "base_uri": "https://localhost:8080/"
        },
        "id": "lFXWbjnZN2ci",
        "outputId": "1e9cdf9f-094f-4d3e-9c25-0d9f57af17cf"
      },
      "source": [
        "print(f'train shape : {train.shape}')"
      ],
      "execution_count": 5,
      "outputs": [
        {
          "output_type": "stream",
          "name": "stdout",
          "text": [
            "train shape : (4000, 3)\n"
          ]
        }
      ]
    },
    {
      "cell_type": "code",
      "metadata": {
        "colab": {
          "base_uri": "https://localhost:8080/",
          "height": 206
        },
        "id": "O2sBOlx5OBd_",
        "outputId": "15f2fa03-67f9-475d-9612-20d0be07172c"
      },
      "source": [
        "test = pd.read_csv('/content/drive/MyDrive/ML/HW2/test.csv')\n",
        "test.head()"
      ],
      "execution_count": 6,
      "outputs": [
        {
          "output_type": "execute_result",
          "data": {
            "text/html": [
              "<div>\n",
              "<style scoped>\n",
              "    .dataframe tbody tr th:only-of-type {\n",
              "        vertical-align: middle;\n",
              "    }\n",
              "\n",
              "    .dataframe tbody tr th {\n",
              "        vertical-align: top;\n",
              "    }\n",
              "\n",
              "    .dataframe thead th {\n",
              "        text-align: right;\n",
              "    }\n",
              "</style>\n",
              "<table border=\"1\" class=\"dataframe\">\n",
              "  <thead>\n",
              "    <tr style=\"text-align: right;\">\n",
              "      <th></th>\n",
              "      <th>feature1</th>\n",
              "      <th>feature2</th>\n",
              "      <th>label</th>\n",
              "    </tr>\n",
              "  </thead>\n",
              "  <tbody>\n",
              "    <tr>\n",
              "      <th>0</th>\n",
              "      <td>0.932599</td>\n",
              "      <td>-0.056269</td>\n",
              "      <td>1.0</td>\n",
              "    </tr>\n",
              "    <tr>\n",
              "      <th>1</th>\n",
              "      <td>1.060621</td>\n",
              "      <td>-0.148805</td>\n",
              "      <td>1.0</td>\n",
              "    </tr>\n",
              "    <tr>\n",
              "      <th>2</th>\n",
              "      <td>-0.903985</td>\n",
              "      <td>0.654105</td>\n",
              "      <td>0.0</td>\n",
              "    </tr>\n",
              "    <tr>\n",
              "      <th>3</th>\n",
              "      <td>-0.229572</td>\n",
              "      <td>-1.122811</td>\n",
              "      <td>0.0</td>\n",
              "    </tr>\n",
              "    <tr>\n",
              "      <th>4</th>\n",
              "      <td>1.640519</td>\n",
              "      <td>-0.243509</td>\n",
              "      <td>1.0</td>\n",
              "    </tr>\n",
              "  </tbody>\n",
              "</table>\n",
              "</div>"
            ],
            "text/plain": [
              "   feature1  feature2  label\n",
              "0  0.932599 -0.056269    1.0\n",
              "1  1.060621 -0.148805    1.0\n",
              "2 -0.903985  0.654105    0.0\n",
              "3 -0.229572 -1.122811    0.0\n",
              "4  1.640519 -0.243509    1.0"
            ]
          },
          "metadata": {},
          "execution_count": 6
        }
      ]
    },
    {
      "cell_type": "code",
      "metadata": {
        "colab": {
          "base_uri": "https://localhost:8080/",
          "height": 206
        },
        "id": "pajxv-16EFP7",
        "outputId": "afc31389-40ae-4bb4-af6a-7dbf884b6c89"
      },
      "source": [
        "test['label'].replace(to_replace= 0, value = -1, inplace=True )\n",
        "test.head()"
      ],
      "execution_count": 7,
      "outputs": [
        {
          "output_type": "execute_result",
          "data": {
            "text/html": [
              "<div>\n",
              "<style scoped>\n",
              "    .dataframe tbody tr th:only-of-type {\n",
              "        vertical-align: middle;\n",
              "    }\n",
              "\n",
              "    .dataframe tbody tr th {\n",
              "        vertical-align: top;\n",
              "    }\n",
              "\n",
              "    .dataframe thead th {\n",
              "        text-align: right;\n",
              "    }\n",
              "</style>\n",
              "<table border=\"1\" class=\"dataframe\">\n",
              "  <thead>\n",
              "    <tr style=\"text-align: right;\">\n",
              "      <th></th>\n",
              "      <th>feature1</th>\n",
              "      <th>feature2</th>\n",
              "      <th>label</th>\n",
              "    </tr>\n",
              "  </thead>\n",
              "  <tbody>\n",
              "    <tr>\n",
              "      <th>0</th>\n",
              "      <td>0.932599</td>\n",
              "      <td>-0.056269</td>\n",
              "      <td>1.0</td>\n",
              "    </tr>\n",
              "    <tr>\n",
              "      <th>1</th>\n",
              "      <td>1.060621</td>\n",
              "      <td>-0.148805</td>\n",
              "      <td>1.0</td>\n",
              "    </tr>\n",
              "    <tr>\n",
              "      <th>2</th>\n",
              "      <td>-0.903985</td>\n",
              "      <td>0.654105</td>\n",
              "      <td>-1.0</td>\n",
              "    </tr>\n",
              "    <tr>\n",
              "      <th>3</th>\n",
              "      <td>-0.229572</td>\n",
              "      <td>-1.122811</td>\n",
              "      <td>-1.0</td>\n",
              "    </tr>\n",
              "    <tr>\n",
              "      <th>4</th>\n",
              "      <td>1.640519</td>\n",
              "      <td>-0.243509</td>\n",
              "      <td>1.0</td>\n",
              "    </tr>\n",
              "  </tbody>\n",
              "</table>\n",
              "</div>"
            ],
            "text/plain": [
              "   feature1  feature2  label\n",
              "0  0.932599 -0.056269    1.0\n",
              "1  1.060621 -0.148805    1.0\n",
              "2 -0.903985  0.654105   -1.0\n",
              "3 -0.229572 -1.122811   -1.0\n",
              "4  1.640519 -0.243509    1.0"
            ]
          },
          "metadata": {},
          "execution_count": 7
        }
      ]
    },
    {
      "cell_type": "code",
      "metadata": {
        "colab": {
          "base_uri": "https://localhost:8080/"
        },
        "id": "82vD-ECfOIfp",
        "outputId": "e6253af4-1d98-4363-ef66-83c1ac872380"
      },
      "source": [
        "print(f'test shape : {test.shape}')"
      ],
      "execution_count": 8,
      "outputs": [
        {
          "output_type": "stream",
          "name": "stdout",
          "text": [
            "test shape : (1000, 3)\n"
          ]
        }
      ]
    },
    {
      "cell_type": "markdown",
      "source": [
        "### Plotting train data"
      ],
      "metadata": {
        "id": "X4HQQfunfCeV"
      }
    },
    {
      "cell_type": "markdown",
      "metadata": {
        "id": "B74Lb4NDEWj1"
      },
      "source": [
        "همانطور که در شکل زیر می بینیم داده های ما بر اساس این دو ویژگی به صورت خطی جدا پذیر نیستند. پس با الگوریتم پرسپترون به خطای صفر قرار نیست برسیم و یه تعداد داده هستند که در هر صورت میس کلاسیفاید می شوند و در دسته ی درست قرار نمی گیرند."
      ]
    },
    {
      "cell_type": "code",
      "metadata": {
        "id": "Uh9D0yhW_uSZ",
        "colab": {
          "base_uri": "https://localhost:8080/",
          "height": 295
        },
        "outputId": "c831bb4b-8edd-4f14-a614-838b07103276"
      },
      "source": [
        "# plot train data\n",
        "scatter = plt.scatter(train['feature1'],train['feature2'],c=train['label'])\n",
        "plt.title('train data')\n",
        "plt.xlabel('feature1')\n",
        "plt.ylabel('feature2')\n",
        "plt.legend(*scatter.legend_elements())\n",
        "plt.show()"
      ],
      "execution_count": 9,
      "outputs": [
        {
          "output_type": "display_data",
          "data": {
            "image/png": "[encoded data removed]",
            "text/plain": [
              "<Figure size 432x288 with 1 Axes>"
            ]
          },
          "metadata": {
            "needs_background": "light"
          }
        }
      ]
    },
    {
      "cell_type": "markdown",
      "metadata": {
        "id": "c_i90FTKPxgH"
      },
      "source": [
        "Lets find the range of each features to label each axis correctly."
      ]
    },
    {
      "cell_type": "code",
      "metadata": {
        "colab": {
          "base_uri": "https://localhost:8080/"
        },
        "id": "yoA0RZXvPEHQ",
        "outputId": "8e0006a6-3eb0-4abb-c18c-f166eb0c6064"
      },
      "source": [
        "print(f'range of feature 1 is : ({min(train.feature1)}, {max(train.feature1)}))')\n",
        "print(f'range of feature 2 is : ({min(train.feature2)}, {max(train.feature2)}))')"
      ],
      "execution_count": 10,
      "outputs": [
        {
          "output_type": "stream",
          "name": "stdout",
          "text": [
            "range of feature 1 is : (-3.0444470141405446, 2.9779712359395747))\n",
            "range of feature 2 is : (-3.0051726584145118, 4.948456783319423))\n"
          ]
        }
      ]
    },
    {
      "cell_type": "markdown",
      "source": [
        "### Plotting test data"
      ],
      "metadata": {
        "id": "Lu6OvHjRfE62"
      }
    },
    {
      "cell_type": "code",
      "metadata": {
        "colab": {
          "base_uri": "https://localhost:8080/",
          "height": 295
        },
        "id": "SHCmKLCV68qi",
        "outputId": "3e0b9451-0241-4ded-bdf4-5b96d7577fb5"
      },
      "source": [
        "# plot test data\n",
        "scatter = plt.scatter(test['feature1'],test['feature2'],c=test['label'])\n",
        "plt.title('test data')\n",
        "plt.xlabel('feature1')\n",
        "plt.ylabel('feature2')\n",
        "plt.legend(*scatter.legend_elements())\n",
        "plt.show()"
      ],
      "execution_count": 11,
      "outputs": [
        {
          "output_type": "display_data",
          "data": {
            "image/png": "[encoded data removed]",
            "text/plain": [
              "<Figure size 432x288 with 1 Axes>"
            ]
          },
          "metadata": {
            "needs_background": "light"
          }
        }
      ]
    },
    {
      "cell_type": "markdown",
      "source": [
        "## Perceptron classifier"
      ],
      "metadata": {
        "id": "8ZmlMmEHfMUh"
      }
    },
    {
      "cell_type": "code",
      "metadata": {
        "id": "IiAtRV8vRmJ8"
      },
      "source": [
        "def sign(y):\n",
        "\treturn 1 if y>=0 else -1\n",
        "\n",
        "def predict(x, weights):\n",
        "\t'''calcute y_pred '''\n",
        "\ty_pred = np.dot(x, weights)\n",
        "\ty_pred = [sign(i) for i in y_pred]\n",
        "\treturn y_pred\n",
        "\n",
        "def accuracy(actual, predicted):\n",
        "\t'''Calculate accuracy percentage'''\n",
        "\tcorrect = 0\n",
        "\tfor i in range(len(actual)):\n",
        "\t\tif actual[i] == predicted[i]:\n",
        "\t\t\tcorrect += 1\n",
        "\treturn correct / float(len(actual)) * 100.0  "
      ],
      "execution_count": 12,
      "outputs": []
    },
    {
      "cell_type": "markdown",
      "metadata": {
        "id": "k6FJX9HEuQME"
      },
      "source": [
        "For plotting perceptron with 2 inputs , we consider linear equation as follows: \n",
        "\n",
        "w0*x0 + w1*x1 + w2*x2 = 0\n",
        "\n",
        "which is x0 is bias and we consider is as 1, so we have following equation:\n",
        "\n",
        "w0 + w1*x1 + w2*x2 = 0\n",
        "\n",
        "x2 = -w0/w2 - w1/w2 *x1\n",
        "\n",
        "this means:\n",
        "\n",
        "slope = -w1/w2 and intercept = -w0/w2"
      ]
    },
    {
      "cell_type": "code",
      "metadata": {
        "id": "od15ARg8tAB9"
      },
      "source": [
        "def get_df_name(df):\n",
        "    name =[x for x in globals() if globals()[x] is df][0]\n",
        "    return name\n",
        "\n",
        "def plot_percepron_classifier(data, w):\n",
        "  '''plot data points and classifier'''\n",
        "  fig, ax = plt.subplots()\n",
        "  feature1min, feature1max = min(data.feature1), max(data.feature1)\n",
        "  X = np.arange(feature1min, feature1max, 0.1) # for classifier\n",
        "  ax.scatter(data['feature1'],data['feature2'],c=data['label']) # plot data points\n",
        "\n",
        "  m = - w[1] / w[2] # slope\n",
        "  c = - w[0] / w[2] # intercept\n",
        "  print(f'slope : {m} and intercept : {c}')\n",
        "  \n",
        "  ax.plot(X, m * X + c ) # plot classifier\n",
        "  plt.title(f'{get_df_name(data)} data')\n",
        "  plt.xlabel('feature1')\n",
        "  plt.ylabel('feature2')\n",
        "  plt.legend(*scatter.legend_elements())\n",
        "  plt.show()"
      ],
      "execution_count": 13,
      "outputs": []
    },
    {
      "cell_type": "markdown",
      "metadata": {
        "id": "8JRFeMe-rnie"
      },
      "source": [
        "فرم وزن ها به صورت زیر می باشد:\n",
        "\n",
        "w = [w0, w1, w2]\n",
        "\n",
        "np.random.seed(0) =>\n",
        "به این منظور استفاده می شود تا در هر بار اجرای برنامه مقدار تصادفی یکسان باشد و در هر بار اجرا فرق نکند."
      ]
    },
    {
      "cell_type": "code",
      "metadata": {
        "id": "oSS2RArRV6k4",
        "colab": {
          "base_uri": "https://localhost:8080/"
        },
        "outputId": "2d8e53f6-d6e8-4fab-e8e0-13238896b602"
      },
      "source": [
        "np.random.seed(0)\n",
        "w = np.random.normal(0, 1, 3)\n",
        "print(f'inital weight : {w}') "
      ],
      "execution_count": 14,
      "outputs": [
        {
          "output_type": "stream",
          "name": "stdout",
          "text": [
            "inital weight : [1.76405235 0.40015721 0.97873798]\n"
          ]
        }
      ]
    },
    {
      "cell_type": "markdown",
      "metadata": {
        "id": "7NqWbeqHvpPC"
      },
      "source": [
        "در شکل زیر کلاس بند پرسپترون را با وزن اولیه رندوم می بینیم که تقریب خوبی نیست ، پس در ادامه از الگوریتم یادگیری  پرسپترون استفاده می کنیم تا خطای ما کمتر شود و به سمت وزن های بهینه حرکت کنیم و در واقع خط جداساز در جای مناسبی قرار بگیرد."
      ]
    },
    {
      "cell_type": "code",
      "metadata": {
        "colab": {
          "base_uri": "https://localhost:8080/",
          "height": 314
        },
        "id": "rntp4RTpuFEC",
        "outputId": "c1800733-a6c4-4727-9494-d1ebadcb0765"
      },
      "source": [
        "plot_percepron_classifier(train, w)"
      ],
      "execution_count": 15,
      "outputs": [
        {
          "output_type": "stream",
          "name": "stdout",
          "text": [
            "slope : -0.4088501875533542 and intercept : -1.802374460391927\n"
          ]
        },
        {
          "output_type": "display_data",
          "data": {
            "image/png": "[encoded data removed]",
            "text/plain": [
              "<Figure size 432x288 with 1 Axes>"
            ]
          },
          "metadata": {
            "needs_background": "light"
          }
        }
      ]
    },
    {
      "cell_type": "markdown",
      "source": [
        "سپس در این قسمت داده ها را به شکل مناسب در می آوریم یعنی از داده هایی که داریم دو ستون اول را به عنوان ایکس جدا می کنیم و برای مقدار بایاس یه ستون با مقادیر یک به ابتدای ماتریس یک اضافه می کنیم.\n",
        "\n",
        "برای خروجی هم ستون آخر داده را به عنوان ایگرگ جدا می کنیم"
      ],
      "metadata": {
        "id": "YA7mwoELkmuD"
      }
    },
    {
      "cell_type": "code",
      "metadata": {
        "colab": {
          "base_uri": "https://localhost:8080/"
        },
        "id": "bK-9E0lAJGZT",
        "outputId": "c0a25df4-58b5-45fa-d07a-383213e21935"
      },
      "source": [
        "n = train.shape[0] # number of data\n",
        "X_train = train.values[:, :2]\n",
        "X_train = np.append(np.ones((n, 1)), X_train, axis=1) # bias values are in the first column of X\n",
        "print(f'X_train : \\n{X_train}')\n",
        "print(f'X_train shape : {X_train.shape}')\n",
        "\n",
        "y_train = train.values[:, 2]\n",
        "print(f'y train: \\n{y_train}')\n",
        "print(f'y train shape : {y_train.shape}')"
      ],
      "execution_count": 16,
      "outputs": [
        {
          "output_type": "stream",
          "name": "stdout",
          "text": [
            "X_train : \n",
            "[[ 1.         -0.58611018 -0.97401381]\n",
            " [ 1.         -1.50363418 -0.50525685]\n",
            " [ 1.         -1.28089947 -0.15230724]\n",
            " ...\n",
            " [ 1.         -0.04169294 -1.37228904]\n",
            " [ 1.          0.23768469  0.39693034]\n",
            " [ 1.         -1.67283136  1.64919008]]\n",
            "X_train shape : (4000, 3)\n",
            "y train: \n",
            "[-1. -1. -1. ... -1.  1. -1.]\n",
            "y train shape : (4000,)\n"
          ]
        }
      ]
    },
    {
      "cell_type": "code",
      "metadata": {
        "colab": {
          "base_uri": "https://localhost:8080/"
        },
        "id": "31oR8eQdz2-P",
        "outputId": "2ccd11dd-3f65-4e5d-dfb5-eadf8e01d8dc"
      },
      "source": [
        "n_test = test.shape[0] # number of data\n",
        "X_test = test.values[:, :2]\n",
        "X_test = np.append(np.ones((n_test, 1)), X_test, axis=1) # bias values are in the first column of X\n",
        "print(f'X_test : \\n{X_test}')\n",
        "print(f'X_test shape : {X_test.shape}')\n",
        "\n",
        "y_test = test.values[:, 2]\n",
        "print(f'y test: \\n{y_test[:10]}')\n",
        "print(f'y test shape : {y_test.shape}')"
      ],
      "execution_count": 17,
      "outputs": [
        {
          "output_type": "stream",
          "name": "stdout",
          "text": [
            "X_test : \n",
            "[[ 1.          0.93259865 -0.05626874]\n",
            " [ 1.          1.06062139 -0.14880485]\n",
            " [ 1.         -0.90398542  0.65410476]\n",
            " ...\n",
            " [ 1.         -2.66854104  4.20806794]\n",
            " [ 1.         -2.05086833 -0.2049629 ]\n",
            " [ 1.          2.08066176 -1.05265046]]\n",
            "X_test shape : (1000, 3)\n",
            "y test: \n",
            "[ 1.  1. -1. -1.  1. -1.  1.  1. -1.  1.]\n",
            "y test shape : (1000,)\n"
          ]
        }
      ]
    },
    {
      "cell_type": "code",
      "metadata": {
        "id": "J3mw6VnY23Eb"
      },
      "source": [
        "def train_test_accuracy(w):\n",
        "  y_pred_train = predict(X_train, w)\n",
        "  acc_train = accuracy(y_train, y_pred_train)\n",
        "  y_pred_test = predict(X_test, w)\n",
        "  acc_test = accuracy(y_test, y_pred_test)\n",
        "\n",
        "  print(f'accuray for train data  : {acc_train}')\n",
        "  print(f'accuray for test data  : {acc_test}')"
      ],
      "execution_count": 18,
      "outputs": []
    },
    {
      "cell_type": "markdown",
      "source": [
        "همانطور که در زیر می بینیم در ابتدای کار با مقدار وزن های رندوم دقت کلاس بند ما روی داده های آموزشی وتست به ترتیب زیر است که نشان دهنده ی آن است که داده ها را به خوبی یاد نگرفته."
      ],
      "metadata": {
        "id": "rlXEzESfkkRO"
      }
    },
    {
      "cell_type": "code",
      "metadata": {
        "colab": {
          "base_uri": "https://localhost:8080/"
        },
        "id": "ea7kGrPXzemd",
        "outputId": "1531f864-6719-429a-b430-a4011b9fe0f1"
      },
      "source": [
        "train_test_accuracy(w)"
      ],
      "execution_count": 19,
      "outputs": [
        {
          "output_type": "stream",
          "name": "stdout",
          "text": [
            "accuray for train data  : 49.7\n",
            "accuray for test data  : 49.2\n"
          ]
        }
      ]
    },
    {
      "cell_type": "markdown",
      "source": [
        "### Stochastic gradient descent for Perceptron"
      ],
      "metadata": {
        "id": "u-hiqaPxll04"
      }
    },
    {
      "cell_type": "markdown",
      "source": [
        "در سلول زیر الگوریتم مربوط به کلاس پرسپترون را مشاهده می کنیم که مقدار وزن اولیه، داده های آموزشی ، برچسب داده های آموزشی، تعداد ایپاک ها و نرخ یادگیری را به عنوان ورودی دریافت می کند. \n",
        "در زیر الگوریتم گرادیان کاهشی برای پرسپترون را داریم که مقادیر وزن ها به ازای هر داده آپدیت می شود .\n",
        "و تعداد داده هایی که به درستی دشته بندی نشده اند در هر ایپاک برگردانده می شود و تا بتوانیم عملکرد کلاس بند را ارزیابی کنیم. چون داده ها به صورت خطی جدا پذیر نیستند باید برحسب معیار توقف الگوریتم را در موقعیت مناسب متوقف کنیم.\n",
        "\n",
        "در االگوریتم زیر شرط توقف تعداد ایپاک ها است. اما می توان شرط توقف را روی دقت کلاس بند روی داده های آموزشی گذاشت و اگر از یه جایی به بعد دقت کلاس بند بهبود پیدا نکرد، دیگر الگوریتم را ادامه ندهیم."
      ],
      "metadata": {
        "id": "TYwCBLlTlMC_"
      }
    },
    {
      "cell_type": "code",
      "metadata": {
        "id": "RAfOnOYzWI6u"
      },
      "source": [
        "def percepron_learning(w, X_train, y_train, epochs, learning_rate):\n",
        "\n",
        "  for epoch in range(0,epochs): # loop over epochs\n",
        "    misclassified = 0\n",
        "    for i in range(0, X_train.shape[0]): # loop over dataset\n",
        "      \n",
        "      x = X_train[i] \n",
        "      y = y_train[i]\n",
        "      y_pred = sign(np.dot(x, w))\n",
        "\n",
        "      if y_pred != y: # if x is misclassified\n",
        "        misclassified +=1\n",
        "        w = w + learning_rate* np.dot(x, y)\n",
        "\n",
        "    print(f'epoch :{epoch + 1} | misclassified : {misclassified}')  \n",
        "  \n",
        "  return w"
      ],
      "execution_count": 20,
      "outputs": []
    },
    {
      "cell_type": "markdown",
      "source": [
        "ابتدا الگوریتم را برای 100 بار تکرار می کنیم همانطور که می بینیم در ابتدا 1270 داده به درستی کلاس بندی نشده بودند و در انتهای این 100 ایپاک تعداد داده هایی که به درستی کلاس بندی نشدند به 460 داده کاهش می یابد."
      ],
      "metadata": {
        "id": "QTth93HAmjs7"
      }
    },
    {
      "cell_type": "code",
      "metadata": {
        "colab": {
          "base_uri": "https://localhost:8080/"
        },
        "id": "lVwbLUaU2RgY",
        "outputId": "5d1ff5d9-9cf9-49e3-b164-29c29be725bc"
      },
      "source": [
        "w_new = percepron_learning(w, X_train, y_train, 100, 0.001)"
      ],
      "execution_count": 21,
      "outputs": [
        {
          "output_type": "stream",
          "name": "stdout",
          "text": [
            "epoch :1 | misclassified : 1279\n",
            "epoch :2 | misclassified : 492\n",
            "epoch :3 | misclassified : 366\n",
            "epoch :4 | misclassified : 339\n",
            "epoch :5 | misclassified : 334\n",
            "epoch :6 | misclassified : 332\n",
            "epoch :7 | misclassified : 329\n",
            "epoch :8 | misclassified : 327\n",
            "epoch :9 | misclassified : 328\n",
            "epoch :10 | misclassified : 329\n",
            "epoch :11 | misclassified : 329\n",
            "epoch :12 | misclassified : 328\n",
            "epoch :13 | misclassified : 326\n",
            "epoch :14 | misclassified : 327\n",
            "epoch :15 | misclassified : 329\n",
            "epoch :16 | misclassified : 322\n",
            "epoch :17 | misclassified : 452\n",
            "epoch :18 | misclassified : 459\n",
            "epoch :19 | misclassified : 465\n",
            "epoch :20 | misclassified : 460\n",
            "epoch :21 | misclassified : 453\n",
            "epoch :22 | misclassified : 465\n",
            "epoch :23 | misclassified : 456\n",
            "epoch :24 | misclassified : 465\n",
            "epoch :25 | misclassified : 462\n",
            "epoch :26 | misclassified : 453\n",
            "epoch :27 | misclassified : 456\n",
            "epoch :28 | misclassified : 465\n",
            "epoch :29 | misclassified : 459\n",
            "epoch :30 | misclassified : 460\n",
            "epoch :31 | misclassified : 451\n",
            "epoch :32 | misclassified : 465\n",
            "epoch :33 | misclassified : 472\n",
            "epoch :34 | misclassified : 456\n",
            "epoch :35 | misclassified : 450\n",
            "epoch :36 | misclassified : 468\n",
            "epoch :37 | misclassified : 468\n",
            "epoch :38 | misclassified : 464\n",
            "epoch :39 | misclassified : 456\n",
            "epoch :40 | misclassified : 458\n",
            "epoch :41 | misclassified : 466\n",
            "epoch :42 | misclassified : 470\n",
            "epoch :43 | misclassified : 456\n",
            "epoch :44 | misclassified : 447\n",
            "epoch :45 | misclassified : 459\n",
            "epoch :46 | misclassified : 468\n",
            "epoch :47 | misclassified : 460\n",
            "epoch :48 | misclassified : 460\n",
            "epoch :49 | misclassified : 459\n",
            "epoch :50 | misclassified : 475\n",
            "epoch :51 | misclassified : 468\n",
            "epoch :52 | misclassified : 470\n",
            "epoch :53 | misclassified : 472\n",
            "epoch :54 | misclassified : 470\n",
            "epoch :55 | misclassified : 452\n",
            "epoch :56 | misclassified : 464\n",
            "epoch :57 | misclassified : 457\n",
            "epoch :58 | misclassified : 459\n",
            "epoch :59 | misclassified : 454\n",
            "epoch :60 | misclassified : 466\n",
            "epoch :61 | misclassified : 458\n",
            "epoch :62 | misclassified : 464\n",
            "epoch :63 | misclassified : 462\n",
            "epoch :64 | misclassified : 460\n",
            "epoch :65 | misclassified : 452\n",
            "epoch :66 | misclassified : 464\n",
            "epoch :67 | misclassified : 484\n",
            "epoch :68 | misclassified : 460\n",
            "epoch :69 | misclassified : 456\n",
            "epoch :70 | misclassified : 454\n",
            "epoch :71 | misclassified : 459\n",
            "epoch :72 | misclassified : 459\n",
            "epoch :73 | misclassified : 460\n",
            "epoch :74 | misclassified : 452\n",
            "epoch :75 | misclassified : 462\n",
            "epoch :76 | misclassified : 453\n",
            "epoch :77 | misclassified : 467\n",
            "epoch :78 | misclassified : 457\n",
            "epoch :79 | misclassified : 459\n",
            "epoch :80 | misclassified : 470\n",
            "epoch :81 | misclassified : 461\n",
            "epoch :82 | misclassified : 457\n",
            "epoch :83 | misclassified : 450\n",
            "epoch :84 | misclassified : 459\n",
            "epoch :85 | misclassified : 458\n",
            "epoch :86 | misclassified : 442\n",
            "epoch :87 | misclassified : 461\n",
            "epoch :88 | misclassified : 466\n",
            "epoch :89 | misclassified : 460\n",
            "epoch :90 | misclassified : 466\n",
            "epoch :91 | misclassified : 460\n",
            "epoch :92 | misclassified : 474\n",
            "epoch :93 | misclassified : 472\n",
            "epoch :94 | misclassified : 453\n",
            "epoch :95 | misclassified : 477\n",
            "epoch :96 | misclassified : 472\n",
            "epoch :97 | misclassified : 466\n",
            "epoch :98 | misclassified : 468\n",
            "epoch :99 | misclassified : 462\n",
            "epoch :100 | misclassified : 460\n"
          ]
        }
      ]
    },
    {
      "cell_type": "markdown",
      "source": [
        "در زیر وزنی را که در انتهای این 100 ایپاک می رسیم را چاپ می کنیم و از آن برای محاسبه دقت کلاس بند روی داده های آموزشی و تست استفاده می کنیم."
      ],
      "metadata": {
        "id": "fiZHzJfHm1kU"
      }
    },
    {
      "cell_type": "code",
      "metadata": {
        "colab": {
          "base_uri": "https://localhost:8080/"
        },
        "id": "Cv0Wo9C13XmT",
        "outputId": "0acbc5e1-f191-4b34-c275-b43f1998f650"
      },
      "source": [
        "print(f'w new : {w_new}')"
      ],
      "execution_count": 22,
      "outputs": [
        {
          "output_type": "stream",
          "name": "stdout",
          "text": [
            "w new : [5.23459677e-05 4.02562714e-03 3.81836054e-04]\n"
          ]
        }
      ]
    },
    {
      "cell_type": "markdown",
      "source": [
        "در زیر دقت کلاس بند روی داده های آموزشی و تست را بعد از 100 ایپاک می بینیم."
      ],
      "metadata": {
        "id": "T-l6GY5dnEFE"
      }
    },
    {
      "cell_type": "code",
      "metadata": {
        "colab": {
          "base_uri": "https://localhost:8080/"
        },
        "id": "Tl2HreKs2xlu",
        "outputId": "b749cf0d-1ba4-457f-ee5e-af243eec0432"
      },
      "source": [
        "train_test_accuracy(w_new)"
      ],
      "execution_count": 23,
      "outputs": [
        {
          "output_type": "stream",
          "name": "stdout",
          "text": [
            "accuray for train data  : 91.025\n",
            "accuray for test data  : 91.60000000000001\n"
          ]
        }
      ]
    },
    {
      "cell_type": "code",
      "metadata": {
        "colab": {
          "base_uri": "https://localhost:8080/",
          "height": 314
        },
        "id": "Spcw0sgW3gb-",
        "outputId": "0de07d57-725a-40a3-b75b-0459668bdd9f"
      },
      "source": [
        "plot_percepron_classifier(train, w_new)"
      ],
      "execution_count": 24,
      "outputs": [
        {
          "output_type": "stream",
          "name": "stdout",
          "text": [
            "slope : -10.54281569027015 and intercept : -0.13709016524749681\n"
          ]
        },
        {
          "output_type": "display_data",
          "data": {
            "image/png": "[encoded data removed]",
            "text/plain": [
              "<Figure size 432x288 with 1 Axes>"
            ]
          },
          "metadata": {
            "needs_background": "light"
          }
        }
      ]
    },
    {
      "cell_type": "code",
      "source": [
        "plot_percepron_classifier(test, w_new)"
      ],
      "metadata": {
        "colab": {
          "base_uri": "https://localhost:8080/",
          "height": 314
        },
        "id": "e-UtOApGnvs8",
        "outputId": "e9549f50-cbcd-4faa-ff54-f29264f42f02"
      },
      "execution_count": 25,
      "outputs": [
        {
          "output_type": "stream",
          "name": "stdout",
          "text": [
            "slope : -10.54281569027015 and intercept : -0.13709016524749681\n"
          ]
        },
        {
          "output_type": "display_data",
          "data": {
            "image/png": "[encoded data removed]",
            "text/plain": [
              "<Figure size 432x288 with 1 Axes>"
            ]
          },
          "metadata": {
            "needs_background": "light"
          }
        }
      ]
    },
    {
      "cell_type": "markdown",
      "metadata": {
        "id": "jbuGDKbP34vn"
      },
      "source": [
        "همانطور که در شکل های بالا می بینیم این خط تا حدودی توانسته داده های دو کلاس را از هم جدا کند و نسبت به وزن اولیه در جای مناسبی قرار گرفته است. اما همچنان داده هایی هستند که به درستی کلاس بندی نشدند . طبق الگوریتم یادگیری تا ایپاک100 ، هنوز 460 داده به درستی کلاس بندی نشدند. پس تعداد تکرار را افزایش می دهیم. تا ببینیم دقت چه تغییری می کند."
      ]
    },
    {
      "cell_type": "code",
      "metadata": {
        "colab": {
          "base_uri": "https://localhost:8080/"
        },
        "id": "dRbrSk2G3kMu",
        "outputId": "afbfae2d-7170-46cd-f4a1-b7e8b6549351"
      },
      "source": [
        "w_new = percepron_learning(w, X_train, y_train, 1500, 0.001)"
      ],
      "execution_count": 26,
      "outputs": [
        {
          "output_type": "stream",
          "name": "stdout",
          "text": [
            "epoch :1 | misclassified : 1279\n",
            "epoch :2 | misclassified : 492\n",
            "epoch :3 | misclassified : 366\n",
            "epoch :4 | misclassified : 339\n",
            "epoch :5 | misclassified : 334\n",
            "epoch :6 | misclassified : 332\n",
            "epoch :7 | misclassified : 329\n",
            "epoch :8 | misclassified : 327\n",
            "epoch :9 | misclassified : 328\n",
            "epoch :10 | misclassified : 329\n",
            "epoch :11 | misclassified : 329\n",
            "epoch :12 | misclassified : 328\n",
            "epoch :13 | misclassified : 326\n",
            "epoch :14 | misclassified : 327\n",
            "epoch :15 | misclassified : 329\n",
            "epoch :16 | misclassified : 322\n",
            "epoch :17 | misclassified : 452\n",
            "epoch :18 | misclassified : 459\n",
            "epoch :19 | misclassified : 465\n",
            "epoch :20 | misclassified : 460\n",
            "epoch :21 | misclassified : 453\n",
            "epoch :22 | misclassified : 465\n",
            "epoch :23 | misclassified : 456\n",
            "epoch :24 | misclassified : 465\n",
            "epoch :25 | misclassified : 462\n",
            "epoch :26 | misclassified : 453\n",
            "epoch :27 | misclassified : 456\n",
            "epoch :28 | misclassified : 465\n",
            "epoch :29 | misclassified : 459\n",
            "epoch :30 | misclassified : 460\n",
            "epoch :31 | misclassified : 451\n",
            "epoch :32 | misclassified : 465\n",
            "epoch :33 | misclassified : 472\n",
            "epoch :34 | misclassified : 456\n",
            "epoch :35 | misclassified : 450\n",
            "epoch :36 | misclassified : 468\n",
            "epoch :37 | misclassified : 468\n",
            "epoch :38 | misclassified : 464\n",
            "epoch :39 | misclassified : 456\n",
            "epoch :40 | misclassified : 458\n",
            "epoch :41 | misclassified : 466\n",
            "epoch :42 | misclassified : 470\n",
            "epoch :43 | misclassified : 456\n",
            "epoch :44 | misclassified : 447\n",
            "epoch :45 | misclassified : 459\n",
            "epoch :46 | misclassified : 468\n",
            "epoch :47 | misclassified : 460\n",
            "epoch :48 | misclassified : 460\n",
            "epoch :49 | misclassified : 459\n",
            "epoch :50 | misclassified : 475\n",
            "epoch :51 | misclassified : 468\n",
            "epoch :52 | misclassified : 470\n",
            "epoch :53 | misclassified : 472\n",
            "epoch :54 | misclassified : 470\n",
            "epoch :55 | misclassified : 452\n",
            "epoch :56 | misclassified : 464\n",
            "epoch :57 | misclassified : 457\n",
            "epoch :58 | misclassified : 459\n",
            "epoch :59 | misclassified : 454\n",
            "epoch :60 | misclassified : 466\n",
            "epoch :61 | misclassified : 458\n",
            "epoch :62 | misclassified : 464\n",
            "epoch :63 | misclassified : 462\n",
            "epoch :64 | misclassified : 460\n",
            "epoch :65 | misclassified : 452\n",
            "epoch :66 | misclassified : 464\n",
            "epoch :67 | misclassified : 484\n",
            "epoch :68 | misclassified : 460\n",
            "epoch :69 | misclassified : 456\n",
            "epoch :70 | misclassified : 454\n",
            "epoch :71 | misclassified : 459\n",
            "epoch :72 | misclassified : 459\n",
            "epoch :73 | misclassified : 460\n",
            "epoch :74 | misclassified : 452\n",
            "epoch :75 | misclassified : 462\n",
            "epoch :76 | misclassified : 453\n",
            "epoch :77 | misclassified : 467\n",
            "epoch :78 | misclassified : 457\n",
            "epoch :79 | misclassified : 459\n",
            "epoch :80 | misclassified : 470\n",
            "epoch :81 | misclassified : 461\n",
            "epoch :82 | misclassified : 457\n",
            "epoch :83 | misclassified : 450\n",
            "epoch :84 | misclassified : 459\n",
            "epoch :85 | misclassified : 458\n",
            "epoch :86 | misclassified : 442\n",
            "epoch :87 | misclassified : 461\n",
            "epoch :88 | misclassified : 466\n",
            "epoch :89 | misclassified : 460\n",
            "epoch :90 | misclassified : 466\n",
            "epoch :91 | misclassified : 460\n",
            "epoch :92 | misclassified : 474\n",
            "epoch :93 | misclassified : 472\n",
            "epoch :94 | misclassified : 453\n",
            "epoch :95 | misclassified : 477\n",
            "epoch :96 | misclassified : 472\n",
            "epoch :97 | misclassified : 466\n",
            "epoch :98 | misclassified : 468\n",
            "epoch :99 | misclassified : 462\n",
            "epoch :100 | misclassified : 460\n",
            "epoch :101 | misclassified : 459\n",
            "epoch :102 | misclassified : 459\n",
            "epoch :103 | misclassified : 453\n",
            "epoch :104 | misclassified : 448\n",
            "epoch :105 | misclassified : 461\n",
            "epoch :106 | misclassified : 462\n",
            "epoch :107 | misclassified : 453\n",
            "epoch :108 | misclassified : 453\n",
            "epoch :109 | misclassified : 463\n",
            "epoch :110 | misclassified : 465\n",
            "epoch :111 | misclassified : 462\n",
            "epoch :112 | misclassified : 453\n",
            "epoch :113 | misclassified : 469\n",
            "epoch :114 | misclassified : 445\n",
            "epoch :115 | misclassified : 471\n",
            "epoch :116 | misclassified : 468\n",
            "epoch :117 | misclassified : 454\n",
            "epoch :118 | misclassified : 468\n",
            "epoch :119 | misclassified : 456\n",
            "epoch :120 | misclassified : 462\n",
            "epoch :121 | misclassified : 484\n",
            "epoch :122 | misclassified : 462\n",
            "epoch :123 | misclassified : 463\n",
            "epoch :124 | misclassified : 458\n",
            "epoch :125 | misclassified : 465\n",
            "epoch :126 | misclassified : 456\n",
            "epoch :127 | misclassified : 460\n",
            "epoch :128 | misclassified : 464\n",
            "epoch :129 | misclassified : 466\n",
            "epoch :130 | misclassified : 452\n",
            "epoch :131 | misclassified : 468\n",
            "epoch :132 | misclassified : 458\n",
            "epoch :133 | misclassified : 459\n",
            "epoch :134 | misclassified : 455\n",
            "epoch :135 | misclassified : 466\n",
            "epoch :136 | misclassified : 466\n",
            "epoch :137 | misclassified : 454\n",
            "epoch :138 | misclassified : 468\n",
            "epoch :139 | misclassified : 458\n",
            "epoch :140 | misclassified : 462\n",
            "epoch :141 | misclassified : 460\n",
            "epoch :142 | misclassified : 464\n",
            "epoch :143 | misclassified : 466\n",
            "epoch :144 | misclassified : 455\n",
            "epoch :145 | misclassified : 459\n",
            "epoch :146 | misclassified : 458\n",
            "epoch :147 | misclassified : 475\n",
            "epoch :148 | misclassified : 473\n",
            "epoch :149 | misclassified : 454\n",
            "epoch :150 | misclassified : 458\n",
            "epoch :151 | misclassified : 466\n",
            "epoch :152 | misclassified : 470\n",
            "epoch :153 | misclassified : 456\n",
            "epoch :154 | misclassified : 447\n",
            "epoch :155 | misclassified : 457\n",
            "epoch :156 | misclassified : 463\n",
            "epoch :157 | misclassified : 455\n",
            "epoch :158 | misclassified : 454\n",
            "epoch :159 | misclassified : 466\n",
            "epoch :160 | misclassified : 466\n",
            "epoch :161 | misclassified : 468\n",
            "epoch :162 | misclassified : 466\n",
            "epoch :163 | misclassified : 464\n",
            "epoch :164 | misclassified : 456\n",
            "epoch :165 | misclassified : 457\n",
            "epoch :166 | misclassified : 453\n",
            "epoch :167 | misclassified : 464\n",
            "epoch :168 | misclassified : 468\n",
            "epoch :169 | misclassified : 464\n",
            "epoch :170 | misclassified : 464\n",
            "epoch :171 | misclassified : 452\n",
            "epoch :172 | misclassified : 456\n",
            "epoch :173 | misclassified : 461\n",
            "epoch :174 | misclassified : 467\n",
            "epoch :175 | misclassified : 457\n",
            "epoch :176 | misclassified : 471\n",
            "epoch :177 | misclassified : 460\n",
            "epoch :178 | misclassified : 457\n",
            "epoch :179 | misclassified : 459\n",
            "epoch :180 | misclassified : 468\n",
            "epoch :181 | misclassified : 464\n",
            "epoch :182 | misclassified : 456\n",
            "epoch :183 | misclassified : 464\n",
            "epoch :184 | misclassified : 459\n",
            "epoch :185 | misclassified : 477\n",
            "epoch :186 | misclassified : 462\n",
            "epoch :187 | misclassified : 464\n",
            "epoch :188 | misclassified : 452\n",
            "epoch :189 | misclassified : 456\n",
            "epoch :190 | misclassified : 456\n",
            "epoch :191 | misclassified : 462\n",
            "epoch :192 | misclassified : 462\n",
            "epoch :193 | misclassified : 454\n",
            "epoch :194 | misclassified : 468\n",
            "epoch :195 | misclassified : 464\n",
            "epoch :196 | misclassified : 460\n",
            "epoch :197 | misclassified : 453\n",
            "epoch :198 | misclassified : 458\n",
            "epoch :199 | misclassified : 455\n",
            "epoch :200 | misclassified : 476\n",
            "epoch :201 | misclassified : 457\n",
            "epoch :202 | misclassified : 459\n",
            "epoch :203 | misclassified : 463\n",
            "epoch :204 | misclassified : 452\n",
            "epoch :205 | misclassified : 453\n",
            "epoch :206 | misclassified : 456\n",
            "epoch :207 | misclassified : 465\n",
            "epoch :208 | misclassified : 459\n",
            "epoch :209 | misclassified : 460\n",
            "epoch :210 | misclassified : 451\n",
            "epoch :211 | misclassified : 465\n",
            "epoch :212 | misclassified : 472\n",
            "epoch :213 | misclassified : 459\n",
            "epoch :214 | misclassified : 475\n",
            "epoch :215 | misclassified : 454\n",
            "epoch :216 | misclassified : 454\n",
            "epoch :217 | misclassified : 459\n",
            "epoch :218 | misclassified : 458\n",
            "epoch :219 | misclassified : 469\n",
            "epoch :220 | misclassified : 454\n",
            "epoch :221 | misclassified : 465\n",
            "epoch :222 | misclassified : 464\n",
            "epoch :223 | misclassified : 445\n",
            "epoch :224 | misclassified : 456\n",
            "epoch :225 | misclassified : 456\n",
            "epoch :226 | misclassified : 458\n",
            "epoch :227 | misclassified : 460\n",
            "epoch :228 | misclassified : 466\n",
            "epoch :229 | misclassified : 450\n",
            "epoch :230 | misclassified : 460\n",
            "epoch :231 | misclassified : 452\n",
            "epoch :232 | misclassified : 466\n",
            "epoch :233 | misclassified : 448\n",
            "epoch :234 | misclassified : 460\n",
            "epoch :235 | misclassified : 455\n",
            "epoch :236 | misclassified : 455\n",
            "epoch :237 | misclassified : 474\n",
            "epoch :238 | misclassified : 449\n",
            "epoch :239 | misclassified : 451\n",
            "epoch :240 | misclassified : 464\n",
            "epoch :241 | misclassified : 468\n",
            "epoch :242 | misclassified : 455\n",
            "epoch :243 | misclassified : 455\n",
            "epoch :244 | misclassified : 457\n",
            "epoch :245 | misclassified : 453\n",
            "epoch :246 | misclassified : 464\n",
            "epoch :247 | misclassified : 468\n",
            "epoch :248 | misclassified : 462\n",
            "epoch :249 | misclassified : 457\n",
            "epoch :250 | misclassified : 457\n",
            "epoch :251 | misclassified : 464\n",
            "epoch :252 | misclassified : 450\n",
            "epoch :253 | misclassified : 468\n",
            "epoch :254 | misclassified : 460\n",
            "epoch :255 | misclassified : 472\n",
            "epoch :256 | misclassified : 478\n",
            "epoch :257 | misclassified : 464\n",
            "epoch :258 | misclassified : 454\n",
            "epoch :259 | misclassified : 466\n",
            "epoch :260 | misclassified : 466\n",
            "epoch :261 | misclassified : 462\n",
            "epoch :262 | misclassified : 464\n",
            "epoch :263 | misclassified : 472\n",
            "epoch :264 | misclassified : 450\n",
            "epoch :265 | misclassified : 467\n",
            "epoch :266 | misclassified : 466\n",
            "epoch :267 | misclassified : 462\n",
            "epoch :268 | misclassified : 477\n",
            "epoch :269 | misclassified : 474\n",
            "epoch :270 | misclassified : 476\n",
            "epoch :271 | misclassified : 452\n",
            "epoch :272 | misclassified : 453\n",
            "epoch :273 | misclassified : 448\n",
            "epoch :274 | misclassified : 465\n",
            "epoch :275 | misclassified : 465\n",
            "epoch :276 | misclassified : 477\n",
            "epoch :277 | misclassified : 457\n",
            "epoch :278 | misclassified : 457\n",
            "epoch :279 | misclassified : 467\n",
            "epoch :280 | misclassified : 466\n",
            "epoch :281 | misclassified : 462\n",
            "epoch :282 | misclassified : 477\n",
            "epoch :283 | misclassified : 474\n",
            "epoch :284 | misclassified : 466\n",
            "epoch :285 | misclassified : 470\n",
            "epoch :286 | misclassified : 456\n",
            "epoch :287 | misclassified : 447\n",
            "epoch :288 | misclassified : 459\n",
            "epoch :289 | misclassified : 468\n",
            "epoch :290 | misclassified : 460\n",
            "epoch :291 | misclassified : 460\n",
            "epoch :292 | misclassified : 464\n",
            "epoch :293 | misclassified : 468\n",
            "epoch :294 | misclassified : 464\n",
            "epoch :295 | misclassified : 454\n",
            "epoch :296 | misclassified : 462\n",
            "epoch :297 | misclassified : 460\n",
            "epoch :298 | misclassified : 464\n",
            "epoch :299 | misclassified : 462\n",
            "epoch :300 | misclassified : 460\n",
            "epoch :301 | misclassified : 454\n",
            "epoch :302 | misclassified : 464\n",
            "epoch :303 | misclassified : 450\n",
            "epoch :304 | misclassified : 468\n",
            "epoch :305 | misclassified : 460\n",
            "epoch :306 | misclassified : 465\n",
            "epoch :307 | misclassified : 461\n",
            "epoch :308 | misclassified : 452\n",
            "epoch :309 | misclassified : 453\n",
            "epoch :310 | misclassified : 453\n",
            "epoch :311 | misclassified : 463\n",
            "epoch :312 | misclassified : 465\n",
            "epoch :313 | misclassified : 468\n",
            "epoch :314 | misclassified : 457\n",
            "epoch :315 | misclassified : 451\n",
            "epoch :316 | misclassified : 449\n",
            "epoch :317 | misclassified : 462\n",
            "epoch :318 | misclassified : 471\n",
            "epoch :319 | misclassified : 453\n",
            "epoch :320 | misclassified : 465\n",
            "epoch :321 | misclassified : 456\n",
            "epoch :322 | misclassified : 465\n",
            "epoch :323 | misclassified : 462\n",
            "epoch :324 | misclassified : 475\n",
            "epoch :325 | misclassified : 456\n",
            "epoch :326 | misclassified : 462\n",
            "epoch :327 | misclassified : 466\n",
            "epoch :328 | misclassified : 458\n",
            "epoch :329 | misclassified : 454\n",
            "epoch :330 | misclassified : 458\n",
            "epoch :331 | misclassified : 480\n",
            "epoch :332 | misclassified : 472\n",
            "epoch :333 | misclassified : 466\n",
            "epoch :334 | misclassified : 460\n",
            "epoch :335 | misclassified : 454\n",
            "epoch :336 | misclassified : 454\n",
            "epoch :337 | misclassified : 458\n",
            "epoch :338 | misclassified : 468\n",
            "epoch :339 | misclassified : 470\n",
            "epoch :340 | misclassified : 466\n",
            "epoch :341 | misclassified : 470\n",
            "epoch :342 | misclassified : 470\n",
            "epoch :343 | misclassified : 456\n",
            "epoch :344 | misclassified : 466\n",
            "epoch :345 | misclassified : 455\n",
            "epoch :346 | misclassified : 460\n",
            "epoch :347 | misclassified : 453\n",
            "epoch :348 | misclassified : 456\n",
            "epoch :349 | misclassified : 458\n",
            "epoch :350 | misclassified : 452\n",
            "epoch :351 | misclassified : 454\n",
            "epoch :352 | misclassified : 474\n",
            "epoch :353 | misclassified : 468\n",
            "epoch :354 | misclassified : 455\n",
            "epoch :355 | misclassified : 463\n",
            "epoch :356 | misclassified : 470\n",
            "epoch :357 | misclassified : 457\n",
            "epoch :358 | misclassified : 465\n",
            "epoch :359 | misclassified : 468\n",
            "epoch :360 | misclassified : 464\n",
            "epoch :361 | misclassified : 464\n",
            "epoch :362 | misclassified : 452\n",
            "epoch :363 | misclassified : 456\n",
            "epoch :364 | misclassified : 461\n",
            "epoch :365 | misclassified : 467\n",
            "epoch :366 | misclassified : 457\n",
            "epoch :367 | misclassified : 471\n",
            "epoch :368 | misclassified : 460\n",
            "epoch :369 | misclassified : 468\n",
            "epoch :370 | misclassified : 461\n",
            "epoch :371 | misclassified : 459\n",
            "epoch :372 | misclassified : 459\n",
            "epoch :373 | misclassified : 448\n",
            "epoch :374 | misclassified : 465\n",
            "epoch :375 | misclassified : 464\n",
            "epoch :376 | misclassified : 464\n",
            "epoch :377 | misclassified : 462\n",
            "epoch :378 | misclassified : 460\n",
            "epoch :379 | misclassified : 454\n",
            "epoch :380 | misclassified : 464\n",
            "epoch :381 | misclassified : 450\n",
            "epoch :382 | misclassified : 468\n",
            "epoch :383 | misclassified : 460\n",
            "epoch :384 | misclassified : 463\n",
            "epoch :385 | misclassified : 460\n",
            "epoch :386 | misclassified : 459\n",
            "epoch :387 | misclassified : 463\n",
            "epoch :388 | misclassified : 455\n",
            "epoch :389 | misclassified : 454\n",
            "epoch :390 | misclassified : 456\n",
            "epoch :391 | misclassified : 460\n",
            "epoch :392 | misclassified : 463\n",
            "epoch :393 | misclassified : 481\n",
            "epoch :394 | misclassified : 466\n",
            "epoch :395 | misclassified : 460\n",
            "epoch :396 | misclassified : 465\n",
            "epoch :397 | misclassified : 477\n",
            "epoch :398 | misclassified : 460\n",
            "epoch :399 | misclassified : 470\n",
            "epoch :400 | misclassified : 458\n",
            "epoch :401 | misclassified : 454\n",
            "epoch :402 | misclassified : 457\n",
            "epoch :403 | misclassified : 453\n",
            "epoch :404 | misclassified : 456\n",
            "epoch :405 | misclassified : 466\n",
            "epoch :406 | misclassified : 468\n",
            "epoch :407 | misclassified : 459\n",
            "epoch :408 | misclassified : 459\n",
            "epoch :409 | misclassified : 484\n",
            "epoch :410 | misclassified : 450\n",
            "epoch :411 | misclassified : 468\n",
            "epoch :412 | misclassified : 460\n",
            "epoch :413 | misclassified : 463\n",
            "epoch :414 | misclassified : 460\n",
            "epoch :415 | misclassified : 459\n",
            "epoch :416 | misclassified : 464\n",
            "epoch :417 | misclassified : 462\n",
            "epoch :418 | misclassified : 464\n",
            "epoch :419 | misclassified : 456\n",
            "epoch :420 | misclassified : 457\n",
            "epoch :421 | misclassified : 450\n",
            "epoch :422 | misclassified : 459\n",
            "epoch :423 | misclassified : 445\n",
            "epoch :424 | misclassified : 471\n",
            "epoch :425 | misclassified : 462\n",
            "epoch :426 | misclassified : 466\n",
            "epoch :427 | misclassified : 458\n",
            "epoch :428 | misclassified : 454\n",
            "epoch :429 | misclassified : 458\n",
            "epoch :430 | misclassified : 480\n",
            "epoch :431 | misclassified : 474\n",
            "epoch :432 | misclassified : 476\n",
            "epoch :433 | misclassified : 452\n",
            "epoch :434 | misclassified : 453\n",
            "epoch :435 | misclassified : 448\n",
            "epoch :436 | misclassified : 465\n",
            "epoch :437 | misclassified : 464\n",
            "epoch :438 | misclassified : 464\n",
            "epoch :439 | misclassified : 466\n",
            "epoch :440 | misclassified : 456\n",
            "epoch :441 | misclassified : 484\n",
            "epoch :442 | misclassified : 468\n",
            "epoch :443 | misclassified : 466\n",
            "epoch :444 | misclassified : 458\n",
            "epoch :445 | misclassified : 454\n",
            "epoch :446 | misclassified : 458\n",
            "epoch :447 | misclassified : 466\n",
            "epoch :448 | misclassified : 470\n",
            "epoch :449 | misclassified : 456\n",
            "epoch :450 | misclassified : 447\n",
            "epoch :451 | misclassified : 459\n",
            "epoch :452 | misclassified : 468\n",
            "epoch :453 | misclassified : 460\n",
            "epoch :454 | misclassified : 460\n",
            "epoch :455 | misclassified : 464\n",
            "epoch :456 | misclassified : 468\n",
            "epoch :457 | misclassified : 464\n",
            "epoch :458 | misclassified : 458\n",
            "epoch :459 | misclassified : 457\n",
            "epoch :460 | misclassified : 459\n",
            "epoch :461 | misclassified : 460\n",
            "epoch :462 | misclassified : 474\n",
            "epoch :463 | misclassified : 448\n",
            "epoch :464 | misclassified : 472\n",
            "epoch :465 | misclassified : 469\n",
            "epoch :466 | misclassified : 455\n",
            "epoch :467 | misclassified : 453\n",
            "epoch :468 | misclassified : 459\n",
            "epoch :469 | misclassified : 466\n",
            "epoch :470 | misclassified : 452\n",
            "epoch :471 | misclassified : 475\n",
            "epoch :472 | misclassified : 477\n",
            "epoch :473 | misclassified : 464\n",
            "epoch :474 | misclassified : 466\n",
            "epoch :475 | misclassified : 445\n",
            "epoch :476 | misclassified : 471\n",
            "epoch :477 | misclassified : 472\n",
            "epoch :478 | misclassified : 464\n",
            "epoch :479 | misclassified : 470\n",
            "epoch :480 | misclassified : 461\n",
            "epoch :481 | misclassified : 466\n",
            "epoch :482 | misclassified : 455\n",
            "epoch :483 | misclassified : 466\n",
            "epoch :484 | misclassified : 460\n",
            "epoch :485 | misclassified : 451\n",
            "epoch :486 | misclassified : 457\n",
            "epoch :487 | misclassified : 450\n",
            "epoch :488 | misclassified : 458\n",
            "epoch :489 | misclassified : 464\n",
            "epoch :490 | misclassified : 455\n",
            "epoch :491 | misclassified : 475\n",
            "epoch :492 | misclassified : 465\n",
            "epoch :493 | misclassified : 455\n",
            "epoch :494 | misclassified : 456\n",
            "epoch :495 | misclassified : 461\n",
            "epoch :496 | misclassified : 454\n",
            "epoch :497 | misclassified : 448\n",
            "epoch :498 | misclassified : 467\n",
            "epoch :499 | misclassified : 460\n",
            "epoch :500 | misclassified : 458\n",
            "epoch :501 | misclassified : 458\n",
            "epoch :502 | misclassified : 461\n",
            "epoch :503 | misclassified : 463\n",
            "epoch :504 | misclassified : 455\n",
            "epoch :505 | misclassified : 475\n",
            "epoch :506 | misclassified : 452\n",
            "epoch :507 | misclassified : 458\n",
            "epoch :508 | misclassified : 475\n",
            "epoch :509 | misclassified : 462\n",
            "epoch :510 | misclassified : 479\n",
            "epoch :511 | misclassified : 468\n",
            "epoch :512 | misclassified : 459\n",
            "epoch :513 | misclassified : 467\n",
            "epoch :514 | misclassified : 468\n",
            "epoch :515 | misclassified : 468\n",
            "epoch :516 | misclassified : 454\n",
            "epoch :517 | misclassified : 460\n",
            "epoch :518 | misclassified : 458\n",
            "epoch :519 | misclassified : 452\n",
            "epoch :520 | misclassified : 478\n",
            "epoch :521 | misclassified : 468\n",
            "epoch :522 | misclassified : 470\n",
            "epoch :523 | misclassified : 468\n",
            "epoch :524 | misclassified : 461\n",
            "epoch :525 | misclassified : 459\n",
            "epoch :526 | misclassified : 459\n",
            "epoch :527 | misclassified : 448\n",
            "epoch :528 | misclassified : 463\n",
            "epoch :529 | misclassified : 457\n",
            "epoch :530 | misclassified : 454\n",
            "epoch :531 | misclassified : 448\n",
            "epoch :532 | misclassified : 465\n",
            "epoch :533 | misclassified : 464\n",
            "epoch :534 | misclassified : 464\n",
            "epoch :535 | misclassified : 466\n",
            "epoch :536 | misclassified : 456\n",
            "epoch :537 | misclassified : 484\n",
            "epoch :538 | misclassified : 468\n",
            "epoch :539 | misclassified : 466\n",
            "epoch :540 | misclassified : 458\n",
            "epoch :541 | misclassified : 454\n",
            "epoch :542 | misclassified : 458\n",
            "epoch :543 | misclassified : 466\n",
            "epoch :544 | misclassified : 470\n",
            "epoch :545 | misclassified : 456\n",
            "epoch :546 | misclassified : 447\n",
            "epoch :547 | misclassified : 459\n",
            "epoch :548 | misclassified : 468\n",
            "epoch :549 | misclassified : 460\n",
            "epoch :550 | misclassified : 460\n",
            "epoch :551 | misclassified : 459\n",
            "epoch :552 | misclassified : 465\n",
            "epoch :553 | misclassified : 472\n",
            "epoch :554 | misclassified : 456\n",
            "epoch :555 | misclassified : 450\n",
            "epoch :556 | misclassified : 468\n",
            "epoch :557 | misclassified : 460\n",
            "epoch :558 | misclassified : 463\n",
            "epoch :559 | misclassified : 467\n",
            "epoch :560 | misclassified : 466\n",
            "epoch :561 | misclassified : 459\n",
            "epoch :562 | misclassified : 477\n",
            "epoch :563 | misclassified : 452\n",
            "epoch :564 | misclassified : 461\n",
            "epoch :565 | misclassified : 469\n",
            "epoch :566 | misclassified : 462\n",
            "epoch :567 | misclassified : 452\n",
            "epoch :568 | misclassified : 472\n",
            "epoch :569 | misclassified : 468\n",
            "epoch :570 | misclassified : 459\n",
            "epoch :571 | misclassified : 467\n",
            "epoch :572 | misclassified : 468\n",
            "epoch :573 | misclassified : 472\n",
            "epoch :574 | misclassified : 461\n",
            "epoch :575 | misclassified : 454\n",
            "epoch :576 | misclassified : 448\n",
            "epoch :577 | misclassified : 465\n",
            "epoch :578 | misclassified : 465\n",
            "epoch :579 | misclassified : 477\n",
            "epoch :580 | misclassified : 460\n",
            "epoch :581 | misclassified : 457\n",
            "epoch :582 | misclassified : 451\n",
            "epoch :583 | misclassified : 449\n",
            "epoch :584 | misclassified : 448\n",
            "epoch :585 | misclassified : 467\n",
            "epoch :586 | misclassified : 457\n",
            "epoch :587 | misclassified : 465\n",
            "epoch :588 | misclassified : 468\n",
            "epoch :589 | misclassified : 462\n",
            "epoch :590 | misclassified : 458\n",
            "epoch :591 | misclassified : 468\n",
            "epoch :592 | misclassified : 449\n",
            "epoch :593 | misclassified : 468\n",
            "epoch :594 | misclassified : 462\n",
            "epoch :595 | misclassified : 465\n",
            "epoch :596 | misclassified : 465\n",
            "epoch :597 | misclassified : 477\n",
            "epoch :598 | misclassified : 462\n",
            "epoch :599 | misclassified : 460\n",
            "epoch :600 | misclassified : 455\n",
            "epoch :601 | misclassified : 463\n",
            "epoch :602 | misclassified : 449\n",
            "epoch :603 | misclassified : 465\n",
            "epoch :604 | misclassified : 454\n",
            "epoch :605 | misclassified : 454\n",
            "epoch :606 | misclassified : 458\n",
            "epoch :607 | misclassified : 476\n",
            "epoch :608 | misclassified : 452\n",
            "epoch :609 | misclassified : 453\n",
            "epoch :610 | misclassified : 448\n",
            "epoch :611 | misclassified : 465\n",
            "epoch :612 | misclassified : 465\n",
            "epoch :613 | misclassified : 477\n",
            "epoch :614 | misclassified : 465\n",
            "epoch :615 | misclassified : 459\n",
            "epoch :616 | misclassified : 461\n",
            "epoch :617 | misclassified : 467\n",
            "epoch :618 | misclassified : 470\n",
            "epoch :619 | misclassified : 454\n",
            "epoch :620 | misclassified : 466\n",
            "epoch :621 | misclassified : 458\n",
            "epoch :622 | misclassified : 464\n",
            "epoch :623 | misclassified : 472\n",
            "epoch :624 | misclassified : 460\n",
            "epoch :625 | misclassified : 470\n",
            "epoch :626 | misclassified : 470\n",
            "epoch :627 | misclassified : 456\n",
            "epoch :628 | misclassified : 466\n",
            "epoch :629 | misclassified : 455\n",
            "epoch :630 | misclassified : 460\n",
            "epoch :631 | misclassified : 455\n",
            "epoch :632 | misclassified : 457\n",
            "epoch :633 | misclassified : 453\n",
            "epoch :634 | misclassified : 464\n",
            "epoch :635 | misclassified : 468\n",
            "epoch :636 | misclassified : 464\n",
            "epoch :637 | misclassified : 464\n",
            "epoch :638 | misclassified : 452\n",
            "epoch :639 | misclassified : 456\n",
            "epoch :640 | misclassified : 461\n",
            "epoch :641 | misclassified : 467\n",
            "epoch :642 | misclassified : 457\n",
            "epoch :643 | misclassified : 467\n",
            "epoch :644 | misclassified : 459\n",
            "epoch :645 | misclassified : 457\n",
            "epoch :646 | misclassified : 466\n",
            "epoch :647 | misclassified : 450\n",
            "epoch :648 | misclassified : 461\n",
            "epoch :649 | misclassified : 454\n",
            "epoch :650 | misclassified : 448\n",
            "epoch :651 | misclassified : 469\n",
            "epoch :652 | misclassified : 472\n",
            "epoch :653 | misclassified : 466\n",
            "epoch :654 | misclassified : 462\n",
            "epoch :655 | misclassified : 462\n",
            "epoch :656 | misclassified : 462\n",
            "epoch :657 | misclassified : 461\n",
            "epoch :658 | misclassified : 463\n",
            "epoch :659 | misclassified : 455\n",
            "epoch :660 | misclassified : 475\n",
            "epoch :661 | misclassified : 458\n",
            "epoch :662 | misclassified : 476\n",
            "epoch :663 | misclassified : 456\n",
            "epoch :664 | misclassified : 484\n",
            "epoch :665 | misclassified : 466\n",
            "epoch :666 | misclassified : 460\n",
            "epoch :667 | misclassified : 465\n",
            "epoch :668 | misclassified : 477\n",
            "epoch :669 | misclassified : 462\n",
            "epoch :670 | misclassified : 464\n",
            "epoch :671 | misclassified : 452\n",
            "epoch :672 | misclassified : 456\n",
            "epoch :673 | misclassified : 456\n",
            "epoch :674 | misclassified : 462\n",
            "epoch :675 | misclassified : 462\n",
            "epoch :676 | misclassified : 454\n",
            "epoch :677 | misclassified : 468\n",
            "epoch :678 | misclassified : 464\n",
            "epoch :679 | misclassified : 460\n",
            "epoch :680 | misclassified : 454\n",
            "epoch :681 | misclassified : 458\n",
            "epoch :682 | misclassified : 458\n",
            "epoch :683 | misclassified : 462\n",
            "epoch :684 | misclassified : 460\n",
            "epoch :685 | misclassified : 470\n",
            "epoch :686 | misclassified : 462\n",
            "epoch :687 | misclassified : 480\n",
            "epoch :688 | misclassified : 472\n",
            "epoch :689 | misclassified : 466\n",
            "epoch :690 | misclassified : 460\n",
            "epoch :691 | misclassified : 454\n",
            "epoch :692 | misclassified : 474\n",
            "epoch :693 | misclassified : 454\n",
            "epoch :694 | misclassified : 462\n",
            "epoch :695 | misclassified : 472\n",
            "epoch :696 | misclassified : 456\n",
            "epoch :697 | misclassified : 450\n",
            "epoch :698 | misclassified : 461\n",
            "epoch :699 | misclassified : 454\n",
            "epoch :700 | misclassified : 453\n",
            "epoch :701 | misclassified : 455\n",
            "epoch :702 | misclassified : 467\n",
            "epoch :703 | misclassified : 468\n",
            "epoch :704 | misclassified : 472\n",
            "epoch :705 | misclassified : 466\n",
            "epoch :706 | misclassified : 462\n",
            "epoch :707 | misclassified : 462\n",
            "epoch :708 | misclassified : 462\n",
            "epoch :709 | misclassified : 461\n",
            "epoch :710 | misclassified : 463\n",
            "epoch :711 | misclassified : 455\n",
            "epoch :712 | misclassified : 475\n",
            "epoch :713 | misclassified : 452\n",
            "epoch :714 | misclassified : 452\n",
            "epoch :715 | misclassified : 456\n",
            "epoch :716 | misclassified : 464\n",
            "epoch :717 | misclassified : 462\n",
            "epoch :718 | misclassified : 462\n",
            "epoch :719 | misclassified : 472\n",
            "epoch :720 | misclassified : 464\n",
            "epoch :721 | misclassified : 465\n",
            "epoch :722 | misclassified : 465\n",
            "epoch :723 | misclassified : 468\n",
            "epoch :724 | misclassified : 457\n",
            "epoch :725 | misclassified : 451\n",
            "epoch :726 | misclassified : 449\n",
            "epoch :727 | misclassified : 465\n",
            "epoch :728 | misclassified : 468\n",
            "epoch :729 | misclassified : 464\n",
            "epoch :730 | misclassified : 454\n",
            "epoch :731 | misclassified : 466\n",
            "epoch :732 | misclassified : 459\n",
            "epoch :733 | misclassified : 460\n",
            "epoch :734 | misclassified : 455\n",
            "epoch :735 | misclassified : 457\n",
            "epoch :736 | misclassified : 453\n",
            "epoch :737 | misclassified : 464\n",
            "epoch :738 | misclassified : 468\n",
            "epoch :739 | misclassified : 464\n",
            "epoch :740 | misclassified : 464\n",
            "epoch :741 | misclassified : 456\n",
            "epoch :742 | misclassified : 460\n",
            "epoch :743 | misclassified : 457\n",
            "epoch :744 | misclassified : 465\n",
            "epoch :745 | misclassified : 465\n",
            "epoch :746 | misclassified : 477\n",
            "epoch :747 | misclassified : 462\n",
            "epoch :748 | misclassified : 464\n",
            "epoch :749 | misclassified : 452\n",
            "epoch :750 | misclassified : 456\n",
            "epoch :751 | misclassified : 456\n",
            "epoch :752 | misclassified : 462\n",
            "epoch :753 | misclassified : 462\n",
            "epoch :754 | misclassified : 454\n",
            "epoch :755 | misclassified : 468\n",
            "epoch :756 | misclassified : 464\n",
            "epoch :757 | misclassified : 460\n",
            "epoch :758 | misclassified : 454\n",
            "epoch :759 | misclassified : 458\n",
            "epoch :760 | misclassified : 458\n",
            "epoch :761 | misclassified : 462\n",
            "epoch :762 | misclassified : 460\n",
            "epoch :763 | misclassified : 470\n",
            "epoch :764 | misclassified : 462\n",
            "epoch :765 | misclassified : 480\n",
            "epoch :766 | misclassified : 472\n",
            "epoch :767 | misclassified : 466\n",
            "epoch :768 | misclassified : 460\n",
            "epoch :769 | misclassified : 454\n",
            "epoch :770 | misclassified : 474\n",
            "epoch :771 | misclassified : 454\n",
            "epoch :772 | misclassified : 462\n",
            "epoch :773 | misclassified : 472\n",
            "epoch :774 | misclassified : 456\n",
            "epoch :775 | misclassified : 450\n",
            "epoch :776 | misclassified : 461\n",
            "epoch :777 | misclassified : 454\n",
            "epoch :778 | misclassified : 453\n",
            "epoch :779 | misclassified : 455\n",
            "epoch :780 | misclassified : 467\n",
            "epoch :781 | misclassified : 468\n",
            "epoch :782 | misclassified : 472\n",
            "epoch :783 | misclassified : 466\n",
            "epoch :784 | misclassified : 462\n",
            "epoch :785 | misclassified : 462\n",
            "epoch :786 | misclassified : 462\n",
            "epoch :787 | misclassified : 461\n",
            "epoch :788 | misclassified : 463\n",
            "epoch :789 | misclassified : 455\n",
            "epoch :790 | misclassified : 475\n",
            "epoch :791 | misclassified : 452\n",
            "epoch :792 | misclassified : 452\n",
            "epoch :793 | misclassified : 456\n",
            "epoch :794 | misclassified : 464\n",
            "epoch :795 | misclassified : 462\n",
            "epoch :796 | misclassified : 462\n",
            "epoch :797 | misclassified : 472\n",
            "epoch :798 | misclassified : 464\n",
            "epoch :799 | misclassified : 465\n",
            "epoch :800 | misclassified : 465\n",
            "epoch :801 | misclassified : 468\n",
            "epoch :802 | misclassified : 457\n",
            "epoch :803 | misclassified : 451\n",
            "epoch :804 | misclassified : 449\n",
            "epoch :805 | misclassified : 462\n",
            "epoch :806 | misclassified : 471\n",
            "epoch :807 | misclassified : 453\n",
            "epoch :808 | misclassified : 465\n",
            "epoch :809 | misclassified : 456\n",
            "epoch :810 | misclassified : 465\n",
            "epoch :811 | misclassified : 462\n",
            "epoch :812 | misclassified : 475\n",
            "epoch :813 | misclassified : 456\n",
            "epoch :814 | misclassified : 462\n",
            "epoch :815 | misclassified : 466\n",
            "epoch :816 | misclassified : 458\n",
            "epoch :817 | misclassified : 454\n",
            "epoch :818 | misclassified : 456\n",
            "epoch :819 | misclassified : 451\n",
            "epoch :820 | misclassified : 459\n",
            "epoch :821 | misclassified : 443\n",
            "epoch :822 | misclassified : 453\n",
            "epoch :823 | misclassified : 464\n",
            "epoch :824 | misclassified : 460\n",
            "epoch :825 | misclassified : 456\n",
            "epoch :826 | misclassified : 454\n",
            "epoch :827 | misclassified : 459\n",
            "epoch :828 | misclassified : 459\n",
            "epoch :829 | misclassified : 460\n",
            "epoch :830 | misclassified : 452\n",
            "epoch :831 | misclassified : 458\n",
            "epoch :832 | misclassified : 468\n",
            "epoch :833 | misclassified : 439\n",
            "epoch :834 | misclassified : 467\n",
            "epoch :835 | misclassified : 452\n",
            "epoch :836 | misclassified : 478\n",
            "epoch :837 | misclassified : 452\n",
            "epoch :838 | misclassified : 453\n",
            "epoch :839 | misclassified : 448\n",
            "epoch :840 | misclassified : 465\n",
            "epoch :841 | misclassified : 464\n",
            "epoch :842 | misclassified : 464\n",
            "epoch :843 | misclassified : 466\n",
            "epoch :844 | misclassified : 478\n",
            "epoch :845 | misclassified : 460\n",
            "epoch :846 | misclassified : 462\n",
            "epoch :847 | misclassified : 462\n",
            "epoch :848 | misclassified : 454\n",
            "epoch :849 | misclassified : 462\n",
            "epoch :850 | misclassified : 456\n",
            "epoch :851 | misclassified : 458\n",
            "epoch :852 | misclassified : 471\n",
            "epoch :853 | misclassified : 465\n",
            "epoch :854 | misclassified : 464\n",
            "epoch :855 | misclassified : 460\n",
            "epoch :856 | misclassified : 461\n",
            "epoch :857 | misclassified : 457\n",
            "epoch :858 | misclassified : 474\n",
            "epoch :859 | misclassified : 450\n",
            "epoch :860 | misclassified : 476\n",
            "epoch :861 | misclassified : 456\n",
            "epoch :862 | misclassified : 484\n",
            "epoch :863 | misclassified : 466\n",
            "epoch :864 | misclassified : 460\n",
            "epoch :865 | misclassified : 456\n",
            "epoch :866 | misclassified : 464\n",
            "epoch :867 | misclassified : 454\n",
            "epoch :868 | misclassified : 466\n",
            "epoch :869 | misclassified : 464\n",
            "epoch :870 | misclassified : 457\n",
            "epoch :871 | misclassified : 477\n",
            "epoch :872 | misclassified : 452\n",
            "epoch :873 | misclassified : 452\n",
            "epoch :874 | misclassified : 456\n",
            "epoch :875 | misclassified : 460\n",
            "epoch :876 | misclassified : 460\n",
            "epoch :877 | misclassified : 457\n",
            "epoch :878 | misclassified : 463\n",
            "epoch :879 | misclassified : 452\n",
            "epoch :880 | misclassified : 456\n",
            "epoch :881 | misclassified : 460\n",
            "epoch :882 | misclassified : 464\n",
            "epoch :883 | misclassified : 458\n",
            "epoch :884 | misclassified : 468\n",
            "epoch :885 | misclassified : 466\n",
            "epoch :886 | misclassified : 468\n",
            "epoch :887 | misclassified : 444\n",
            "epoch :888 | misclassified : 454\n",
            "epoch :889 | misclassified : 456\n",
            "epoch :890 | misclassified : 462\n",
            "epoch :891 | misclassified : 454\n",
            "epoch :892 | misclassified : 459\n",
            "epoch :893 | misclassified : 465\n",
            "epoch :894 | misclassified : 460\n",
            "epoch :895 | misclassified : 453\n",
            "epoch :896 | misclassified : 465\n",
            "epoch :897 | misclassified : 456\n",
            "epoch :898 | misclassified : 465\n",
            "epoch :899 | misclassified : 462\n",
            "epoch :900 | misclassified : 470\n",
            "epoch :901 | misclassified : 453\n",
            "epoch :902 | misclassified : 456\n",
            "epoch :903 | misclassified : 462\n",
            "epoch :904 | misclassified : 462\n",
            "epoch :905 | misclassified : 454\n",
            "epoch :906 | misclassified : 468\n",
            "epoch :907 | misclassified : 464\n",
            "epoch :908 | misclassified : 460\n",
            "epoch :909 | misclassified : 454\n",
            "epoch :910 | misclassified : 458\n",
            "epoch :911 | misclassified : 460\n",
            "epoch :912 | misclassified : 470\n",
            "epoch :913 | misclassified : 462\n",
            "epoch :914 | misclassified : 480\n",
            "epoch :915 | misclassified : 469\n",
            "epoch :916 | misclassified : 473\n",
            "epoch :917 | misclassified : 468\n",
            "epoch :918 | misclassified : 457\n",
            "epoch :919 | misclassified : 477\n",
            "epoch :920 | misclassified : 452\n",
            "epoch :921 | misclassified : 454\n",
            "epoch :922 | misclassified : 474\n",
            "epoch :923 | misclassified : 468\n",
            "epoch :924 | misclassified : 455\n",
            "epoch :925 | misclassified : 463\n",
            "epoch :926 | misclassified : 462\n",
            "epoch :927 | misclassified : 458\n",
            "epoch :928 | misclassified : 472\n",
            "epoch :929 | misclassified : 456\n",
            "epoch :930 | misclassified : 460\n",
            "epoch :931 | misclassified : 464\n",
            "epoch :932 | misclassified : 462\n",
            "epoch :933 | misclassified : 456\n",
            "epoch :934 | misclassified : 464\n",
            "epoch :935 | misclassified : 454\n",
            "epoch :936 | misclassified : 462\n",
            "epoch :937 | misclassified : 474\n",
            "epoch :938 | misclassified : 473\n",
            "epoch :939 | misclassified : 465\n",
            "epoch :940 | misclassified : 478\n",
            "epoch :941 | misclassified : 448\n",
            "epoch :942 | misclassified : 464\n",
            "epoch :943 | misclassified : 459\n",
            "epoch :944 | misclassified : 459\n",
            "epoch :945 | misclassified : 462\n",
            "epoch :946 | misclassified : 458\n",
            "epoch :947 | misclassified : 460\n",
            "epoch :948 | misclassified : 460\n",
            "epoch :949 | misclassified : 457\n",
            "epoch :950 | misclassified : 457\n",
            "epoch :951 | misclassified : 457\n",
            "epoch :952 | misclassified : 459\n",
            "epoch :953 | misclassified : 460\n",
            "epoch :954 | misclassified : 452\n",
            "epoch :955 | misclassified : 458\n",
            "epoch :956 | misclassified : 468\n",
            "epoch :957 | misclassified : 439\n",
            "epoch :958 | misclassified : 467\n",
            "epoch :959 | misclassified : 452\n",
            "epoch :960 | misclassified : 478\n",
            "epoch :961 | misclassified : 452\n",
            "epoch :962 | misclassified : 453\n",
            "epoch :963 | misclassified : 448\n",
            "epoch :964 | misclassified : 465\n",
            "epoch :965 | misclassified : 464\n",
            "epoch :966 | misclassified : 464\n",
            "epoch :967 | misclassified : 466\n",
            "epoch :968 | misclassified : 464\n",
            "epoch :969 | misclassified : 467\n",
            "epoch :970 | misclassified : 459\n",
            "epoch :971 | misclassified : 468\n",
            "epoch :972 | misclassified : 466\n",
            "epoch :973 | misclassified : 468\n",
            "epoch :974 | misclassified : 469\n",
            "epoch :975 | misclassified : 455\n",
            "epoch :976 | misclassified : 458\n",
            "epoch :977 | misclassified : 460\n",
            "epoch :978 | misclassified : 452\n",
            "epoch :979 | misclassified : 468\n",
            "epoch :980 | misclassified : 462\n",
            "epoch :981 | misclassified : 460\n",
            "epoch :982 | misclassified : 459\n",
            "epoch :983 | misclassified : 459\n",
            "epoch :984 | misclassified : 484\n",
            "epoch :985 | misclassified : 460\n",
            "epoch :986 | misclassified : 486\n",
            "epoch :987 | misclassified : 465\n",
            "epoch :988 | misclassified : 455\n",
            "epoch :989 | misclassified : 468\n",
            "epoch :990 | misclassified : 464\n",
            "epoch :991 | misclassified : 460\n",
            "epoch :992 | misclassified : 454\n",
            "epoch :993 | misclassified : 458\n",
            "epoch :994 | misclassified : 460\n",
            "epoch :995 | misclassified : 470\n",
            "epoch :996 | misclassified : 462\n",
            "epoch :997 | misclassified : 480\n",
            "epoch :998 | misclassified : 472\n",
            "epoch :999 | misclassified : 461\n",
            "epoch :1000 | misclassified : 454\n",
            "epoch :1001 | misclassified : 448\n",
            "epoch :1002 | misclassified : 467\n",
            "epoch :1003 | misclassified : 468\n",
            "epoch :1004 | misclassified : 468\n",
            "epoch :1005 | misclassified : 472\n",
            "epoch :1006 | misclassified : 458\n",
            "epoch :1007 | misclassified : 454\n",
            "epoch :1008 | misclassified : 464\n",
            "epoch :1009 | misclassified : 468\n",
            "epoch :1010 | misclassified : 460\n",
            "epoch :1011 | misclassified : 455\n",
            "epoch :1012 | misclassified : 460\n",
            "epoch :1013 | misclassified : 478\n",
            "epoch :1014 | misclassified : 454\n",
            "epoch :1015 | misclassified : 455\n",
            "epoch :1016 | misclassified : 476\n",
            "epoch :1017 | misclassified : 457\n",
            "epoch :1018 | misclassified : 459\n",
            "epoch :1019 | misclassified : 463\n",
            "epoch :1020 | misclassified : 452\n",
            "epoch :1021 | misclassified : 453\n",
            "epoch :1022 | misclassified : 456\n",
            "epoch :1023 | misclassified : 465\n",
            "epoch :1024 | misclassified : 459\n",
            "epoch :1025 | misclassified : 460\n",
            "epoch :1026 | misclassified : 451\n",
            "epoch :1027 | misclassified : 465\n",
            "epoch :1028 | misclassified : 472\n",
            "epoch :1029 | misclassified : 459\n",
            "epoch :1030 | misclassified : 471\n",
            "epoch :1031 | misclassified : 462\n",
            "epoch :1032 | misclassified : 454\n",
            "epoch :1033 | misclassified : 474\n",
            "epoch :1034 | misclassified : 454\n",
            "epoch :1035 | misclassified : 462\n",
            "epoch :1036 | misclassified : 468\n",
            "epoch :1037 | misclassified : 454\n",
            "epoch :1038 | misclassified : 462\n",
            "epoch :1039 | misclassified : 468\n",
            "epoch :1040 | misclassified : 458\n",
            "epoch :1041 | misclassified : 460\n",
            "epoch :1042 | misclassified : 470\n",
            "epoch :1043 | misclassified : 462\n",
            "epoch :1044 | misclassified : 480\n",
            "epoch :1045 | misclassified : 469\n",
            "epoch :1046 | misclassified : 473\n",
            "epoch :1047 | misclassified : 468\n",
            "epoch :1048 | misclassified : 457\n",
            "epoch :1049 | misclassified : 477\n",
            "epoch :1050 | misclassified : 449\n",
            "epoch :1051 | misclassified : 468\n",
            "epoch :1052 | misclassified : 462\n",
            "epoch :1053 | misclassified : 465\n",
            "epoch :1054 | misclassified : 464\n",
            "epoch :1055 | misclassified : 464\n",
            "epoch :1056 | misclassified : 466\n",
            "epoch :1057 | misclassified : 459\n",
            "epoch :1058 | misclassified : 461\n",
            "epoch :1059 | misclassified : 476\n",
            "epoch :1060 | misclassified : 456\n",
            "epoch :1061 | misclassified : 484\n",
            "epoch :1062 | misclassified : 466\n",
            "epoch :1063 | misclassified : 460\n",
            "epoch :1064 | misclassified : 465\n",
            "epoch :1065 | misclassified : 477\n",
            "epoch :1066 | misclassified : 460\n",
            "epoch :1067 | misclassified : 470\n",
            "epoch :1068 | misclassified : 458\n",
            "epoch :1069 | misclassified : 454\n",
            "epoch :1070 | misclassified : 457\n",
            "epoch :1071 | misclassified : 453\n",
            "epoch :1072 | misclassified : 456\n",
            "epoch :1073 | misclassified : 466\n",
            "epoch :1074 | misclassified : 468\n",
            "epoch :1075 | misclassified : 459\n",
            "epoch :1076 | misclassified : 459\n",
            "epoch :1077 | misclassified : 484\n",
            "epoch :1078 | misclassified : 450\n",
            "epoch :1079 | misclassified : 467\n",
            "epoch :1080 | misclassified : 466\n",
            "epoch :1081 | misclassified : 462\n",
            "epoch :1082 | misclassified : 477\n",
            "epoch :1083 | misclassified : 474\n",
            "epoch :1084 | misclassified : 476\n",
            "epoch :1085 | misclassified : 452\n",
            "epoch :1086 | misclassified : 453\n",
            "epoch :1087 | misclassified : 448\n",
            "epoch :1088 | misclassified : 465\n",
            "epoch :1089 | misclassified : 465\n",
            "epoch :1090 | misclassified : 477\n",
            "epoch :1091 | misclassified : 462\n",
            "epoch :1092 | misclassified : 460\n",
            "epoch :1093 | misclassified : 464\n",
            "epoch :1094 | misclassified : 450\n",
            "epoch :1095 | misclassified : 458\n",
            "epoch :1096 | misclassified : 453\n",
            "epoch :1097 | misclassified : 460\n",
            "epoch :1098 | misclassified : 462\n",
            "epoch :1099 | misclassified : 477\n",
            "epoch :1100 | misclassified : 448\n",
            "epoch :1101 | misclassified : 464\n",
            "epoch :1102 | misclassified : 459\n",
            "epoch :1103 | misclassified : 459\n",
            "epoch :1104 | misclassified : 453\n",
            "epoch :1105 | misclassified : 448\n",
            "epoch :1106 | misclassified : 461\n",
            "epoch :1107 | misclassified : 462\n",
            "epoch :1108 | misclassified : 453\n",
            "epoch :1109 | misclassified : 453\n",
            "epoch :1110 | misclassified : 463\n",
            "epoch :1111 | misclassified : 465\n",
            "epoch :1112 | misclassified : 462\n",
            "epoch :1113 | misclassified : 462\n",
            "epoch :1114 | misclassified : 454\n",
            "epoch :1115 | misclassified : 452\n",
            "epoch :1116 | misclassified : 454\n",
            "epoch :1117 | misclassified : 457\n",
            "epoch :1118 | misclassified : 453\n",
            "epoch :1119 | misclassified : 456\n",
            "epoch :1120 | misclassified : 466\n",
            "epoch :1121 | misclassified : 458\n",
            "epoch :1122 | misclassified : 463\n",
            "epoch :1123 | misclassified : 458\n",
            "epoch :1124 | misclassified : 442\n",
            "epoch :1125 | misclassified : 466\n",
            "epoch :1126 | misclassified : 467\n",
            "epoch :1127 | misclassified : 460\n",
            "epoch :1128 | misclassified : 470\n",
            "epoch :1129 | misclassified : 472\n",
            "epoch :1130 | misclassified : 460\n",
            "epoch :1131 | misclassified : 454\n",
            "epoch :1132 | misclassified : 472\n",
            "epoch :1133 | misclassified : 460\n",
            "epoch :1134 | misclassified : 466\n",
            "epoch :1135 | misclassified : 458\n",
            "epoch :1136 | misclassified : 454\n",
            "epoch :1137 | misclassified : 458\n",
            "epoch :1138 | misclassified : 476\n",
            "epoch :1139 | misclassified : 452\n",
            "epoch :1140 | misclassified : 453\n",
            "epoch :1141 | misclassified : 448\n",
            "epoch :1142 | misclassified : 465\n",
            "epoch :1143 | misclassified : 465\n",
            "epoch :1144 | misclassified : 477\n",
            "epoch :1145 | misclassified : 457\n",
            "epoch :1146 | misclassified : 457\n",
            "epoch :1147 | misclassified : 467\n",
            "epoch :1148 | misclassified : 466\n",
            "epoch :1149 | misclassified : 462\n",
            "epoch :1150 | misclassified : 477\n",
            "epoch :1151 | misclassified : 474\n",
            "epoch :1152 | misclassified : 466\n",
            "epoch :1153 | misclassified : 470\n",
            "epoch :1154 | misclassified : 456\n",
            "epoch :1155 | misclassified : 447\n",
            "epoch :1156 | misclassified : 459\n",
            "epoch :1157 | misclassified : 468\n",
            "epoch :1158 | misclassified : 460\n",
            "epoch :1159 | misclassified : 460\n",
            "epoch :1160 | misclassified : 459\n",
            "epoch :1161 | misclassified : 465\n",
            "epoch :1162 | misclassified : 474\n",
            "epoch :1163 | misclassified : 472\n",
            "epoch :1164 | misclassified : 470\n",
            "epoch :1165 | misclassified : 464\n",
            "epoch :1166 | misclassified : 466\n",
            "epoch :1167 | misclassified : 474\n",
            "epoch :1168 | misclassified : 476\n",
            "epoch :1169 | misclassified : 452\n",
            "epoch :1170 | misclassified : 453\n",
            "epoch :1171 | misclassified : 448\n",
            "epoch :1172 | misclassified : 465\n",
            "epoch :1173 | misclassified : 464\n",
            "epoch :1174 | misclassified : 464\n",
            "epoch :1175 | misclassified : 462\n",
            "epoch :1176 | misclassified : 460\n",
            "epoch :1177 | misclassified : 454\n",
            "epoch :1178 | misclassified : 464\n",
            "epoch :1179 | misclassified : 450\n",
            "epoch :1180 | misclassified : 467\n",
            "epoch :1181 | misclassified : 466\n",
            "epoch :1182 | misclassified : 462\n",
            "epoch :1183 | misclassified : 477\n",
            "epoch :1184 | misclassified : 474\n",
            "epoch :1185 | misclassified : 476\n",
            "epoch :1186 | misclassified : 452\n",
            "epoch :1187 | misclassified : 453\n",
            "epoch :1188 | misclassified : 448\n",
            "epoch :1189 | misclassified : 465\n",
            "epoch :1190 | misclassified : 465\n",
            "epoch :1191 | misclassified : 477\n",
            "epoch :1192 | misclassified : 462\n",
            "epoch :1193 | misclassified : 460\n",
            "epoch :1194 | misclassified : 455\n",
            "epoch :1195 | misclassified : 463\n",
            "epoch :1196 | misclassified : 457\n",
            "epoch :1197 | misclassified : 466\n",
            "epoch :1198 | misclassified : 471\n",
            "epoch :1199 | misclassified : 464\n",
            "epoch :1200 | misclassified : 464\n",
            "epoch :1201 | misclassified : 456\n",
            "epoch :1202 | misclassified : 468\n",
            "epoch :1203 | misclassified : 465\n",
            "epoch :1204 | misclassified : 459\n",
            "epoch :1205 | misclassified : 453\n",
            "epoch :1206 | misclassified : 453\n",
            "epoch :1207 | misclassified : 458\n",
            "epoch :1208 | misclassified : 464\n",
            "epoch :1209 | misclassified : 452\n",
            "epoch :1210 | misclassified : 456\n",
            "epoch :1211 | misclassified : 457\n",
            "epoch :1212 | misclassified : 459\n",
            "epoch :1213 | misclassified : 454\n",
            "epoch :1214 | misclassified : 466\n",
            "epoch :1215 | misclassified : 459\n",
            "epoch :1216 | misclassified : 477\n",
            "epoch :1217 | misclassified : 466\n",
            "epoch :1218 | misclassified : 468\n",
            "epoch :1219 | misclassified : 468\n",
            "epoch :1220 | misclassified : 463\n",
            "epoch :1221 | misclassified : 471\n",
            "epoch :1222 | misclassified : 466\n",
            "epoch :1223 | misclassified : 459\n",
            "epoch :1224 | misclassified : 465\n",
            "epoch :1225 | misclassified : 455\n",
            "epoch :1226 | misclassified : 455\n",
            "epoch :1227 | misclassified : 474\n",
            "epoch :1228 | misclassified : 449\n",
            "epoch :1229 | misclassified : 451\n",
            "epoch :1230 | misclassified : 464\n",
            "epoch :1231 | misclassified : 468\n",
            "epoch :1232 | misclassified : 455\n",
            "epoch :1233 | misclassified : 455\n",
            "epoch :1234 | misclassified : 457\n",
            "epoch :1235 | misclassified : 453\n",
            "epoch :1236 | misclassified : 464\n",
            "epoch :1237 | misclassified : 468\n",
            "epoch :1238 | misclassified : 464\n",
            "epoch :1239 | misclassified : 464\n",
            "epoch :1240 | misclassified : 452\n",
            "epoch :1241 | misclassified : 456\n",
            "epoch :1242 | misclassified : 461\n",
            "epoch :1243 | misclassified : 467\n",
            "epoch :1244 | misclassified : 457\n",
            "epoch :1245 | misclassified : 467\n",
            "epoch :1246 | misclassified : 459\n",
            "epoch :1247 | misclassified : 457\n",
            "epoch :1248 | misclassified : 466\n",
            "epoch :1249 | misclassified : 450\n",
            "epoch :1250 | misclassified : 461\n",
            "epoch :1251 | misclassified : 454\n",
            "epoch :1252 | misclassified : 448\n",
            "epoch :1253 | misclassified : 469\n",
            "epoch :1254 | misclassified : 472\n",
            "epoch :1255 | misclassified : 466\n",
            "epoch :1256 | misclassified : 462\n",
            "epoch :1257 | misclassified : 462\n",
            "epoch :1258 | misclassified : 462\n",
            "epoch :1259 | misclassified : 461\n",
            "epoch :1260 | misclassified : 463\n",
            "epoch :1261 | misclassified : 455\n",
            "epoch :1262 | misclassified : 475\n",
            "epoch :1263 | misclassified : 458\n",
            "epoch :1264 | misclassified : 476\n",
            "epoch :1265 | misclassified : 456\n",
            "epoch :1266 | misclassified : 484\n",
            "epoch :1267 | misclassified : 466\n",
            "epoch :1268 | misclassified : 460\n",
            "epoch :1269 | misclassified : 465\n",
            "epoch :1270 | misclassified : 477\n",
            "epoch :1271 | misclassified : 460\n",
            "epoch :1272 | misclassified : 464\n",
            "epoch :1273 | misclassified : 456\n",
            "epoch :1274 | misclassified : 468\n",
            "epoch :1275 | misclassified : 472\n",
            "epoch :1276 | misclassified : 460\n",
            "epoch :1277 | misclassified : 470\n",
            "epoch :1278 | misclassified : 470\n",
            "epoch :1279 | misclassified : 456\n",
            "epoch :1280 | misclassified : 469\n",
            "epoch :1281 | misclassified : 463\n",
            "epoch :1282 | misclassified : 462\n",
            "epoch :1283 | misclassified : 458\n",
            "epoch :1284 | misclassified : 451\n",
            "epoch :1285 | misclassified : 457\n",
            "epoch :1286 | misclassified : 452\n",
            "epoch :1287 | misclassified : 470\n",
            "epoch :1288 | misclassified : 461\n",
            "epoch :1289 | misclassified : 457\n",
            "epoch :1290 | misclassified : 466\n",
            "epoch :1291 | misclassified : 449\n",
            "epoch :1292 | misclassified : 451\n",
            "epoch :1293 | misclassified : 464\n",
            "epoch :1294 | misclassified : 466\n",
            "epoch :1295 | misclassified : 447\n",
            "epoch :1296 | misclassified : 448\n",
            "epoch :1297 | misclassified : 455\n",
            "epoch :1298 | misclassified : 456\n",
            "epoch :1299 | misclassified : 466\n",
            "epoch :1300 | misclassified : 464\n",
            "epoch :1301 | misclassified : 451\n",
            "epoch :1302 | misclassified : 467\n",
            "epoch :1303 | misclassified : 460\n",
            "epoch :1304 | misclassified : 453\n",
            "epoch :1305 | misclassified : 453\n",
            "epoch :1306 | misclassified : 458\n",
            "epoch :1307 | misclassified : 464\n",
            "epoch :1308 | misclassified : 452\n",
            "epoch :1309 | misclassified : 462\n",
            "epoch :1310 | misclassified : 474\n",
            "epoch :1311 | misclassified : 460\n",
            "epoch :1312 | misclassified : 467\n",
            "epoch :1313 | misclassified : 477\n",
            "epoch :1314 | misclassified : 474\n",
            "epoch :1315 | misclassified : 466\n",
            "epoch :1316 | misclassified : 460\n",
            "epoch :1317 | misclassified : 454\n",
            "epoch :1318 | misclassified : 454\n",
            "epoch :1319 | misclassified : 472\n",
            "epoch :1320 | misclassified : 456\n",
            "epoch :1321 | misclassified : 460\n",
            "epoch :1322 | misclassified : 464\n",
            "epoch :1323 | misclassified : 462\n",
            "epoch :1324 | misclassified : 456\n",
            "epoch :1325 | misclassified : 464\n",
            "epoch :1326 | misclassified : 454\n",
            "epoch :1327 | misclassified : 462\n",
            "epoch :1328 | misclassified : 468\n",
            "epoch :1329 | misclassified : 458\n",
            "epoch :1330 | misclassified : 451\n",
            "epoch :1331 | misclassified : 470\n",
            "epoch :1332 | misclassified : 458\n",
            "epoch :1333 | misclassified : 465\n",
            "epoch :1334 | misclassified : 454\n",
            "epoch :1335 | misclassified : 464\n",
            "epoch :1336 | misclassified : 468\n",
            "epoch :1337 | misclassified : 461\n",
            "epoch :1338 | misclassified : 454\n",
            "epoch :1339 | misclassified : 448\n",
            "epoch :1340 | misclassified : 467\n",
            "epoch :1341 | misclassified : 461\n",
            "epoch :1342 | misclassified : 463\n",
            "epoch :1343 | misclassified : 455\n",
            "epoch :1344 | misclassified : 460\n",
            "epoch :1345 | misclassified : 453\n",
            "epoch :1346 | misclassified : 456\n",
            "epoch :1347 | misclassified : 458\n",
            "epoch :1348 | misclassified : 452\n",
            "epoch :1349 | misclassified : 452\n",
            "epoch :1350 | misclassified : 456\n",
            "epoch :1351 | misclassified : 460\n",
            "epoch :1352 | misclassified : 464\n",
            "epoch :1353 | misclassified : 462\n",
            "epoch :1354 | misclassified : 456\n",
            "epoch :1355 | misclassified : 464\n",
            "epoch :1356 | misclassified : 472\n",
            "epoch :1357 | misclassified : 460\n",
            "epoch :1358 | misclassified : 470\n",
            "epoch :1359 | misclassified : 470\n",
            "epoch :1360 | misclassified : 456\n",
            "epoch :1361 | misclassified : 469\n",
            "epoch :1362 | misclassified : 463\n",
            "epoch :1363 | misclassified : 462\n",
            "epoch :1364 | misclassified : 458\n",
            "epoch :1365 | misclassified : 451\n",
            "epoch :1366 | misclassified : 457\n",
            "epoch :1367 | misclassified : 452\n",
            "epoch :1368 | misclassified : 470\n",
            "epoch :1369 | misclassified : 461\n",
            "epoch :1370 | misclassified : 466\n",
            "epoch :1371 | misclassified : 462\n",
            "epoch :1372 | misclassified : 477\n",
            "epoch :1373 | misclassified : 474\n",
            "epoch :1374 | misclassified : 476\n",
            "epoch :1375 | misclassified : 452\n",
            "epoch :1376 | misclassified : 453\n",
            "epoch :1377 | misclassified : 448\n",
            "epoch :1378 | misclassified : 465\n",
            "epoch :1379 | misclassified : 464\n",
            "epoch :1380 | misclassified : 464\n",
            "epoch :1381 | misclassified : 466\n",
            "epoch :1382 | misclassified : 464\n",
            "epoch :1383 | misclassified : 458\n",
            "epoch :1384 | misclassified : 472\n",
            "epoch :1385 | misclassified : 456\n",
            "epoch :1386 | misclassified : 461\n",
            "epoch :1387 | misclassified : 459\n",
            "epoch :1388 | misclassified : 456\n",
            "epoch :1389 | misclassified : 458\n",
            "epoch :1390 | misclassified : 467\n",
            "epoch :1391 | misclassified : 461\n",
            "epoch :1392 | misclassified : 454\n",
            "epoch :1393 | misclassified : 456\n",
            "epoch :1394 | misclassified : 456\n",
            "epoch :1395 | misclassified : 464\n",
            "epoch :1396 | misclassified : 457\n",
            "epoch :1397 | misclassified : 459\n",
            "epoch :1398 | misclassified : 465\n",
            "epoch :1399 | misclassified : 463\n",
            "epoch :1400 | misclassified : 464\n",
            "epoch :1401 | misclassified : 468\n",
            "epoch :1402 | misclassified : 462\n",
            "epoch :1403 | misclassified : 462\n",
            "epoch :1404 | misclassified : 462\n",
            "epoch :1405 | misclassified : 461\n",
            "epoch :1406 | misclassified : 463\n",
            "epoch :1407 | misclassified : 455\n",
            "epoch :1408 | misclassified : 475\n",
            "epoch :1409 | misclassified : 462\n",
            "epoch :1410 | misclassified : 458\n",
            "epoch :1411 | misclassified : 456\n",
            "epoch :1412 | misclassified : 462\n",
            "epoch :1413 | misclassified : 456\n",
            "epoch :1414 | misclassified : 454\n",
            "epoch :1415 | misclassified : 466\n",
            "epoch :1416 | misclassified : 466\n",
            "epoch :1417 | misclassified : 455\n",
            "epoch :1418 | misclassified : 459\n",
            "epoch :1419 | misclassified : 460\n",
            "epoch :1420 | misclassified : 452\n",
            "epoch :1421 | misclassified : 453\n",
            "epoch :1422 | misclassified : 446\n",
            "epoch :1423 | misclassified : 475\n",
            "epoch :1424 | misclassified : 459\n",
            "epoch :1425 | misclassified : 467\n",
            "epoch :1426 | misclassified : 468\n",
            "epoch :1427 | misclassified : 472\n",
            "epoch :1428 | misclassified : 461\n",
            "epoch :1429 | misclassified : 453\n",
            "epoch :1430 | misclassified : 472\n",
            "epoch :1431 | misclassified : 456\n",
            "epoch :1432 | misclassified : 458\n",
            "epoch :1433 | misclassified : 467\n",
            "epoch :1434 | misclassified : 459\n",
            "epoch :1435 | misclassified : 445\n",
            "epoch :1436 | misclassified : 467\n",
            "epoch :1437 | misclassified : 444\n",
            "epoch :1438 | misclassified : 454\n",
            "epoch :1439 | misclassified : 466\n",
            "epoch :1440 | misclassified : 466\n",
            "epoch :1441 | misclassified : 466\n",
            "epoch :1442 | misclassified : 457\n",
            "epoch :1443 | misclassified : 469\n",
            "epoch :1444 | misclassified : 444\n",
            "epoch :1445 | misclassified : 460\n",
            "epoch :1446 | misclassified : 466\n",
            "epoch :1447 | misclassified : 462\n",
            "epoch :1448 | misclassified : 468\n",
            "epoch :1449 | misclassified : 456\n",
            "epoch :1450 | misclassified : 465\n",
            "epoch :1451 | misclassified : 462\n",
            "epoch :1452 | misclassified : 481\n",
            "epoch :1453 | misclassified : 457\n",
            "epoch :1454 | misclassified : 455\n",
            "epoch :1455 | misclassified : 455\n",
            "epoch :1456 | misclassified : 475\n",
            "epoch :1457 | misclassified : 462\n",
            "epoch :1458 | misclassified : 458\n",
            "epoch :1459 | misclassified : 456\n",
            "epoch :1460 | misclassified : 462\n",
            "epoch :1461 | misclassified : 462\n",
            "epoch :1462 | misclassified : 474\n",
            "epoch :1463 | misclassified : 465\n",
            "epoch :1464 | misclassified : 469\n",
            "epoch :1465 | misclassified : 452\n",
            "epoch :1466 | misclassified : 464\n",
            "epoch :1467 | misclassified : 468\n",
            "epoch :1468 | misclassified : 468\n",
            "epoch :1469 | misclassified : 464\n",
            "epoch :1470 | misclassified : 454\n",
            "epoch :1471 | misclassified : 456\n",
            "epoch :1472 | misclassified : 454\n",
            "epoch :1473 | misclassified : 466\n",
            "epoch :1474 | misclassified : 466\n",
            "epoch :1475 | misclassified : 455\n",
            "epoch :1476 | misclassified : 459\n",
            "epoch :1477 | misclassified : 460\n",
            "epoch :1478 | misclassified : 452\n",
            "epoch :1479 | misclassified : 453\n",
            "epoch :1480 | misclassified : 446\n",
            "epoch :1481 | misclassified : 467\n",
            "epoch :1482 | misclassified : 460\n",
            "epoch :1483 | misclassified : 454\n",
            "epoch :1484 | misclassified : 456\n",
            "epoch :1485 | misclassified : 453\n",
            "epoch :1486 | misclassified : 459\n",
            "epoch :1487 | misclassified : 455\n",
            "epoch :1488 | misclassified : 460\n",
            "epoch :1489 | misclassified : 453\n",
            "epoch :1490 | misclassified : 456\n",
            "epoch :1491 | misclassified : 462\n",
            "epoch :1492 | misclassified : 462\n",
            "epoch :1493 | misclassified : 454\n",
            "epoch :1494 | misclassified : 462\n",
            "epoch :1495 | misclassified : 452\n",
            "epoch :1496 | misclassified : 456\n",
            "epoch :1497 | misclassified : 460\n",
            "epoch :1498 | misclassified : 462\n",
            "epoch :1499 | misclassified : 470\n",
            "epoch :1500 | misclassified : 468\n"
          ]
        }
      ]
    },
    {
      "cell_type": "markdown",
      "source": [
        "همانطور که می بینیم با افزایش تعداد ایپاک ها به 1500، 468 داده درست کلاس بندی نشدند که در واقع خط جداساز ما بدتر از 100 ایپاک عمل کرده و اگر این 1500 ایپاک را نکاه کنیم متوجه می شویم که دقت و عملکرد کلاس بند ما بهبود چندانی پیدا نمی کند و گاهی اوقات بدتر هم میشود، زیرا ذاتا داده ها جداپذیر خطی نیستند و این تعدادی که اشتباه پیش بینی شدند در واقع مربوط به داده هایی است که در وسط شکل قرار دارند وداده های زرد و بنفش در یک ناحیه با هم مخلوط هستند. پس نیازی به 1500 ایپاک و این مقدار محاسبه نیست. اگر برای شرط توقف از دقت استفاده می کردیم بهتر بود."
      ],
      "metadata": {
        "id": "MWPfFlzpsVHx"
      }
    },
    {
      "cell_type": "code",
      "metadata": {
        "colab": {
          "base_uri": "https://localhost:8080/"
        },
        "id": "Lqj6SG5W30BG",
        "outputId": "baf7ad4f-89cf-4319-8e4a-2a0344b24d23"
      },
      "source": [
        "print(f'w new : {w_new}')"
      ],
      "execution_count": 27,
      "outputs": [
        {
          "output_type": "stream",
          "name": "stdout",
          "text": [
            "w new : [5.23459677e-05 3.54518368e-03 2.11965323e-04]\n"
          ]
        }
      ]
    },
    {
      "cell_type": "markdown",
      "source": [
        "همانطور که میبینیم دقت روی داده های آموزشی و تست نسبت به قبل کمی کمتر شده."
      ],
      "metadata": {
        "id": "89iU2buttbyb"
      }
    },
    {
      "cell_type": "code",
      "metadata": {
        "colab": {
          "base_uri": "https://localhost:8080/"
        },
        "id": "wmHwqHxL30jM",
        "outputId": "406b997f-a104-4b3a-aa7f-148e875efef5"
      },
      "source": [
        "train_test_accuracy(w_new)"
      ],
      "execution_count": 29,
      "outputs": [
        {
          "output_type": "stream",
          "name": "stdout",
          "text": [
            "accuray for train data  : 90.325\n",
            "accuray for test data  : 91.0\n"
          ]
        }
      ]
    },
    {
      "cell_type": "code",
      "metadata": {
        "colab": {
          "base_uri": "https://localhost:8080/",
          "height": 314
        },
        "id": "frYPzGWL33Wf",
        "outputId": "6ffd76d5-b830-47c2-b6a8-eaf2f746c1fa"
      },
      "source": [
        "plot_percepron_classifier(train, w_new)"
      ],
      "execution_count": 30,
      "outputs": [
        {
          "output_type": "stream",
          "name": "stdout",
          "text": [
            "slope : -16.72530031768215 and intercept : -0.24695533715184992\n"
          ]
        },
        {
          "output_type": "display_data",
          "data": {
            "image/png": "[encoded data removed]",
            "text/plain": [
              "<Figure size 432x288 with 1 Axes>"
            ]
          },
          "metadata": {
            "needs_background": "light"
          }
        }
      ]
    },
    {
      "cell_type": "code",
      "metadata": {
        "colab": {
          "base_uri": "https://localhost:8080/",
          "height": 314
        },
        "id": "jmOypfzh6tvc",
        "outputId": "9b5b3b80-cf0b-496e-abcb-6c8b48fa7967"
      },
      "source": [
        "plot_percepron_classifier(test, w_new)"
      ],
      "execution_count": 31,
      "outputs": [
        {
          "output_type": "stream",
          "name": "stdout",
          "text": [
            "slope : -16.72530031768215 and intercept : -0.24695533715184992\n"
          ]
        },
        {
          "output_type": "display_data",
          "data": {
            "image/png": "[encoded data removed]",
            "text/plain": [
              "<Figure size 432x288 with 1 Axes>"
            ]
          },
          "metadata": {
            "needs_background": "light"
          }
        }
      ]
    },
    {
      "cell_type": "markdown",
      "source": [
        "پس تا اینجای کار با ازمایش هایی که انجام دادیم به این نتیجه رسیدیم بهترین دقت روی داده های آموزشی 91.025 و روی داده های تست 91.6  است و تعداد تکرار مناسب برای این داده ها 100 است. همچنین در نهایت حدود 460 داده به درستی کلاس بندی نمی شوند که به دلیل نوع داده ها است که جداپذیر خطی نیستند."
      ],
      "metadata": {
        "id": "rYPCncD7tjqh"
      }
    }
  ]
}