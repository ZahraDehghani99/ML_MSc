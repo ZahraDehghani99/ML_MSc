{
  "cells": [
    {
      "cell_type": "markdown",
      "metadata": {
        "id": "view-in-github",
        "colab_type": "text"
      },
      "source": [
        "<a href=\"https://colab.research.google.com/github/ZahraDehghani99/ML_MSc/blob/main/HW6_ZahraDehghani.ipynb\" target=\"_parent\"><img src=\"https://colab.research.google.com/assets/colab-badge.svg\" alt=\"Open In Colab\"/></a>"
      ]
    },
    {
      "cell_type": "markdown",
      "metadata": {
        "id": "a0qcUXraP_sL"
      },
      "source": [
        "# HW6: Clustering I (K-means)"
      ]
    },
    {
      "cell_type": "markdown",
      "metadata": {
        "id": "4uT9hk-tvrDX"
      },
      "source": [
        "### __Prepared libraries can be used__"
      ]
    },
    {
      "cell_type": "markdown",
      "metadata": {
        "id": "RgJIViFmAJ-x"
      },
      "source": [
        "In K-means clustering, we are given points x\n",
        "$x_1, ..., x_n ∈ R^d$\n",
        " and an integer $K > 1$, and our goal is to\n",
        "minimize the within-cluster sum of squares (also known as the k-means objective)\n",
        "\n",
        "$J(C, L)=\\sum_{i=1}^n ||x_i - C_{l_i}||^2$\n",
        "\n",
        "where $C = (C_1, ..., C_K)$ are the cluster centers $(Cj ∈ R^d)$, and $L = (l_1, ..., l_n)$ are the cluster assignments ($l_i ∈ \\{1, ..., K\\}$).\n",
        "\n",
        "Finding the exact minimum of this function is computationally difficult. The most common algorithm for finding an approximate solution is Lloyd’s algorithm, which takes as input the set of points and some initial cluster centers C, and proceeds as follows:\n",
        "\n",
        "1. Keeping C fixed, find cluster assignments L to minimize J(C, L). This step only involves finding nearest neighbors. Ties can be broken using arbitrary (but consistent) rules.\n",
        "1. Keeping L fixed, find C to minimize J(C, L). This is a simple step that only involves averaging points within a cluster.\n",
        "1. If any of the values in L changed from the previous iteration (or if this was the first iteration), repeat from step i.\n",
        "1. Return C and L.\n",
        "\n",
        "The initial cluster centers C given as input to the algorithm are often picked randomly from $x_1, ..., x_n$. In practice, we often repeat multiple runs of Lloyd’s algorithm with different initializations, and pick the best resulting clustering in terms of the k-means objective. You’re about to see why."
      ]
    },
    {
      "cell_type": "markdown",
      "metadata": {
        "id": "iXSeU_7eFUKr"
      },
      "source": [
        "### a)\n",
        "Implement Lloyd’s algorithm. Run it until convergence 200 times, each time initializing using K cluster centers picked at random from the set ${x_1, ..., x_n}$, with $K = 5$ clusters,\n",
        "on the 500 two dimensional data points in *hw6_first_clustering_dataset.csv*. **Plot in a single figure the original data, and all $200 × 5$ cluster centers given by each run of Lloyd’s algorithm**. You can play around with the plotting options such as point sizes so that the cluster centers are clearly visible. Also compute the minimum, mean, and standard deviation of the within-cluster sums of squares for the clusterings given by each of the 200 runs."
      ]
    },
    {
      "cell_type": "markdown",
      "source": [
        "بین این ۲۰۰ بار اجرا مینیمم را برای معیار کلاستر بدست بیار، میانگین را بدست بیار و انجراف معیارم بدست بیار. در واقع یه لیست بگیر که شامل ۲۰۰ تا این مقادیر باشه  و محاسبشون کن"
      ],
      "metadata": {
        "id": "wTbNmXj0AuHD"
      }
    },
    {
      "cell_type": "markdown",
      "metadata": {
        "id": "JGh67igUBP6Z"
      },
      "source": [
        "If you get an empty cluster, it has no center of mass. In this case, initialize the empty cluster center again (not all centers)."
      ]
    },
    {
      "cell_type": "code",
      "source": [
        "import numpy as np\n",
        "import pandas as pd\n",
        "import matplotlib.pyplot as plt\n",
        "import statistics\n",
        "\n",
        "import warnings\n",
        "warnings.filterwarnings('ignore')"
      ],
      "metadata": {
        "id": "RNpvhebv2q5q"
      },
      "execution_count": 27,
      "outputs": []
    },
    {
      "cell_type": "code",
      "source": [
        "from google.colab import drive\n",
        "drive.mount('/content/drive')"
      ],
      "metadata": {
        "colab": {
          "base_uri": "https://localhost:8080/"
        },
        "id": "OvbbvryM22EU",
        "outputId": "98967005-c29e-42bd-efca-5bc900b0f109"
      },
      "execution_count": 2,
      "outputs": [
        {
          "output_type": "stream",
          "name": "stdout",
          "text": [
            "Mounted at /content/drive\n"
          ]
        }
      ]
    },
    {
      "cell_type": "code",
      "source": [
        "data = pd.read_csv('/content/drive/MyDrive/ML/HW6/clustering_datasets/first_clustering_dataset.csv', header=None)\n",
        "data.head()"
      ],
      "metadata": {
        "colab": {
          "base_uri": "https://localhost:8080/",
          "height": 206
        },
        "id": "rv-_tcsN3hQa",
        "outputId": "04ec3bbb-62f3-4f22-8ce7-b4819b3fee05"
      },
      "execution_count": 3,
      "outputs": [
        {
          "output_type": "execute_result",
          "data": {
            "text/html": [
              "\n",
              "  <div id=\"df-7e583b1a-5b58-4905-9b54-d80dc47ed7aa\">\n",
              "    <div class=\"colab-df-container\">\n",
              "      <div>\n",
              "<style scoped>\n",
              "    .dataframe tbody tr th:only-of-type {\n",
              "        vertical-align: middle;\n",
              "    }\n",
              "\n",
              "    .dataframe tbody tr th {\n",
              "        vertical-align: top;\n",
              "    }\n",
              "\n",
              "    .dataframe thead th {\n",
              "        text-align: right;\n",
              "    }\n",
              "</style>\n",
              "<table border=\"1\" class=\"dataframe\">\n",
              "  <thead>\n",
              "    <tr style=\"text-align: right;\">\n",
              "      <th></th>\n",
              "      <th>0</th>\n",
              "      <th>1</th>\n",
              "    </tr>\n",
              "  </thead>\n",
              "  <tbody>\n",
              "    <tr>\n",
              "      <th>0</th>\n",
              "      <td>-0.125391</td>\n",
              "      <td>-1.268829</td>\n",
              "    </tr>\n",
              "    <tr>\n",
              "      <th>1</th>\n",
              "      <td>0.062522</td>\n",
              "      <td>1.278778</td>\n",
              "    </tr>\n",
              "    <tr>\n",
              "      <th>2</th>\n",
              "      <td>-0.048762</td>\n",
              "      <td>0.200549</td>\n",
              "    </tr>\n",
              "    <tr>\n",
              "      <th>3</th>\n",
              "      <td>0.105585</td>\n",
              "      <td>-0.496629</td>\n",
              "    </tr>\n",
              "    <tr>\n",
              "      <th>4</th>\n",
              "      <td>0.011886</td>\n",
              "      <td>-0.739317</td>\n",
              "    </tr>\n",
              "  </tbody>\n",
              "</table>\n",
              "</div>\n",
              "      <button class=\"colab-df-convert\" onclick=\"convertToInteractive('df-7e583b1a-5b58-4905-9b54-d80dc47ed7aa')\"\n",
              "              title=\"Convert this dataframe to an interactive table.\"\n",
              "              style=\"display:none;\">\n",
              "        \n",
              "  <svg xmlns=\"http://www.w3.org/2000/svg\" height=\"24px\"viewBox=\"0 0 24 24\"\n",
              "       width=\"24px\">\n",
              "    <path d=\"M0 0h24v24H0V0z\" fill=\"none\"/>\n",
              "    <path d=\"M18.56 5.44l.94 2.06.94-2.06 2.06-.94-2.06-.94-.94-2.06-.94 2.06-2.06.94zm-11 1L8.5 8.5l.94-2.06 2.06-.94-2.06-.94L8.5 2.5l-.94 2.06-2.06.94zm10 10l.94 2.06.94-2.06 2.06-.94-2.06-.94-.94-2.06-.94 2.06-2.06.94z\"/><path d=\"M17.41 7.96l-1.37-1.37c-.4-.4-.92-.59-1.43-.59-.52 0-1.04.2-1.43.59L10.3 9.45l-7.72 7.72c-.78.78-.78 2.05 0 2.83L4 21.41c.39.39.9.59 1.41.59.51 0 1.02-.2 1.41-.59l7.78-7.78 2.81-2.81c.8-.78.8-2.07 0-2.86zM5.41 20L4 18.59l7.72-7.72 1.47 1.35L5.41 20z\"/>\n",
              "  </svg>\n",
              "      </button>\n",
              "      \n",
              "  <style>\n",
              "    .colab-df-container {\n",
              "      display:flex;\n",
              "      flex-wrap:wrap;\n",
              "      gap: 12px;\n",
              "    }\n",
              "\n",
              "    .colab-df-convert {\n",
              "      background-color: #E8F0FE;\n",
              "      border: none;\n",
              "      border-radius: 50%;\n",
              "      cursor: pointer;\n",
              "      display: none;\n",
              "      fill: #1967D2;\n",
              "      height: 32px;\n",
              "      padding: 0 0 0 0;\n",
              "      width: 32px;\n",
              "    }\n",
              "\n",
              "    .colab-df-convert:hover {\n",
              "      background-color: #E2EBFA;\n",
              "      box-shadow: 0px 1px 2px rgba(60, 64, 67, 0.3), 0px 1px 3px 1px rgba(60, 64, 67, 0.15);\n",
              "      fill: #174EA6;\n",
              "    }\n",
              "\n",
              "    [theme=dark] .colab-df-convert {\n",
              "      background-color: #3B4455;\n",
              "      fill: #D2E3FC;\n",
              "    }\n",
              "\n",
              "    [theme=dark] .colab-df-convert:hover {\n",
              "      background-color: #434B5C;\n",
              "      box-shadow: 0px 1px 3px 1px rgba(0, 0, 0, 0.15);\n",
              "      filter: drop-shadow(0px 1px 2px rgba(0, 0, 0, 0.3));\n",
              "      fill: #FFFFFF;\n",
              "    }\n",
              "  </style>\n",
              "\n",
              "      <script>\n",
              "        const buttonEl =\n",
              "          document.querySelector('#df-7e583b1a-5b58-4905-9b54-d80dc47ed7aa button.colab-df-convert');\n",
              "        buttonEl.style.display =\n",
              "          google.colab.kernel.accessAllowed ? 'block' : 'none';\n",
              "\n",
              "        async function convertToInteractive(key) {\n",
              "          const element = document.querySelector('#df-7e583b1a-5b58-4905-9b54-d80dc47ed7aa');\n",
              "          const dataTable =\n",
              "            await google.colab.kernel.invokeFunction('convertToInteractive',\n",
              "                                                     [key], {});\n",
              "          if (!dataTable) return;\n",
              "\n",
              "          const docLinkHtml = 'Like what you see? Visit the ' +\n",
              "            '<a target=\"_blank\" href=https://colab.research.google.com/notebooks/data_table.ipynb>data table notebook</a>'\n",
              "            + ' to learn more about interactive tables.';\n",
              "          element.innerHTML = '';\n",
              "          dataTable['output_type'] = 'display_data';\n",
              "          await google.colab.output.renderOutput(dataTable, element);\n",
              "          const docLink = document.createElement('div');\n",
              "          docLink.innerHTML = docLinkHtml;\n",
              "          element.appendChild(docLink);\n",
              "        }\n",
              "      </script>\n",
              "    </div>\n",
              "  </div>\n",
              "  "
            ],
            "text/plain": [
              "          0         1\n",
              "0 -0.125391 -1.268829\n",
              "1  0.062522  1.278778\n",
              "2 -0.048762  0.200549\n",
              "3  0.105585 -0.496629\n",
              "4  0.011886 -0.739317"
            ]
          },
          "metadata": {},
          "execution_count": 3
        }
      ]
    },
    {
      "cell_type": "code",
      "source": [
        "print(f'data shape : {data.shape}')"
      ],
      "metadata": {
        "colab": {
          "base_uri": "https://localhost:8080/"
        },
        "id": "jCcmQ_iT4bnS",
        "outputId": "bd38e327-0f10-4df1-e7d0-6b53ced84abe"
      },
      "execution_count": 4,
      "outputs": [
        {
          "output_type": "stream",
          "name": "stdout",
          "text": [
            "data shape : (400, 2)\n"
          ]
        }
      ]
    },
    {
      "cell_type": "code",
      "source": [
        "data.columns"
      ],
      "metadata": {
        "colab": {
          "base_uri": "https://localhost:8080/"
        },
        "id": "4_O0Q6BB4bda",
        "outputId": "4f0f2d7d-1ef6-47f3-b02d-2ab41e3c3a0c"
      },
      "execution_count": 5,
      "outputs": [
        {
          "output_type": "execute_result",
          "data": {
            "text/plain": [
              "Int64Index([0, 1], dtype='int64')"
            ]
          },
          "metadata": {},
          "execution_count": 5
        }
      ]
    },
    {
      "cell_type": "code",
      "source": [
        "# plot data points\n",
        "scatter = plt.scatter(data[0], data[1])\n",
        "plt.title('original data points')\n",
        "plt.xlabel('feature1')\n",
        "plt.ylabel('feature2')\n",
        "plt.legend(*scatter.legend_elements())\n",
        "plt.show()"
      ],
      "metadata": {
        "colab": {
          "base_uri": "https://localhost:8080/",
          "height": 295
        },
        "id": "3tPEMZhq4T5u",
        "outputId": "d25f8acd-06dc-418e-fadc-b2d54c5eea0e"
      },
      "execution_count": 7,
      "outputs": [
        {
          "output_type": "display_data",
          "data": {
            "image/png": "[encoded data removed]",
            "text/plain": [
              "<Figure size 432x288 with 1 Axes>"
            ]
          },
          "metadata": {
            "needs_background": "light"
          }
        }
      ]
    },
    {
      "cell_type": "code",
      "source": [
        "from sklearn.cluster import KMeans\n",
        "\n",
        "kmeans = KMeans(n_clusters=5, init='random', n_init=1, random_state=0).fit(data)"
      ],
      "metadata": {
        "id": "inYgtEtv62_9"
      },
      "execution_count": 8,
      "outputs": []
    },
    {
      "cell_type": "code",
      "source": [
        "# kmeans.cluster_centers_"
      ],
      "metadata": {
        "colab": {
          "base_uri": "https://localhost:8080/"
        },
        "id": "AHuKP5uQ7mIH",
        "outputId": "834ec35e-be4f-4050-c4d3-4ed2fc01fac5"
      },
      "execution_count": 9,
      "outputs": [
        {
          "output_type": "execute_result",
          "data": {
            "text/plain": [
              "array([[ 0.12730413,  0.60304175],\n",
              "       [ 0.11269503,  1.62955072],\n",
              "       [ 0.17505496, -1.79281633],\n",
              "       [ 0.09776133, -0.13890835],\n",
              "       [ 0.1430164 , -0.95926863]])"
            ]
          },
          "metadata": {},
          "execution_count": 9
        }
      ]
    },
    {
      "cell_type": "code",
      "source": [
        "#predict the labels of clusters.\n",
        "label = kmeans.fit_predict(data)\n",
        "# label"
      ],
      "metadata": {
        "id": "1OcfJlxW8TVC"
      },
      "execution_count": 29,
      "outputs": []
    },
    {
      "cell_type": "code",
      "source": [
        "kmeans.inertia_"
      ],
      "metadata": {
        "colab": {
          "base_uri": "https://localhost:8080/"
        },
        "id": "-MelkqFo7v-B",
        "outputId": "393d1de4-af20-4e4a-de37-e1227a54bc75"
      },
      "execution_count": 10,
      "outputs": [
        {
          "output_type": "execute_result",
          "data": {
            "text/plain": [
              "40.60342724908156"
            ]
          },
          "metadata": {},
          "execution_count": 10
        }
      ]
    },
    {
      "cell_type": "code",
      "source": [
        "for i  in range(200): # 200 iteration"
      ],
      "metadata": {
        "id": "lODNOxuXASl8"
      },
      "execution_count": null,
      "outputs": []
    },
    {
      "cell_type": "code",
      "source": [
        "objective = []\n",
        "plt.figure(figsize=(25,15))\n",
        "plt.scatter(data[0], data[1])\n",
        "\n",
        "for iter in range(200):\n",
        "  #Getting the Centroids\n",
        "  kmeans = KMeans(n_clusters=5, init='random', n_init=1).fit(data) #\n",
        "  objective.append(kmeans.inertia_) # kmeans objective\n",
        "  label = kmeans.fit_predict(data) #\n",
        "\n",
        "  centroids = kmeans.cluster_centers_\n",
        "  u_labels = np.unique(label)\n",
        "  \n",
        "  #plotting the results:\n",
        "  \n",
        "  # for i in u_labels:\n",
        "  #     plt.scatter(data[label == i][0] , data[label == i][1] , label = i)\n",
        "  plt.scatter(centroids[:,0] , centroids[:,1] , s = 90, alpha=0.5, label=iter)\n",
        "# plt.legend()\n",
        "plt.title('Kmeans clustring')\n",
        "plt.xlabel('feature1')\n",
        "plt.ylabel('feature2')\n",
        "plt.show()"
      ],
      "metadata": {
        "colab": {
          "base_uri": "https://localhost:8080/",
          "height": 826
        },
        "id": "e0Lm5ZWZ80OZ",
        "outputId": "165c0cc8-bdf7-4f22-9dc6-d0acc4e23b50"
      },
      "execution_count": 30,
      "outputs": [
        {
          "output_type": "display_data",
          "data": {
            "image/png": "[encoded data removed]",
            "text/plain": [
              "<Figure size 1800x1080 with 1 Axes>"
            ]
          },
          "metadata": {
            "needs_background": "light"
          }
        }
      ]
    },
    {
      "cell_type": "code",
      "source": [
        "plt.figure(figsize=(10,4))\n",
        "iter = [i for i in range(1, 201)]\n",
        "plt.plot(iter, objective)\n",
        "plt.title('Kmeans objective function')\n",
        "plt.xlabel('iteration')\n",
        "plt.ylabel('kmeans objective')\n",
        "plt.show()"
      ],
      "metadata": {
        "colab": {
          "base_uri": "https://localhost:8080/",
          "height": 295
        },
        "id": "Ywx8dxMtEREZ",
        "outputId": "8a4548b9-4197-44ce-bd85-ba29b46b57d1"
      },
      "execution_count": 31,
      "outputs": [
        {
          "output_type": "display_data",
          "data": {
            "image/png": "[encoded data removed]",
            "text/plain": [
              "<Figure size 720x288 with 1 Axes>"
            ]
          },
          "metadata": {
            "needs_background": "light"
          }
        }
      ]
    },
    {
      "cell_type": "code",
      "execution_count": 32,
      "metadata": {
        "id": "VI35BeR1HUrF",
        "jupyter": {
          "outputs_hidden": false
        },
        "colab": {
          "base_uri": "https://localhost:8080/"
        },
        "outputId": "a2b874f6-d840-4d70-f491-01bc2135b7ab"
      },
      "outputs": [
        {
          "output_type": "stream",
          "name": "stdout",
          "text": [
            "min of Kmeans objective : 37.994678652201955\n",
            "mean of Kmeans objective : 38.728584976235496\n",
            "standard deviation of Kmeans objective : 1.1564954070868672\n"
          ]
        }
      ],
      "source": [
        "print(f'min of Kmeans objective : {min(objective)}')\n",
        "print(f'mean of Kmeans objective : {np.mean(objective)}')\n",
        "print(f'standard deviation of Kmeans objective : {np.std(objective)}')"
      ]
    },
    {
      "cell_type": "markdown",
      "metadata": {
        "id": "Ndy_MTDhN3cP"
      },
      "source": [
        "### b)\n",
        "\n",
        "Kmeans++ is an initialization algorithm for K-means proposed by David Arthur\n",
        "and Sergei Vassilvitskii in 2007:\n",
        "\n",
        "1. Pick the first cluster center $C_1$ uniformly at random from the data $x_1, ..., x_n$. In other words, we first pick an index i uniformly at random from $\\{1, ..., n\\}$, then set $C_1 = x_i$.\n",
        "\n",
        "2. For $j = 2, ..., K$:\n",
        "  * For each data point, compute its distance $D_i$ to the nearest cluster center picked in a previous iteration:\n",
        "  $D_i = \\min_{j'=1,...,j-1}||x_i-C_{j'}||$\n",
        "  * Pick the cluster center $C_j$ at random from $x_1, ..., x_n$ with probabilities proportional to $D^2_1,..., D^2_n$. Precisely, we pick an index $i$ at random from $\\{1, ..., n\\}$ with probabilities\n",
        "equal to $\\frac{D^2_1}{\\sum_{i'=1}^n{D^2_{i'}}}, ...., \\frac{D^2_n}{\\sum_{i'=1}^n{D^2_{i'}}}$ , and set $C_j = x_i$.\n",
        "3. Return C as the initial cluster  ssignments for Lloyd’s algorithm.\n",
        "\n",
        "\n",
        "Replicate the figure and calculations in part (b) using Kmeans++ as the initialization algorithm, instead of picking C uniformly at random."
      ]
    },
    {
      "cell_type": "markdown",
      "source": [
        "نحوه ی مقداردهی اولیه برای کلاستر ها با روش kmeans++"
      ],
      "metadata": {
        "id": "YMxOaPH5CD89"
      }
    },
    {
      "cell_type": "code",
      "execution_count": null,
      "metadata": {
        "id": "KvbOyr4rKxw7",
        "jupyter": {
          "outputs_hidden": false
        }
      },
      "outputs": [],
      "source": [
        "#TODO"
      ]
    },
    {
      "cell_type": "markdown",
      "metadata": {
        "id": "u9TTgoYZK8B3"
      },
      "source": [
        "Hopefully your results make it clear how sensitive Lloyd’s algorithm is to initializations, even in\n",
        "such a simple, two dimensional data set!"
      ]
    },
    {
      "cell_type": "markdown",
      "metadata": {
        "id": "Wu0TIyj9MaTN"
      },
      "source": [
        "### c)\n",
        "\n",
        "A common way to pick K is as follows. For each value of K in some range (e.g. $K = 1, ..., n$, or some subset), we find an approximate minimum of the k-means objective using our favorite algorithm\n",
        "(e.g. multiple runs of randomly initialized Lloyd’s algorithm). Then we plot the resulting values of the k-means objective against the values of K. Often, if our data set is such that there exists a natural value for K, we see a “knee” in this plot, i.e. a value for K where the rate at which the within-cluster sum of squares is decreasing sharply reduces. This suggests we should use the value for K where this knee occurs. In the toy example in below Figure, this value would be K = 6."
      ]
    },
    {
      "cell_type": "markdown",
      "metadata": {
        "id": "jpbjP4WgNH6V"
      },
      "source": [
        "![Screenshot from 2020-12-09 00-43-36.png](data:image/png;base64,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)"
      ]
    },
    {
      "cell_type": "markdown",
      "metadata": {
        "id": "xHFA7pNjNRfc"
      },
      "source": [
        " Produce a plot similar to the one in Figure 1 for $K = 1, ..., 15$ using the data set in (b), and show where the “knee” is. For each value of K, run k-means with at least 200 initializations and pick the best resulting clustering (in terms of the objective) to ensure you get close to the global minimum."
      ]
    },
    {
      "cell_type": "markdown",
      "source": [
        "از همون مقدار kmeans++ که در قسمت قبل استفاده کردیم برای ۲۰۰ تکرار بیا این معیارهای kmeans را بدست بیار و در نمودار قرار بده."
      ],
      "metadata": {
        "id": "WiTE2zXLGVdF"
      }
    },
    {
      "cell_type": "code",
      "execution_count": null,
      "metadata": {
        "id": "8a_LvqY_LIRg",
        "jupyter": {
          "outputs_hidden": false
        }
      },
      "outputs": [],
      "source": [
        "#TODO"
      ]
    },
    {
      "cell_type": "markdown",
      "metadata": {
        "id": "nukjFVpIPYUW"
      },
      "source": [
        "**** your answer****"
      ]
    },
    {
      "cell_type": "markdown",
      "metadata": {
        "id": "EykCb5GPOXF1"
      },
      "source": [
        "### d)\n",
        "\n",
        " Repeat part (c) with the data set in *HW6_second_clustering_dataset.csv*. Find 2 knees in the resulting plot (you may need to plot the square root of the within-cluster sum of squares instead, in order to make the second knee\n",
        "obvious). Explain why we get 2 knees for this data set (consider plotting the data to see what’s going on)."
      ]
    },
    {
      "cell_type": "markdown",
      "source": [
        "همون کاری که برای رسم نمودار در قسمت قبل کردیم را روی داده های جدید امتحان کنیم و دلیل وجود دو زانو را بگیم."
      ],
      "metadata": {
        "id": "w6gK_PZbGrHy"
      }
    },
    {
      "cell_type": "code",
      "source": [
        "df2 = pd.read_csv('/content/drive/MyDrive/ML/HW6/clustering_datasets/second_clustering_dataset.csv', header=None)\n",
        "df2.head()"
      ],
      "metadata": {
        "colab": {
          "base_uri": "https://localhost:8080/",
          "height": 206
        },
        "id": "NpyzkhGFHm02",
        "outputId": "4434ce3a-3546-467f-9ac2-4162e9b71868"
      },
      "execution_count": 32,
      "outputs": [
        {
          "output_type": "execute_result",
          "data": {
            "text/html": [
              "\n",
              "  <div id=\"df-3a5edf23-f7a0-4e1d-b014-f5aecc3fea82\">\n",
              "    <div class=\"colab-df-container\">\n",
              "      <div>\n",
              "<style scoped>\n",
              "    .dataframe tbody tr th:only-of-type {\n",
              "        vertical-align: middle;\n",
              "    }\n",
              "\n",
              "    .dataframe tbody tr th {\n",
              "        vertical-align: top;\n",
              "    }\n",
              "\n",
              "    .dataframe thead th {\n",
              "        text-align: right;\n",
              "    }\n",
              "</style>\n",
              "<table border=\"1\" class=\"dataframe\">\n",
              "  <thead>\n",
              "    <tr style=\"text-align: right;\">\n",
              "      <th></th>\n",
              "      <th>0</th>\n",
              "      <th>1</th>\n",
              "    </tr>\n",
              "  </thead>\n",
              "  <tbody>\n",
              "    <tr>\n",
              "      <th>0</th>\n",
              "      <td>1.047961</td>\n",
              "      <td>0.357217</td>\n",
              "    </tr>\n",
              "    <tr>\n",
              "      <th>1</th>\n",
              "      <td>0.201221</td>\n",
              "      <td>0.295197</td>\n",
              "    </tr>\n",
              "    <tr>\n",
              "      <th>2</th>\n",
              "      <td>0.163506</td>\n",
              "      <td>-1.846756</td>\n",
              "    </tr>\n",
              "    <tr>\n",
              "      <th>3</th>\n",
              "      <td>0.876857</td>\n",
              "      <td>1.499314</td>\n",
              "    </tr>\n",
              "    <tr>\n",
              "      <th>4</th>\n",
              "      <td>1.389838</td>\n",
              "      <td>0.092843</td>\n",
              "    </tr>\n",
              "  </tbody>\n",
              "</table>\n",
              "</div>\n",
              "      <button class=\"colab-df-convert\" onclick=\"convertToInteractive('df-3a5edf23-f7a0-4e1d-b014-f5aecc3fea82')\"\n",
              "              title=\"Convert this dataframe to an interactive table.\"\n",
              "              style=\"display:none;\">\n",
              "        \n",
              "  <svg xmlns=\"http://www.w3.org/2000/svg\" height=\"24px\"viewBox=\"0 0 24 24\"\n",
              "       width=\"24px\">\n",
              "    <path d=\"M0 0h24v24H0V0z\" fill=\"none\"/>\n",
              "    <path d=\"M18.56 5.44l.94 2.06.94-2.06 2.06-.94-2.06-.94-.94-2.06-.94 2.06-2.06.94zm-11 1L8.5 8.5l.94-2.06 2.06-.94-2.06-.94L8.5 2.5l-.94 2.06-2.06.94zm10 10l.94 2.06.94-2.06 2.06-.94-2.06-.94-.94-2.06-.94 2.06-2.06.94z\"/><path d=\"M17.41 7.96l-1.37-1.37c-.4-.4-.92-.59-1.43-.59-.52 0-1.04.2-1.43.59L10.3 9.45l-7.72 7.72c-.78.78-.78 2.05 0 2.83L4 21.41c.39.39.9.59 1.41.59.51 0 1.02-.2 1.41-.59l7.78-7.78 2.81-2.81c.8-.78.8-2.07 0-2.86zM5.41 20L4 18.59l7.72-7.72 1.47 1.35L5.41 20z\"/>\n",
              "  </svg>\n",
              "      </button>\n",
              "      \n",
              "  <style>\n",
              "    .colab-df-container {\n",
              "      display:flex;\n",
              "      flex-wrap:wrap;\n",
              "      gap: 12px;\n",
              "    }\n",
              "\n",
              "    .colab-df-convert {\n",
              "      background-color: #E8F0FE;\n",
              "      border: none;\n",
              "      border-radius: 50%;\n",
              "      cursor: pointer;\n",
              "      display: none;\n",
              "      fill: #1967D2;\n",
              "      height: 32px;\n",
              "      padding: 0 0 0 0;\n",
              "      width: 32px;\n",
              "    }\n",
              "\n",
              "    .colab-df-convert:hover {\n",
              "      background-color: #E2EBFA;\n",
              "      box-shadow: 0px 1px 2px rgba(60, 64, 67, 0.3), 0px 1px 3px 1px rgba(60, 64, 67, 0.15);\n",
              "      fill: #174EA6;\n",
              "    }\n",
              "\n",
              "    [theme=dark] .colab-df-convert {\n",
              "      background-color: #3B4455;\n",
              "      fill: #D2E3FC;\n",
              "    }\n",
              "\n",
              "    [theme=dark] .colab-df-convert:hover {\n",
              "      background-color: #434B5C;\n",
              "      box-shadow: 0px 1px 3px 1px rgba(0, 0, 0, 0.15);\n",
              "      filter: drop-shadow(0px 1px 2px rgba(0, 0, 0, 0.3));\n",
              "      fill: #FFFFFF;\n",
              "    }\n",
              "  </style>\n",
              "\n",
              "      <script>\n",
              "        const buttonEl =\n",
              "          document.querySelector('#df-3a5edf23-f7a0-4e1d-b014-f5aecc3fea82 button.colab-df-convert');\n",
              "        buttonEl.style.display =\n",
              "          google.colab.kernel.accessAllowed ? 'block' : 'none';\n",
              "\n",
              "        async function convertToInteractive(key) {\n",
              "          const element = document.querySelector('#df-3a5edf23-f7a0-4e1d-b014-f5aecc3fea82');\n",
              "          const dataTable =\n",
              "            await google.colab.kernel.invokeFunction('convertToInteractive',\n",
              "                                                     [key], {});\n",
              "          if (!dataTable) return;\n",
              "\n",
              "          const docLinkHtml = 'Like what you see? Visit the ' +\n",
              "            '<a target=\"_blank\" href=https://colab.research.google.com/notebooks/data_table.ipynb>data table notebook</a>'\n",
              "            + ' to learn more about interactive tables.';\n",
              "          element.innerHTML = '';\n",
              "          dataTable['output_type'] = 'display_data';\n",
              "          await google.colab.output.renderOutput(dataTable, element);\n",
              "          const docLink = document.createElement('div');\n",
              "          docLink.innerHTML = docLinkHtml;\n",
              "          element.appendChild(docLink);\n",
              "        }\n",
              "      </script>\n",
              "    </div>\n",
              "  </div>\n",
              "  "
            ],
            "text/plain": [
              "          0         1\n",
              "0  1.047961  0.357217\n",
              "1  0.201221  0.295197\n",
              "2  0.163506 -1.846756\n",
              "3  0.876857  1.499314\n",
              "4  1.389838  0.092843"
            ]
          },
          "metadata": {},
          "execution_count": 32
        }
      ]
    },
    {
      "cell_type": "code",
      "execution_count": null,
      "metadata": {
        "id": "fmnWC3NTLN5O",
        "jupyter": {
          "outputs_hidden": false
        }
      },
      "outputs": [],
      "source": [
        "#TODO"
      ]
    },
    {
      "cell_type": "markdown",
      "metadata": {
        "id": "b7MSdjpLOoxn"
      },
      "source": [
        "**** your answer****"
      ]
    },
    {
      "cell_type": "markdown",
      "metadata": {
        "id": "MpGtnRtxOs6W"
      },
      "source": [
        "We conclude our exploration of k-means clustering with the critical importance of properly scaling the dimensions of your data."
      ]
    },
    {
      "cell_type": "markdown",
      "metadata": {
        "id": "qQC0FWT2O5rW"
      },
      "source": [
        "### e)\n",
        "\n",
        " Load the data in *HW6_third_clustering_dataset.csv*.\n",
        "csv. Perform k-means clustering on this data with K = 2 with 500 initializations. Plot the original data, and overplot the 2 cluster centers."
      ]
    },
    {
      "cell_type": "markdown",
      "source": [
        "۵۰۰ بار اجرا بشود یا در الگوریتم تعداد اینیشسالیزیشن را بزارم ۵۰۰؟"
      ],
      "metadata": {
        "id": "vpk2lD08HJLQ"
      }
    },
    {
      "cell_type": "code",
      "source": [
        "df3 = pd.read_csv('/content/drive/MyDrive/ML/HW6/clustering_datasets/third_clustering_dataset.csv', header=None)\n",
        "df3.head()"
      ],
      "metadata": {
        "colab": {
          "base_uri": "https://localhost:8080/",
          "height": 206
        },
        "id": "2-hFyWGGHzdw",
        "outputId": "409305d1-4f72-492b-81f3-5f86bc7bdbf1"
      },
      "execution_count": 34,
      "outputs": [
        {
          "output_type": "execute_result",
          "data": {
            "text/html": [
              "\n",
              "  <div id=\"df-e95b2bfb-7406-45e8-a8d2-33a0fec6867e\">\n",
              "    <div class=\"colab-df-container\">\n",
              "      <div>\n",
              "<style scoped>\n",
              "    .dataframe tbody tr th:only-of-type {\n",
              "        vertical-align: middle;\n",
              "    }\n",
              "\n",
              "    .dataframe tbody tr th {\n",
              "        vertical-align: top;\n",
              "    }\n",
              "\n",
              "    .dataframe thead th {\n",
              "        text-align: right;\n",
              "    }\n",
              "</style>\n",
              "<table border=\"1\" class=\"dataframe\">\n",
              "  <thead>\n",
              "    <tr style=\"text-align: right;\">\n",
              "      <th></th>\n",
              "      <th>0</th>\n",
              "      <th>1</th>\n",
              "    </tr>\n",
              "  </thead>\n",
              "  <tbody>\n",
              "    <tr>\n",
              "      <th>0</th>\n",
              "      <td>0.315715</td>\n",
              "      <td>0.230080</td>\n",
              "    </tr>\n",
              "    <tr>\n",
              "      <th>1</th>\n",
              "      <td>-0.420268</td>\n",
              "      <td>0.609144</td>\n",
              "    </tr>\n",
              "    <tr>\n",
              "      <th>2</th>\n",
              "      <td>0.102944</td>\n",
              "      <td>-1.117928</td>\n",
              "    </tr>\n",
              "    <tr>\n",
              "      <th>3</th>\n",
              "      <td>-0.105657</td>\n",
              "      <td>-0.112488</td>\n",
              "    </tr>\n",
              "    <tr>\n",
              "      <th>4</th>\n",
              "      <td>-0.674778</td>\n",
              "      <td>0.130790</td>\n",
              "    </tr>\n",
              "  </tbody>\n",
              "</table>\n",
              "</div>\n",
              "      <button class=\"colab-df-convert\" onclick=\"convertToInteractive('df-e95b2bfb-7406-45e8-a8d2-33a0fec6867e')\"\n",
              "              title=\"Convert this dataframe to an interactive table.\"\n",
              "              style=\"display:none;\">\n",
              "        \n",
              "  <svg xmlns=\"http://www.w3.org/2000/svg\" height=\"24px\"viewBox=\"0 0 24 24\"\n",
              "       width=\"24px\">\n",
              "    <path d=\"M0 0h24v24H0V0z\" fill=\"none\"/>\n",
              "    <path d=\"M18.56 5.44l.94 2.06.94-2.06 2.06-.94-2.06-.94-.94-2.06-.94 2.06-2.06.94zm-11 1L8.5 8.5l.94-2.06 2.06-.94-2.06-.94L8.5 2.5l-.94 2.06-2.06.94zm10 10l.94 2.06.94-2.06 2.06-.94-2.06-.94-.94-2.06-.94 2.06-2.06.94z\"/><path d=\"M17.41 7.96l-1.37-1.37c-.4-.4-.92-.59-1.43-.59-.52 0-1.04.2-1.43.59L10.3 9.45l-7.72 7.72c-.78.78-.78 2.05 0 2.83L4 21.41c.39.39.9.59 1.41.59.51 0 1.02-.2 1.41-.59l7.78-7.78 2.81-2.81c.8-.78.8-2.07 0-2.86zM5.41 20L4 18.59l7.72-7.72 1.47 1.35L5.41 20z\"/>\n",
              "  </svg>\n",
              "      </button>\n",
              "      \n",
              "  <style>\n",
              "    .colab-df-container {\n",
              "      display:flex;\n",
              "      flex-wrap:wrap;\n",
              "      gap: 12px;\n",
              "    }\n",
              "\n",
              "    .colab-df-convert {\n",
              "      background-color: #E8F0FE;\n",
              "      border: none;\n",
              "      border-radius: 50%;\n",
              "      cursor: pointer;\n",
              "      display: none;\n",
              "      fill: #1967D2;\n",
              "      height: 32px;\n",
              "      padding: 0 0 0 0;\n",
              "      width: 32px;\n",
              "    }\n",
              "\n",
              "    .colab-df-convert:hover {\n",
              "      background-color: #E2EBFA;\n",
              "      box-shadow: 0px 1px 2px rgba(60, 64, 67, 0.3), 0px 1px 3px 1px rgba(60, 64, 67, 0.15);\n",
              "      fill: #174EA6;\n",
              "    }\n",
              "\n",
              "    [theme=dark] .colab-df-convert {\n",
              "      background-color: #3B4455;\n",
              "      fill: #D2E3FC;\n",
              "    }\n",
              "\n",
              "    [theme=dark] .colab-df-convert:hover {\n",
              "      background-color: #434B5C;\n",
              "      box-shadow: 0px 1px 3px 1px rgba(0, 0, 0, 0.15);\n",
              "      filter: drop-shadow(0px 1px 2px rgba(0, 0, 0, 0.3));\n",
              "      fill: #FFFFFF;\n",
              "    }\n",
              "  </style>\n",
              "\n",
              "      <script>\n",
              "        const buttonEl =\n",
              "          document.querySelector('#df-e95b2bfb-7406-45e8-a8d2-33a0fec6867e button.colab-df-convert');\n",
              "        buttonEl.style.display =\n",
              "          google.colab.kernel.accessAllowed ? 'block' : 'none';\n",
              "\n",
              "        async function convertToInteractive(key) {\n",
              "          const element = document.querySelector('#df-e95b2bfb-7406-45e8-a8d2-33a0fec6867e');\n",
              "          const dataTable =\n",
              "            await google.colab.kernel.invokeFunction('convertToInteractive',\n",
              "                                                     [key], {});\n",
              "          if (!dataTable) return;\n",
              "\n",
              "          const docLinkHtml = 'Like what you see? Visit the ' +\n",
              "            '<a target=\"_blank\" href=https://colab.research.google.com/notebooks/data_table.ipynb>data table notebook</a>'\n",
              "            + ' to learn more about interactive tables.';\n",
              "          element.innerHTML = '';\n",
              "          dataTable['output_type'] = 'display_data';\n",
              "          await google.colab.output.renderOutput(dataTable, element);\n",
              "          const docLink = document.createElement('div');\n",
              "          docLink.innerHTML = docLinkHtml;\n",
              "          element.appendChild(docLink);\n",
              "        }\n",
              "      </script>\n",
              "    </div>\n",
              "  </div>\n",
              "  "
            ],
            "text/plain": [
              "          0         1\n",
              "0  0.315715  0.230080\n",
              "1 -0.420268  0.609144\n",
              "2  0.102944 -1.117928\n",
              "3 -0.105657 -0.112488\n",
              "4 -0.674778  0.130790"
            ]
          },
          "metadata": {},
          "execution_count": 34
        }
      ]
    },
    {
      "cell_type": "code",
      "execution_count": null,
      "metadata": {
        "id": "Fex734KzLRcC",
        "jupyter": {
          "outputs_hidden": false
        }
      },
      "outputs": [],
      "source": [
        "#TODO"
      ]
    },
    {
      "cell_type": "markdown",
      "metadata": {
        "id": "zNGeDJYHPb8Z"
      },
      "source": [
        "**** your answer****"
      ]
    },
    {
      "cell_type": "markdown",
      "metadata": {
        "id": "-DBqO-cSPdFM"
      },
      "source": [
        "### f)\n",
        "\n",
        "Normalize the features in this data set, i.e. first center the data to be mean 0\n",
        "in every dimension, then rescale each dimension to have unit variance. Repeat part (e) with this modified data."
      ]
    },
    {
      "cell_type": "markdown",
      "source": [
        "استاندارد کن داده های قسمت قبل را  و قسمت قبلو تکرار کن"
      ],
      "metadata": {
        "id": "lDrcB3TyHVn0"
      }
    },
    {
      "cell_type": "code",
      "execution_count": null,
      "metadata": {
        "id": "kap516atLT-_",
        "jupyter": {
          "outputs_hidden": false
        }
      },
      "outputs": [],
      "source": [
        "#TODO"
      ]
    },
    {
      "cell_type": "markdown",
      "metadata": {
        "id": "7oKL3gx3PkTs"
      },
      "source": [
        "**** your answer****"
      ]
    },
    {
      "cell_type": "markdown",
      "metadata": {
        "id": "4qD7wK98PlCv"
      },
      "source": [
        "As you can see, the results are radically different. You should not take this to mean that data should always be normalized. In some problems, the relative values of the dimensions are meaningful and should be preserved (e.g. the coordinates of earthquake epicenters in a region). But in others, the dimensions are on entirely different scales (e.g. age in years v.s. income in thousands of dollars).\n",
        "Proper pre-processing of data for clustering is often part of the art of machine learning."
      ]
    }
  ],
  "metadata": {
    "colab": {
      "collapsed_sections": [],
      "name": "HW6-ZahraDehghani.ipynb",
      "provenance": [],
      "include_colab_link": true
    },
    "kernelspec": {
      "display_name": "Python 3 (ipykernel)",
      "language": "python",
      "name": "python3"
    },
    "language_info": {
      "codemirror_mode": {
        "name": "ipython",
        "version": 3
      },
      "file_extension": ".py",
      "mimetype": "text/x-python",
      "name": "python",
      "nbconvert_exporter": "python",
      "pygments_lexer": "ipython3",
      "version": "3.9.7"
    }
  },
  "nbformat": 4,
  "nbformat_minor": 0
}