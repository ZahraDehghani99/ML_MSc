{
  "nbformat": 4,
  "nbformat_minor": 0,
  "metadata": {
    "colab": {
      "name": "HW1_610300199.ipynb",
      "provenance": [],
      "collapsed_sections": [],
      "toc_visible": true
    },
    "kernelspec": {
      "name": "python3",
      "display_name": "Python 3"
    },
    "language_info": {
      "name": "python"
    }
  },
  "cells": [
    {
      "cell_type": "markdown",
      "metadata": {
        "id": "NoestUy09xXM"
      },
      "source": [
        "# Home Work 1\n"
      ]
    },
    {
      "cell_type": "markdown",
      "metadata": {
        "id": "VCLfzb5vIFT-"
      },
      "source": [
        "In this notebook we want to work with these kinds of Regression:\n",
        "\n",
        "\n",
        "1.   Linear Regression\n",
        "2.   Polynomial Regression degree 3\n",
        "3.   Polynomial Regression degree 5\n",
        "\n"
      ]
    },
    {
      "cell_type": "code",
      "metadata": {
        "id": "3HCf1FZZ9qhy"
      },
      "source": [
        "import numpy as np\n",
        "import zipfile\n",
        "import matplotlib.pyplot as plt\n",
        "\n",
        "# np.random.seed(0)"
      ],
      "execution_count": 3,
      "outputs": []
    },
    {
      "cell_type": "code",
      "metadata": {
        "colab": {
          "base_uri": "https://localhost:8080/"
        },
        "id": "MayMG7CwA277",
        "outputId": "b6b1a10f-e94d-413f-b8e6-f7df1d06caa8"
      },
      "source": [
        "from google.colab import drive\n",
        "drive.mount('/content/drive')"
      ],
      "execution_count": 4,
      "outputs": [
        {
          "output_type": "stream",
          "name": "stdout",
          "text": [
            "Mounted at /content/drive\n"
          ]
        }
      ]
    },
    {
      "cell_type": "markdown",
      "metadata": {
        "id": "GIeHnHkeqlgb"
      },
      "source": [
        "## Load dataset"
      ]
    },
    {
      "cell_type": "code",
      "metadata": {
        "colab": {
          "base_uri": "https://localhost:8080/"
        },
        "id": "xwfpilPTAzTQ",
        "outputId": "a280c5b4-ce92-48f1-ef3f-3348ac033497"
      },
      "source": [
        "data_path = '/content/drive/MyDrive/ML/HW1/data.npz'\n",
        "data = np.load(data_path)\n",
        "print(f'type of data : {type(data)}')"
      ],
      "execution_count": 5,
      "outputs": [
        {
          "output_type": "stream",
          "name": "stdout",
          "text": [
            "type of data : <class 'numpy.lib.npyio.NpzFile'>\n"
          ]
        }
      ]
    },
    {
      "cell_type": "code",
      "metadata": {
        "colab": {
          "base_uri": "https://localhost:8080/"
        },
        "id": "yFbIyhmxBbR6",
        "outputId": "77915640-56de-4012-ea5f-564f096dc07f"
      },
      "source": [
        "print(f\"y : {data['y']}\")\n",
        "print(f\"type of y : {type(data['y'])}\")\n",
        "print(f\"shape of y : {data['y'].shape}\")"
      ],
      "execution_count": 4,
      "outputs": [
        {
          "output_type": "stream",
          "name": "stdout",
          "text": [
            "y : [7.57725958e+03 3.36607347e+03 4.13489222e+03 ... 4.38371031e+00\n",
            " 9.67416840e+03 4.54442369e+03]\n",
            "type of y : <class 'numpy.ndarray'>\n",
            "shape of y : (8000,)\n"
          ]
        }
      ]
    },
    {
      "cell_type": "code",
      "metadata": {
        "colab": {
          "base_uri": "https://localhost:8080/"
        },
        "id": "3X7q45b-76sc",
        "outputId": "4c64148f-a035-4990-d3e3-1fca7930fbd3"
      },
      "source": [
        "data['y'][0]"
      ],
      "execution_count": null,
      "outputs": [
        {
          "output_type": "execute_result",
          "data": {
            "text/plain": [
              "7577.259577373756"
            ]
          },
          "metadata": {},
          "execution_count": 5
        }
      ]
    },
    {
      "cell_type": "markdown",
      "metadata": {
        "id": "wF2w_M5mV58M"
      },
      "source": [
        "Let's define a function to extract out data in npz file."
      ]
    },
    {
      "cell_type": "code",
      "metadata": {
        "id": "tulYNFd2BmGc"
      },
      "source": [
        "def npz_headers(npz):\n",
        "    \"\"\"Takes a path to an .npz file, which is a Zip archive of .npy files.\n",
        "    Generates a sequence of (name, shape, np.dtype).\n",
        "    \"\"\"\n",
        "    with zipfile.ZipFile(npz) as archive:\n",
        "        for name in archive.namelist():\n",
        "            if not name.endswith('.npy'):\n",
        "                continue\n",
        "\n",
        "            npy = archive.open(name)\n",
        "            version = np.lib.format.read_magic(npy)\n",
        "            shape, fortran, dtype = np.lib.format._read_array_header(npy, version)\n",
        "            yield name[:-4], shape, dtype"
      ],
      "execution_count": null,
      "outputs": []
    },
    {
      "cell_type": "code",
      "metadata": {
        "colab": {
          "base_uri": "https://localhost:8080/"
        },
        "id": "DQ6vYoNmCR9v",
        "outputId": "6f8d580f-3c98-45a1-adab-69275a273aae"
      },
      "source": [
        "print(f'name , shape, type')\n",
        "print(\"-\"*20)\n",
        "\n",
        "for i in npz_headers(data_path):\n",
        "  print(i)"
      ],
      "execution_count": null,
      "outputs": [
        {
          "output_type": "stream",
          "name": "stdout",
          "text": [
            "name , shape, type\n",
            "--------------------\n",
            "('y', (8000,), dtype('float64'))\n",
            "('x2', (8000,), dtype('float64'))\n",
            "('x2_test', (2000,), dtype('float64'))\n",
            "('x1', (8000,), dtype('float64'))\n",
            "('y_test', (2000,), dtype('float64'))\n",
            "('x1_test', (2000,), dtype('float64'))\n"
          ]
        }
      ]
    },
    {
      "cell_type": "code",
      "metadata": {
        "colab": {
          "base_uri": "https://localhost:8080/",
          "height": 295
        },
        "id": "rH5CeqUrDRlN",
        "outputId": "6f7569dd-16c3-41ea-dc8a-79e5954cea34"
      },
      "source": [
        "plt.scatter(data['x1'],data['y'])\n",
        "plt.xlabel('x1')\n",
        "plt.ylabel('y')\n",
        "plt.title('y vs x1')\n",
        "plt.show()"
      ],
      "execution_count": null,
      "outputs": [
        {
          "output_type": "display_data",
          "data": {
            "image/png": "[encoded data removed]",
            "text/plain": [
              "<Figure size 432x288 with 1 Axes>"
            ]
          },
          "metadata": {
            "needs_background": "light"
          }
        }
      ]
    },
    {
      "cell_type": "code",
      "metadata": {
        "colab": {
          "base_uri": "https://localhost:8080/",
          "height": 295
        },
        "id": "3Wv3t-fpJ2rY",
        "outputId": "3860e78d-cb83-447d-8803-d7b4a1e3f830"
      },
      "source": [
        "plt.scatter(data['x2'],data['y'])\n",
        "plt.xlabel('x2')\n",
        "plt.ylabel('y')\n",
        "plt.title('y vs x2')\n",
        "plt.show()"
      ],
      "execution_count": null,
      "outputs": [
        {
          "output_type": "display_data",
          "data": {
            "image/png": "[encoded data removed]",
            "text/plain": [
              "<Figure size 432x288 with 1 Axes>"
            ]
          },
          "metadata": {
            "needs_background": "light"
          }
        }
      ]
    },
    {
      "cell_type": "markdown",
      "metadata": {
        "id": "t68j-FXO4aBQ"
      },
      "source": [
        "## Normal Equation: the closed-form solution for regression"
      ]
    },
    {
      "cell_type": "markdown",
      "metadata": {
        "id": "VcZ28i3uCJF3"
      },
      "source": [
        "### Required Functions"
      ]
    },
    {
      "cell_type": "markdown",
      "metadata": {
        "id": "ZalAbSOzjA3w"
      },
      "source": [
        "در این قسمت تابع های مورد نیاز را تعریف می کنیم. می شد برای تمیز شدن کار و کم کردن تعداد تابع ها، تابع ایگرگ \n",
        "هت را جدا ننویسم و یکباره فانکشن خطا رو بنویسیم."
      ]
    },
    {
      "cell_type": "code",
      "metadata": {
        "id": "LECSPt9GVXsm"
      },
      "source": [
        "def transform(x1, x2, degree):\n",
        "  '''create X matrix base on degree'''\n",
        "  \n",
        "  # reshape x1 and x2 in order to concatenate them to create matrix X\n",
        "  x1 = x1.reshape(-1,1)\n",
        "  x2 = x2.reshape(-1,1)\n",
        "\n",
        "  X = np.concatenate((x1, x2), axis=1)\n",
        "\n",
        "  for i in range(2, degree+1):\n",
        "    X = np.append(X, x1**i ,axis=1) \n",
        "    X = np.append(X, x2**i ,axis=1) \n",
        "  \n",
        "  n = X.shape[0]# Number of training examples\n",
        "  # Appending a cloumn of ones in X to add the bias term.\n",
        "  X = np.append(np.ones((n,1)), X, axis=1)\n",
        "  return X\n",
        "\n",
        "\n",
        "def find_theta(X, y):\n",
        "  '''calculate theta based on Normal Equation.'''\n",
        "      \n",
        "  # reshaping y to (n,1)\n",
        "  y = y.reshape(-1,1)\n",
        "    \n",
        "  # The Normal Equation\n",
        "  theta = np.dot(np.linalg.inv(np.dot(X.T, X)), np.dot(X.T, y))\n",
        "    \n",
        "  return theta\n",
        "\n",
        "\n",
        "def y_hat(X, theta):\n",
        "  '''Calculate y hat(estimation of y)'''   \n",
        "\n",
        "  y_hat = np.dot(X, theta)\n",
        "  return y_hat\n",
        "\n",
        "\n",
        "def loss(y, y_hat):\n",
        "  '''calculate SSE(Sum of Squared Error)'''\n",
        "    \n",
        "  # y --> true/target value.\n",
        "  # y_hat --> hypothesis\n",
        "  y = y.reshape(-1,1) # convert 1d array into 2d array\n",
        "\n",
        "  loss = np.sum((y_hat - y)**2)\n",
        "  return loss\n"
      ],
      "execution_count": 16,
      "outputs": []
    },
    {
      "cell_type": "markdown",
      "metadata": {
        "id": "TR68-7kBKMdf"
      },
      "source": [
        "### Linear Regression"
      ]
    },
    {
      "cell_type": "markdown",
      "metadata": {
        "id": "X8UsGRLS6RTO"
      },
      "source": [
        "In this section we want to find W in the below equation:\n",
        "\n",
        "w = [w0,\n",
        "     w1,\n",
        "     w2]\n",
        "\n",
        "\n",
        "```\n",
        "y = w0 + w1*x1 + w2*x2\n",
        "```\n",
        "\n",
        "\n"
      ]
    },
    {
      "cell_type": "markdown",
      "metadata": {
        "id": "3XmIux2KW1-y"
      },
      "source": [
        "Let's take a look at our dataset."
      ]
    },
    {
      "cell_type": "code",
      "metadata": {
        "colab": {
          "base_uri": "https://localhost:8080/"
        },
        "id": "j4ftXZtW-Omh",
        "outputId": "e97c664c-ca44-4e6a-8d4a-4aac612bc11d"
      },
      "source": [
        "data['x1']"
      ],
      "execution_count": null,
      "outputs": [
        {
          "output_type": "execute_result",
          "data": {
            "text/plain": [
              "array([7.26500031, 2.35696349, 2.47430862, ..., 0.52292493, 9.43143619,\n",
              "       9.00905255])"
            ]
          },
          "metadata": {},
          "execution_count": 12
        }
      ]
    },
    {
      "cell_type": "code",
      "metadata": {
        "colab": {
          "base_uri": "https://localhost:8080/"
        },
        "id": "1vYvHSKwAHpn",
        "outputId": "76555659-55d9-481f-f941-0f9ffcdcea3a"
      },
      "source": [
        "data['x2']"
      ],
      "execution_count": null,
      "outputs": [
        {
          "output_type": "execute_result",
          "data": {
            "text/plain": [
              "array([15.5955649 , 17.14186901, 18.6237142 , ...,  0.66600689,\n",
              "       15.58160739, 10.89676069])"
            ]
          },
          "metadata": {},
          "execution_count": 13
        }
      ]
    },
    {
      "cell_type": "code",
      "metadata": {
        "colab": {
          "base_uri": "https://localhost:8080/"
        },
        "id": "6qpep2-p9PcR",
        "outputId": "00c0e7c0-ce05-4e1a-9201-caf7dbb603fb"
      },
      "source": [
        "print(f\"shape of data[x1] : {data['x1'].shape}\")"
      ],
      "execution_count": null,
      "outputs": [
        {
          "output_type": "stream",
          "name": "stdout",
          "text": [
            "shape of data[x1] : (8000,)\n"
          ]
        }
      ]
    },
    {
      "cell_type": "code",
      "metadata": {
        "id": "1zcV5IDr9CA0",
        "colab": {
          "base_uri": "https://localhost:8080/"
        },
        "outputId": "dc664093-fe32-48d5-a4af-a8b05f993e4a"
      },
      "source": [
        "# create X_train from x1 and x2\n",
        "X_train = transform(data['x1'], data['x2'], 1)\n",
        "\n",
        "print(f'X_train shape : {X_train.shape}')\n",
        "print(f'type of X_train : {type(X_train)}')\n",
        "print(f'X_train : \\n{X_train}')"
      ],
      "execution_count": null,
      "outputs": [
        {
          "output_type": "stream",
          "name": "stdout",
          "text": [
            "X_train shape : (8000, 3)\n",
            "type of X_train : <class 'numpy.ndarray'>\n",
            "X_train : \n",
            "[[ 1.          7.26500031 15.5955649 ]\n",
            " [ 1.          2.35696349 17.14186901]\n",
            " [ 1.          2.47430862 18.6237142 ]\n",
            " ...\n",
            " [ 1.          0.52292493  0.66600689]\n",
            " [ 1.          9.43143619 15.58160739]\n",
            " [ 1.          9.00905255 10.89676069]]\n"
          ]
        }
      ]
    },
    {
      "cell_type": "code",
      "metadata": {
        "colab": {
          "base_uri": "https://localhost:8080/"
        },
        "id": "2uCACTRUBvxV",
        "outputId": "cafbb07b-9fc5-45b6-874b-4267c6ee3839"
      },
      "source": [
        "# calculate W for linear regression\n",
        "w_linear = find_theta(X_train, data['y'])\n",
        "\n",
        "print(f'w for linear regression : \\n{w_linear}')"
      ],
      "execution_count": null,
      "outputs": [
        {
          "output_type": "stream",
          "name": "stdout",
          "text": [
            "w for linear regression : \n",
            "[[-4226.07005149]\n",
            " [  537.30127365]\n",
            " [  446.63582426]]\n"
          ]
        }
      ]
    },
    {
      "cell_type": "code",
      "metadata": {
        "colab": {
          "base_uri": "https://localhost:8080/"
        },
        "id": "fAb3cBMWCeZI",
        "outputId": "7557b0b6-bb2c-4ac3-9f3e-35873e81c438"
      },
      "source": [
        "# calculate y_hat for X_train\n",
        "y_hat_train = y_hat(X_train, w_linear)\n",
        "\n",
        "print(f'y_hat_train for linear regression : \\n{y_hat_train}')"
      ],
      "execution_count": null,
      "outputs": [
        {
          "output_type": "stream",
          "name": "stdout",
          "text": [
            "y_hat_train for linear regression : \n",
            "[[ 6642.96184932]\n",
            " [ 4696.50222523]\n",
            " [ 5421.39706534]\n",
            " ...\n",
            " [-3647.63928447]\n",
            " [ 7800.75668628]\n",
            " [ 5481.38905149]]\n"
          ]
        }
      ]
    },
    {
      "cell_type": "code",
      "metadata": {
        "id": "jJl1EvvLJQsE",
        "colab": {
          "base_uri": "https://localhost:8080/"
        },
        "outputId": "237f619b-d669-4df1-b80a-8e9ebad500f0"
      },
      "source": [
        "# calculate SSE (Sum of Squared Error) on the Train data\n",
        "train_loss = loss(data['y'], y_hat_train)\n",
        "print(f'SSE on Train : {train_loss}')"
      ],
      "execution_count": null,
      "outputs": [
        {
          "output_type": "stream",
          "name": "stdout",
          "text": [
            "SSE on Train : 18317759690.36797\n"
          ]
        }
      ]
    },
    {
      "cell_type": "markdown",
      "metadata": {
        "id": "c5cNT2XmZRPH"
      },
      "source": [
        "Let's take a look at the test set."
      ]
    },
    {
      "cell_type": "code",
      "metadata": {
        "colab": {
          "base_uri": "https://localhost:8080/"
        },
        "id": "tJS8OhsCsCRR",
        "outputId": "42aa390e-1b72-4067-b2d4-3a9b8dd1a760"
      },
      "source": [
        "data['x1_test']"
      ],
      "execution_count": null,
      "outputs": [
        {
          "output_type": "execute_result",
          "data": {
            "text/plain": [
              "array([10.77423209,  2.79057964,  5.23180031, ..., 10.08920164,\n",
              "        7.82967696,  4.87519541])"
            ]
          },
          "metadata": {},
          "execution_count": 22
        }
      ]
    },
    {
      "cell_type": "code",
      "metadata": {
        "colab": {
          "base_uri": "https://localhost:8080/"
        },
        "id": "-N3VxrvhsE_3",
        "outputId": "6a8c44e5-ca3a-43d1-ad7a-6ede4ed4c729"
      },
      "source": [
        "data['x2_test']"
      ],
      "execution_count": null,
      "outputs": [
        {
          "output_type": "execute_result",
          "data": {
            "text/plain": [
              "array([19.81394021, 16.7197032 , 16.92410388, ...,  5.49741639,\n",
              "       12.89698883, 19.93349456])"
            ]
          },
          "metadata": {},
          "execution_count": 23
        }
      ]
    },
    {
      "cell_type": "code",
      "metadata": {
        "colab": {
          "base_uri": "https://localhost:8080/"
        },
        "id": "XbwDfLc6sIXj",
        "outputId": "de2956c2-b6cd-4c80-a73b-27d42611e294"
      },
      "source": [
        "# calculate X_test form x1_test and x2_test\n",
        "X_test = transform(data['x1_test'], data['x2_test'], 1)\n",
        "\n",
        "print(f'X_test shape : {X_test.shape}')\n",
        "print(f'type of X : {type(X_test)}')\n",
        "print(f'X_test : \\n{X_test}')"
      ],
      "execution_count": null,
      "outputs": [
        {
          "output_type": "stream",
          "name": "stdout",
          "text": [
            "X_test shape : (2000, 3)\n",
            "type of X : <class 'numpy.ndarray'>\n",
            "X_test : \n",
            "[[ 1.         10.77423209 19.81394021]\n",
            " [ 1.          2.79057964 16.7197032 ]\n",
            " [ 1.          5.23180031 16.92410388]\n",
            " ...\n",
            " [ 1.         10.08920164  5.49741639]\n",
            " [ 1.          7.82967696 12.89698883]\n",
            " [ 1.          4.87519541 19.93349456]]\n"
          ]
        }
      ]
    },
    {
      "cell_type": "code",
      "metadata": {
        "id": "0KDHsTDnJvdC",
        "colab": {
          "base_uri": "https://localhost:8080/"
        },
        "outputId": "de91c8a1-f0ec-414e-ad40-2b7de4aebc29"
      },
      "source": [
        "# calculate y_hat for X_test\n",
        "y_hat_test = y_hat(X_test, w_linear)\n",
        "\n",
        "print(f'y_hat_test for linear regression : \\n{y_hat_test}')"
      ],
      "execution_count": null,
      "outputs": [
        {
          "output_type": "stream",
          "name": "stdout",
          "text": [
            "y_hat_test for linear regression : \n",
            "[[10412.55408876]\n",
            " [ 4740.93036483]\n",
            " [ 6143.89400245]\n",
            " ...\n",
            " [ 3650.21394141]\n",
            " [ 5741.08258713]\n",
            " [ 7296.39142551]]\n"
          ]
        }
      ]
    },
    {
      "cell_type": "code",
      "metadata": {
        "colab": {
          "base_uri": "https://localhost:8080/"
        },
        "id": "oJGVaOZgtKQS",
        "outputId": "b5e29ae3-5bb3-44f5-f9ef-79abd14db9ab"
      },
      "source": [
        "# calculate SSE (Sum of Squared Error) on the Test data\n",
        "test_loss = loss(data['y_test'], y_hat_test)\n",
        "print(f'SSE on Test : {test_loss}')"
      ],
      "execution_count": null,
      "outputs": [
        {
          "output_type": "stream",
          "name": "stdout",
          "text": [
            "SSE on Test : 12944759955.771984\n"
          ]
        }
      ]
    },
    {
      "cell_type": "markdown",
      "metadata": {
        "id": "sx9-PTCkKQTe"
      },
      "source": [
        "### Polynomial Regression degree 3"
      ]
    },
    {
      "cell_type": "markdown",
      "metadata": {
        "id": "p7r2VX_rAoqT"
      },
      "source": [
        "In this section, we want to find W in the below equation:\n",
        "\n",
        "w = [w0, w1, w2, w3, w4, w5, w6]\n",
        "\n",
        "```\n",
        "y = w0 + w1*x1 + w2*x2 + w3*(x1**2) + w4*(x2**2) + w5*(x1**3) + w6*(x2**3)\n",
        "```\n",
        "\n"
      ]
    },
    {
      "cell_type": "code",
      "metadata": {
        "colab": {
          "base_uri": "https://localhost:8080/"
        },
        "id": "-RhYDPNPDoNh",
        "outputId": "e102768e-3439-4786-e350-479c1b177dd7"
      },
      "source": [
        "# Calculate X_train for above equation\n",
        "X_train = transform(data['x1'], data['x2'], 3)\n",
        "\n",
        "print(f'X_train shape : {X_train.shape}')\n",
        "print(f'X_train : \\n{X_train}')"
      ],
      "execution_count": null,
      "outputs": [
        {
          "output_type": "stream",
          "name": "stdout",
          "text": [
            "X_train shape : (8000, 7)\n",
            "X_train : \n",
            "[[1.00000000e+00 7.26500031e+00 1.55955649e+01 ... 2.43221645e+02\n",
            "  3.83448383e+02 3.79317894e+03]\n",
            " [1.00000000e+00 2.35696349e+00 1.71418690e+01 ... 2.93843673e+02\n",
            "  1.30935848e+01 5.03702975e+03]\n",
            " [1.00000000e+00 2.47430862e+00 1.86237142e+01 ... 3.46842731e+02\n",
            "  1.51482200e+01 6.45949989e+03]\n",
            " ...\n",
            " [1.00000000e+00 5.22924926e-01 6.66006895e-01 ... 4.43565184e-01\n",
            "  1.42994071e-01 2.95417471e-01]\n",
            " [1.00000000e+00 9.43143619e+00 1.55816074e+01 ... 2.42786489e+02\n",
            "  8.38945004e+02 3.78300375e+03]\n",
            " [1.00000000e+00 9.00905255e+00 1.08967607e+01 ... 1.18739394e+02\n",
            "  7.31201983e+02 1.29387476e+03]]\n"
          ]
        }
      ]
    },
    {
      "cell_type": "code",
      "metadata": {
        "colab": {
          "base_uri": "https://localhost:8080/"
        },
        "id": "eRPhohD_D4kk",
        "outputId": "949767b8-8702-4348-ed6c-b7974c6e9fb8"
      },
      "source": [
        "# calculate W for polynoimial regression\n",
        "w_degree3 = find_theta(X_train, data['y'])\n",
        "\n",
        "print(f'w for polynomial regression degree 3 : \\n{w_degree3}')"
      ],
      "execution_count": null,
      "outputs": [
        {
          "output_type": "stream",
          "name": "stdout",
          "text": [
            "w for polynomial regression degree 3 : \n",
            "[[-2.79586683e+03]\n",
            " [ 5.40646416e+02]\n",
            " [ 5.52465064e+01]\n",
            " [-3.10749259e+00]\n",
            " [ 1.53636772e+01]\n",
            " [ 2.54416248e-01]\n",
            " [ 2.30471714e-01]]\n"
          ]
        }
      ]
    },
    {
      "cell_type": "code",
      "metadata": {
        "colab": {
          "base_uri": "https://localhost:8080/"
        },
        "id": "WWuBEZXUD8Ce",
        "outputId": "43db49ca-90e7-46ca-bd8b-d53efa5d43b0"
      },
      "source": [
        "# calculate y_hat for X_train\n",
        "y_hat_train = y_hat(X_train, w_degree3)\n",
        "\n",
        "print(f'y_hat for polynomial regression degree 3 : \\n{y_hat_train}')"
      ],
      "execution_count": null,
      "outputs": [
        {
          "output_type": "stream",
          "name": "stdout",
          "text": [
            "y_hat for polynomial regression degree 3 : \n",
            "[[ 6538.07063228]\n",
            " [ 5086.92586227]\n",
            " [ 6373.09541536]\n",
            " ...\n",
            " [-2470.28527678]\n",
            " [ 7703.02690866]\n",
            " [ 4733.14450239]]\n"
          ]
        }
      ]
    },
    {
      "cell_type": "markdown",
      "metadata": {
        "id": "L7I_y-FTeEll"
      },
      "source": [
        "همانطور که می بینیم مدل با درجه 3 روی داده های تست بهتر از مدل خطی فیت شده است و خطای دادهای آموزشی آن نسبت به مدل خطی کمتر شده است."
      ]
    },
    {
      "cell_type": "code",
      "metadata": {
        "colab": {
          "base_uri": "https://localhost:8080/"
        },
        "id": "3hO6SQqPFWhj",
        "outputId": "21d63319-fa02-4871-cd7e-533870a891ff"
      },
      "source": [
        "# calculate SSE on the Train data\n",
        "train_loss = loss(data['y'], y_hat_train)\n",
        "print(f'SSE on Train : {train_loss}')"
      ],
      "execution_count": null,
      "outputs": [
        {
          "output_type": "stream",
          "name": "stdout",
          "text": [
            "SSE on Train : 14817860486.598677\n"
          ]
        }
      ]
    },
    {
      "cell_type": "code",
      "metadata": {
        "colab": {
          "base_uri": "https://localhost:8080/"
        },
        "id": "O8yV8ZcyGKZo",
        "outputId": "723c0726-dd4f-4a25-ddf8-6bfdeadbf1c1"
      },
      "source": [
        "# calculate X_test form x1_test and x2_test for degree 3 regreesion\n",
        "X_test = transform(data['x1_test'], data['x2_test'], 3)\n",
        "\n",
        "print(f'X_test shape : {X_test.shape}')\n",
        "print(f'X_test : \\n{X_test}')"
      ],
      "execution_count": null,
      "outputs": [
        {
          "output_type": "stream",
          "name": "stdout",
          "text": [
            "X_test shape : (2000, 7)\n",
            "X_test : \n",
            "[[1.00000000e+00 1.07742321e+01 1.98139402e+01 ... 3.92592227e+02\n",
            "  1.25071679e+03 7.77879891e+03]\n",
            " [1.00000000e+00 2.79057964e+00 1.67197032e+01 ... 2.79548475e+02\n",
            "  2.17311778e+01 4.67396753e+03]\n",
            " [1.00000000e+00 5.23180031e+00 1.69241039e+01 ... 2.86425292e+02\n",
            "  1.43203449e+02 4.84749140e+03]\n",
            " ...\n",
            " [1.00000000e+00 1.00892016e+01 5.49741639e+00 ... 3.02215869e+01\n",
            "  1.02699991e+03 1.66140647e+02]\n",
            " [1.00000000e+00 7.82967696e+00 1.28969888e+01 ... 1.66332321e+02\n",
            "  4.79989274e+02 2.14518608e+03]\n",
            " [1.00000000e+00 4.87519541e+00 1.99334946e+01 ... 3.97344205e+02\n",
            "  1.15871355e+02 7.92045856e+03]]\n"
          ]
        }
      ]
    },
    {
      "cell_type": "code",
      "metadata": {
        "colab": {
          "base_uri": "https://localhost:8080/"
        },
        "id": "BzR8LI3IFyoi",
        "outputId": "4e819439-a836-4265-b62a-b01b47f7b0bf"
      },
      "source": [
        "# calculate y_hat for X_test\n",
        "y_hat_test = y_hat(X_test, w_degree3)\n",
        "\n",
        "print(f'y_hat_test for polynomial regression degree 3 : \\n{y_hat_test}')"
      ],
      "execution_count": null,
      "outputs": [
        {
          "output_type": "stream",
          "name": "stdout",
          "text": [
            "y_hat_test for polynomial regression degree 3 : \n",
            "[[11905.75972022]\n",
            " [ 4989.99475939]\n",
            " [ 6436.81606587]\n",
            " ...\n",
            " [ 3410.10996194]\n",
            " [ 5131.23016463]\n",
            " [ 8826.87792273]]\n"
          ]
        }
      ]
    },
    {
      "cell_type": "markdown",
      "metadata": {
        "id": "AWW2-Zt3ehPq"
      },
      "source": [
        "خطا روی داده های تست نیز در این مدل نسبت به مدل خطی قبل کمتر شده است و نشان دهنده ی این است که مدل بهتر یاد گرفته و خطا روی داده های تست نسبت به خطا در داده های آموزشی در مدل 3 کمتر است که نشان دهنده تعمیم پذیر بودن مدل است."
      ]
    },
    {
      "cell_type": "code",
      "metadata": {
        "colab": {
          "base_uri": "https://localhost:8080/"
        },
        "id": "md0xbSCNGhiP",
        "outputId": "0a2251cb-62f8-45cf-a7fb-25349e8d7ea2"
      },
      "source": [
        "# Calculate SSE on the Test data\n",
        "test_loss = loss(data['y_test'], y_hat_test)\n",
        "print(f'SSE on Test : {test_loss}')"
      ],
      "execution_count": null,
      "outputs": [
        {
          "output_type": "stream",
          "name": "stdout",
          "text": [
            "SSE on Test : 9750669747.48017\n"
          ]
        }
      ]
    },
    {
      "cell_type": "markdown",
      "metadata": {
        "id": "mNtK_-9lbREV"
      },
      "source": [
        "### Polynomial Regression degree 5"
      ]
    },
    {
      "cell_type": "markdown",
      "metadata": {
        "id": "swKtamw0bZQb"
      },
      "source": [
        "In this section, we want to find W in the below equation:\n",
        "\n",
        "w = [w0, w1, w2, w3, w4, w5, w6, w7, w8, w9, w10]\n",
        "\n",
        "```\n",
        "y = w0 + w1*x1 + w2*x2 + w3*(x1**2) + w4*(x2**2) + w5*(x1**3) + w6*(x2**3) + w7*(x1**4) + w8*(x2**4) + w9*(x1**5) + w10*(x2**5)\n",
        "```\n"
      ]
    },
    {
      "cell_type": "code",
      "metadata": {
        "colab": {
          "base_uri": "https://localhost:8080/"
        },
        "id": "e3ZnGc2CGt08",
        "outputId": "a84506c4-5e8f-4ae0-b5df-34e63308124a"
      },
      "source": [
        "# Calculate X_train for above equation\n",
        "X_train = transform(data['x1'], data['x2'], 5)\n",
        "\n",
        "print(f'X_train shape : {X_train.shape}')\n",
        "print(f'X_train : \\n{X_train}')"
      ],
      "execution_count": null,
      "outputs": [
        {
          "output_type": "stream",
          "name": "stdout",
          "text": [
            "X_train shape : (8000, 11)\n",
            "X_train : \n",
            "[[1.00000000e+00 7.26500031e+00 1.55955649e+01 ... 5.91567684e+04\n",
            "  2.02384936e+04 9.22583221e+05]\n",
            " [1.00000000e+00 2.35696349e+00 1.71418690e+01 ... 8.63441042e+04\n",
            "  7.27384887e+01 1.48009932e+06]\n",
            " [1.00000000e+00 2.47430862e+00 1.86237142e+01 ... 1.20299880e+05\n",
            "  9.27404803e+01 2.24043058e+06]\n",
            " ...\n",
            " [1.00000000e+00 5.22924926e-01 6.66006895e-01 ... 1.96750072e-01\n",
            "  3.91017971e-02 1.31036905e-01]\n",
            " [1.00000000e+00 9.43143619e+00 1.55816074e+01 ... 5.89452792e+04\n",
            "  7.46258264e+04 9.18462199e+05]\n",
            " [1.00000000e+00 9.00905255e+00 1.08967607e+01 ... 1.40990436e+04\n",
            "  5.93465669e+04 1.53633904e+05]]\n"
          ]
        }
      ]
    },
    {
      "cell_type": "code",
      "metadata": {
        "colab": {
          "base_uri": "https://localhost:8080/"
        },
        "id": "-V1Fbs4CdEXv",
        "outputId": "912f3461-b17f-4a8f-b120-0e4ca8e73463"
      },
      "source": [
        "# calculate W for polynoimial regression\n",
        "w_degree5 = find_theta(X_train, data['y'])\n",
        "\n",
        "print(f'w for polynomial regression degree 5 : \\n{w_degree5}')"
      ],
      "execution_count": null,
      "outputs": [
        {
          "output_type": "stream",
          "name": "stdout",
          "text": [
            "w for polynomial regression degree 5 : \n",
            "[[-2.61174690e+03]\n",
            " [ 4.70895119e+02]\n",
            " [-6.93858556e+01]\n",
            " [ 1.95318188e+00]\n",
            " [ 4.25679451e+01]\n",
            " [ 7.47825237e+00]\n",
            " [-1.76837453e+00]\n",
            " [-1.55741946e+00]\n",
            " [ 4.14209025e-02]\n",
            " [ 8.60639285e-02]\n",
            " [ 3.04907069e-04]]\n"
          ]
        }
      ]
    },
    {
      "cell_type": "code",
      "metadata": {
        "colab": {
          "base_uri": "https://localhost:8080/"
        },
        "id": "RA9w64zHdNgR",
        "outputId": "3e712d4b-6780-4a45-ccf7-58c856b02fb0"
      },
      "source": [
        "# calculate y_hat for X_train\n",
        "y_hat_train = y_hat(X_train, w_degree5)\n",
        "\n",
        "print(f'y_hat for polynomial regression degree 5 : \\n{y_hat_train}')"
      ],
      "execution_count": null,
      "outputs": [
        {
          "output_type": "stream",
          "name": "stdout",
          "text": [
            "y_hat for polynomial regression degree 5 : \n",
            "[[ 6478.3402438 ]\n",
            " [ 5004.40623146]\n",
            " [ 6343.63795629]\n",
            " ...\n",
            " [-2391.85777433]\n",
            " [ 7662.25426696]\n",
            " [ 4746.60202232]]\n"
          ]
        }
      ]
    },
    {
      "cell_type": "markdown",
      "metadata": {
        "id": "EmBSYxYndroA"
      },
      "source": [
        "همانطور که می بنیم خطای مدل با درجه 5 روی داده های آموزشی نسبت به خطای مدل با درجه 3  کمتر است (حدود 21 میلیون)و توانسته بهتر روی داده های آموزشی فیت شود.\n",
        "\n",
        "\n"
      ]
    },
    {
      "cell_type": "code",
      "metadata": {
        "colab": {
          "base_uri": "https://localhost:8080/"
        },
        "id": "ClTI3nafdWgG",
        "outputId": "07541304-3230-443c-fc39-10091886971c"
      },
      "source": [
        "# calculate SSE on the Train data\n",
        "train_loss = loss(data['y'], y_hat_train)\n",
        "print(f'SSE on Train : {train_loss}')"
      ],
      "execution_count": null,
      "outputs": [
        {
          "output_type": "stream",
          "name": "stdout",
          "text": [
            "SSE on Train : 14796048788.33801\n"
          ]
        }
      ]
    },
    {
      "cell_type": "code",
      "metadata": {
        "colab": {
          "base_uri": "https://localhost:8080/"
        },
        "id": "jtuNASgTdpsA",
        "outputId": "e836acfd-aa05-4f5b-a562-28242a98960d"
      },
      "source": [
        "# calculate X_test form x1_test and x2_test for degree 5 regreesion\n",
        "X_test = transform(data['x1_test'], data['x2_test'], 5)\n",
        "\n",
        "print(f'X_test shape : {X_test.shape}')\n",
        "print(f'X_test : \\n{X_test}')"
      ],
      "execution_count": null,
      "outputs": [
        {
          "output_type": "stream",
          "name": "stdout",
          "text": [
            "X_test shape : (2000, 11)\n",
            "X_test : \n",
            "[[1.00000000e+00 1.07742321e+01 1.98139402e+01 ... 1.54128656e+05\n",
            "  1.45188304e+05 3.05389598e+06]\n",
            " [1.00000000e+00 2.79057964e+00 1.67197032e+01 ... 7.81473500e+04\n",
            "  1.69227956e+02 1.30660050e+06]\n",
            " [1.00000000e+00 5.23180031e+00 1.69241039e+01 ... 8.20394480e+04\n",
            "  3.91972677e+03 1.38844414e+06]\n",
            " ...\n",
            " [1.00000000e+00 1.00892016e+01 5.49741639e+00 ... 9.13344316e+02\n",
            "  1.04540365e+05 5.02103401e+03]\n",
            " [1.00000000e+00 7.82967696e+00 1.28969888e+01 ... 2.76664409e+04\n",
            "  2.94251863e+04 3.56813780e+05]\n",
            " [1.00000000e+00 4.87519541e+00 1.99334946e+01 ... 1.57882418e+05\n",
            "  2.75397593e+03 3.14714831e+06]]\n"
          ]
        }
      ]
    },
    {
      "cell_type": "code",
      "metadata": {
        "colab": {
          "base_uri": "https://localhost:8080/"
        },
        "id": "i3J4TwPzfqNC",
        "outputId": "bf209fcb-48df-47cf-899c-6cda3ebefdf6"
      },
      "source": [
        "# calculate y_hat for X_test\n",
        "y_hat_test = y_hat(X_test, w_degree5)\n",
        "\n",
        "print(f'y_hat_test for polynomial regression degree 5 : \\n{y_hat_test}')"
      ],
      "execution_count": null,
      "outputs": [
        {
          "output_type": "stream",
          "name": "stdout",
          "text": [
            "y_hat_test for polynomial regression degree 5 : \n",
            "[[12446.65510582]\n",
            " [ 4909.85681766]\n",
            " [ 6414.32258878]\n",
            " ...\n",
            " [ 3528.56591712]\n",
            " [ 5110.67043418]\n",
            " [ 8978.04169485]]\n"
          ]
        }
      ]
    },
    {
      "cell_type": "markdown",
      "metadata": {
        "id": "kcnOx3lxgHfZ"
      },
      "source": [
        "خطا روی داده های تست در این مدل نسبت به مدل قبلی کمتر شده است اما همچنان خطا خیلی زیاد است و این احتمالا به این دلیل است که در مدل های درجه 3 و درجه 5 ما رابطه ی بین متغیرها را در مدل در نظر نگرفته ایم. اگر این رابطه را نیز در نظر می گرفتیم به نتیجه بهتری می رسیدیم. اما این نتیجه نشان می دهد مدل با درجه 3و درجه 5 خطای کمتری نسبت به مدل با درجه1 دارند."
      ]
    },
    {
      "cell_type": "code",
      "metadata": {
        "colab": {
          "base_uri": "https://localhost:8080/"
        },
        "id": "hPBVx3yDf0Lx",
        "outputId": "aca21d78-9bd5-4843-ca14-6e0b662621b5"
      },
      "source": [
        "# Calculate SSE on the Test data\n",
        "test_loss = loss(data['y_test'], y_hat_test)\n",
        "print(f'SSE on Test : {test_loss}')"
      ],
      "execution_count": null,
      "outputs": [
        {
          "output_type": "stream",
          "name": "stdout",
          "text": [
            "SSE on Test : 9201143521.590874\n"
          ]
        }
      ]
    },
    {
      "cell_type": "markdown",
      "metadata": {
        "id": "zNdxOxWpg8h1"
      },
      "source": [
        "### Model Comparision"
      ]
    },
    {
      "cell_type": "markdown",
      "metadata": {
        "id": "sVeGSo3McsvO"
      },
      "source": [
        "در این قسمت هدف مقایسه مدل ها است تا ببینیم مدل با چه درجه ای بر حسب خطا روی داده های آموزشی و تست برای داده ها ی مناسب است.\n",
        "همانطور که میبینیم خطا روی داده آموزشی برای مدل خطی در حدود 18 میلیارد است!!!!\n",
        "\n",
        "این به این دلیل است که مدلی که  ما انتخاب کردیم بیش از اندازه برای داده های ما ساده است و نتوانسته داده های آموزشی رو به خوبی یاد بگیرد و طبعا خطا برای داده های تست نیز بالا هست و در حد13 میلیارد است.\n",
        "\n",
        "اما در مدل درجه سه و درجه پنج خطا روی داده های آموزشی و همچنین داده های تست نسبت به مدل خطی کاهش می یابد. زیرا مدل نسبت به مدل خطی پیچیده تر می شود و قابلیت یادگیری مدل افزایش پیدا می کند و بهتر داده ها را یاد می گیرد اما همچنان خطا زیاد است. یعنی خطا در حد 3 میلیار کاهش یافته است. دلیل این خطای بالا در مدل درجه 3 و درجه 5 این است که ما در این مدل ها روابط بین متغیرها و ویژگی ها را در نظر نگرفتیم. مثلا در مدل درجه سه می شد برای ایکس یک و ایکس دو نیز ضریبی در نظر گرفت و بین توان های مختلف آن ها. اگر این کار انجام میشد مدل پبچیده تر این میشد و قابلیت یادگیری بیشتری داشت و در نتیجه خطا روی داده ها کاهش می یافت. البته در درجه های  بالاتر مثلا درجه5 و بالاتر باید به این موضوع توجه داشت که مدل زیاد پیچیده نشود در حدی که داده ها را به همراه نویز حفظ کند و یادگیری نداشته باشد چون در این صورت خطا روی داده های دیده نشده یهنی داده های تست افزایش می یابد که این مطلوب ما نیست."
      ]
    },
    {
      "cell_type": "code",
      "metadata": {
        "id": "CfdS_j_ggF25"
      },
      "source": [
        "train_loss = [18317759690.36797, 14817860486.598677, 14796048788.33801]\n",
        "test_loss = [12944759955.771984 ,9750669747.48017, 9201143521.590874]\n",
        "regressor = ['linear', 'degree3', 'degree5']"
      ],
      "execution_count": null,
      "outputs": []
    },
    {
      "cell_type": "code",
      "metadata": {
        "colab": {
          "base_uri": "https://localhost:8080/",
          "height": 295
        },
        "id": "I9tIL-aBhYVW",
        "outputId": "821ffcff-6655-4230-e056-608576d24246"
      },
      "source": [
        "plt.plot(regressor ,train_loss)\n",
        "plt.xlabel('Regressor')\n",
        "plt.ylabel('Train Loss')\n",
        "plt.title(\"Model Comparition\")\n",
        "plt.show()"
      ],
      "execution_count": null,
      "outputs": [
        {
          "output_type": "display_data",
          "data": {
            "image/png": "[encoded data removed]",
            "text/plain": [
              "<Figure size 432x288 with 1 Axes>"
            ]
          },
          "metadata": {
            "needs_background": "light"
          }
        }
      ]
    },
    {
      "cell_type": "code",
      "metadata": {
        "colab": {
          "base_uri": "https://localhost:8080/",
          "height": 295
        },
        "id": "X-w--VDjh_ul",
        "outputId": "d4ced303-b134-4810-d12a-ae3d79cb0b6e"
      },
      "source": [
        "plt.plot(regressor ,test_loss)\n",
        "plt.xlabel('Regressor')\n",
        "plt.ylabel('Test Loss')\n",
        "plt.title(\"Model Comparition\")\n",
        "plt.show()"
      ],
      "execution_count": null,
      "outputs": [
        {
          "output_type": "display_data",
          "data": {
            "image/png": "[encoded data removed]",
            "text/plain": [
              "<Figure size 432x288 with 1 Axes>"
            ]
          },
          "metadata": {
            "needs_background": "light"
          }
        }
      ]
    },
    {
      "cell_type": "markdown",
      "metadata": {
        "id": "GCs53tONMGxV"
      },
      "source": [
        "همانطور که در نمودار های بالا مشاهده می کنیم طبق نتایج بدست آمده مدل با درجه 5 عملکرد بهتری تسبت به بقیه هم روی داده های آموزشی و هم روی داده های تست دارد و توانسته داده ها و الگوهای موجود در آنها را بهتر از بقیه یاد بگیرد."
      ]
    },
    {
      "cell_type": "markdown",
      "metadata": {
        "id": "9Na1kKy9jQxg"
      },
      "source": [
        "## Gradient Descent"
      ]
    },
    {
      "cell_type": "markdown",
      "metadata": {
        "id": "5_ZlY0hgf8tZ"
      },
      "source": [
        "در این قسمت هدف این است تا ضرایب معادله های رگرسیون را به جای معادله نرمال ،با استفاده از گرادیان کاهشی بدست آوریم. معادله نرمال در یک گام ما را به ضرایب بهینه می رساند و نیازی به انتخب ضرایب رندوم اولیه ندارد و روش راحت تری است اما ایرادی که دارد این است که گاهی تعداد ویژگی ها بیشتر از تعداد داده های آموزشی هستند در این صورت ماتریس ویژگی ها، منفرد(سینگیولار) می شود که در اینصورت امکان محاسبه معکوس در معادله نرمال نیست. همچنین اگر تعداد داده ها نیز زیاد باشد برای محاسبه ضرب ماتریسی عملیات خیلی زیادی باید "
      ]
    },
    {
      "cell_type": "code",
      "metadata": {
        "id": "QjyzHNlZjH0M"
      },
      "source": [
        "def gradient_descent1(X, y, theta, alpha, epoch):\n",
        "  '''Calculate gradient descent to achieve min J'''\n",
        "  # because y in one dim array\n",
        "  y = y.reshape(-1,1)\n",
        "  # history of cost values\n",
        "  J = []\n",
        "  iter = 0\n",
        "  \n",
        "  #y_hat with initial theta\n",
        "  y_hat_train = y_hat(X, theta)\n",
        "  J.append(loss(y, y_hat_train))\n",
        "\n",
        "  while iter < epoch:\n",
        "\n",
        "    # gradient descent function in vectorized form\n",
        "    error = y - y_hat_train\n",
        "    theta = theta + alpha*np.dot(X.T, error)\n",
        "\n",
        "    y_hat_train = y_hat(X, theta)\n",
        "    j = loss(y, y_hat_train)\n",
        "    J.append(j)\n",
        "\n",
        "    print(f'loss functon : iter {iter} ==> {j}')\n",
        "    iter += 1\n",
        "    \n",
        "  return J, theta\n"
      ],
      "execution_count": 17,
      "outputs": []
    },
    {
      "cell_type": "markdown",
      "metadata": {
        "id": "0yFttF2u_iiu"
      },
      "source": [
        "### Linear Regression"
      ]
    },
    {
      "cell_type": "code",
      "metadata": {
        "id": "7b4l7KGr_rVD"
      },
      "source": [
        "np.random.seed(0)"
      ],
      "execution_count": 18,
      "outputs": []
    },
    {
      "cell_type": "code",
      "metadata": {
        "colab": {
          "base_uri": "https://localhost:8080/"
        },
        "id": "tB1S-azXpkOB",
        "outputId": "17bdd13e-6359-49c0-ed23-e611b1419be2"
      },
      "source": [
        "# Initialize w_linear on normal distribution\n",
        "w_linear = np.random.normal(0, 1, 3)\n",
        "\n",
        "print(f'w_linear shape : {w_linear.shape}')\n",
        "print(f'w_linear with GD : {w_linear}')"
      ],
      "execution_count": null,
      "outputs": [
        {
          "output_type": "stream",
          "name": "stdout",
          "text": [
            "w_linear shape : (3,)\n",
            "w_linear with GD : [1.76405235 0.40015721 0.97873798]\n"
          ]
        }
      ]
    },
    {
      "cell_type": "markdown",
      "metadata": {
        "id": "mw_vtour1s40"
      },
      "source": [
        "دراین قسمت باید ماتریس داده ها را درست کنیم و سپس یک وزن اولیه رو از توزیع رندوم ست کنیم. سپس نرخ یادگیری و تعداد ایپاک ها رو مشخص می کنیم و گرادیان کاهشی را اجرا می کنیم. ابتدا این آزمایش رو برای نرخ یادگیری 0.001 و تعداد تکرار 10 در نظر می گیریم. مشاهده می کنیم تابع خطا روی داده های آموزشی به شدت افزایش می یابد. سپس تعداد تکرار رو به 100 افزایش می دهیم تا شاید با افزایش تکرار خطا کاهش پیدا کند اما می بینیم که خطا به سمت بی نهایت می رود و وزن نهایی خالی می ماند و قادر به محاسبه آن نیست. سپس نرخ یادگیری را کاهش می دهیم تا از واگرایی آن کمتر شود و به 0.0001 کاهش می دهیم اما مشاهده می کنیم که باز واگرا می شویم و در نهایت با 100 تکرار به بی نهایت می رویم.\n",
        "همچنینن با نرخ یادگیری 0.00001 نیز واگرا می شویم.\n",
        "به این نتیجه می رسیم که برای اینکه واگرا نشویم و مقدار خطای ما کاهش پیدا کند باید نرخ یادگیری را خیلی کم کنیم. با کم کردن نرخ یادگیری تغییراتی که در خطا صورت می گیرد کم می شود و پس باید تعداد ایپاک ها را زیادتر کنیم و با تعداد تکرار بیشتری به جواب مورد نظرمان می رسیم.\n",
        "\n",
        "لازم به ذکر است که در اینجا ما شرط توقف گرادیان کاهشی رو برابر با تعداد ایپاک در نظر گرفته ایم و هدفمان این است تا به خطایی نزدیک به خطایی که با روش  معادله بسته رسیده بودیم برسیم.\n",
        "\n",
        "در بین نرخ یادگیری های لیست زیر، 0.000001 بهترین نتیجه رو به ما می دهد و همگرا می شود. ما این نرخ یادگیری رو به همراه 400 ایپاک امتحان کردیم که درایپاک های آخر کاهش که در خطای داده آموزشی کم میشود.\n",
        "\n",
        "alpha = [0.001, 0.0001, 0.00001, 0.000001]"
      ]
    },
    {
      "cell_type": "code",
      "metadata": {
        "id": "da7ugAkJBWMs"
      },
      "source": [
        "X_train = transform(data['x1'], data['x2'], 1)\n",
        "w_linear = w_linear.reshape(-1, 1)\n",
        "\n",
        "alpha = 0.000001\n",
        "epoch = 400"
      ],
      "execution_count": null,
      "outputs": []
    },
    {
      "cell_type": "code",
      "metadata": {
        "colab": {
          "base_uri": "https://localhost:8080/"
        },
        "id": "bjRsrImmGepO",
        "outputId": "d04df5d2-b14e-4a36-8482-3f3382959526"
      },
      "source": [
        "J, theta = gradient_descent1(X_train, data['y'], w_linear, alpha, epoch)"
      ],
      "execution_count": null,
      "outputs": [
        {
          "output_type": "stream",
          "name": "stdout",
          "text": [
            "loss functon : iter 0 ==> 45277198672.86505\n",
            "loss functon : iter 1 ==> 38984484597.16259\n",
            "loss functon : iter 2 ==> 38558207963.35896\n",
            "loss functon : iter 3 ==> 38464602118.71813\n",
            "loss functon : iter 4 ==> 38395044258.619125\n",
            "loss functon : iter 5 ==> 38331324504.2843\n",
            "loss functon : iter 6 ==> 38271569178.15379\n",
            "loss functon : iter 7 ==> 38214980340.93893\n",
            "loss functon : iter 8 ==> 38160955416.127625\n",
            "loss functon : iter 9 ==> 38109011785.728\n",
            "loss functon : iter 10 ==> 38058761270.55078\n",
            "loss functon : iter 11 ==> 38009891551.40056\n",
            "loss functon : iter 12 ==> 37962151331.05862\n",
            "loss functon : iter 13 ==> 37915338403.33217\n",
            "loss functon : iter 14 ==> 37869290055.112854\n",
            "loss functon : iter 15 ==> 37823875344.9914\n",
            "loss functon : iter 16 ==> 37778988891.51686\n",
            "loss functon : iter 17 ==> 37734545875.941765\n",
            "loss functon : iter 18 ==> 37690478022.00349\n",
            "loss functon : iter 19 ==> 37646730361.7169\n",
            "loss functon : iter 20 ==> 37603258633.50166\n",
            "loss functon : iter 21 ==> 37560027189.01342\n",
            "loss functon : iter 22 ==> 37517007309.21991\n",
            "loss functon : iter 23 ==> 37474175849.70865\n",
            "loss functon : iter 24 ==> 37431514150.85652\n",
            "loss functon : iter 25 ==> 37389007161.07696\n",
            "loss functon : iter 26 ==> 37346642731.48489\n",
            "loss functon : iter 27 ==> 37304411048.46492\n",
            "loss functon : iter 28 ==> 37262304177.18032\n",
            "loss functon : iter 29 ==> 37220315694.332726\n",
            "loss functon : iter 30 ==> 37178440392.72229\n",
            "loss functon : iter 31 ==> 37136674043.570595\n",
            "loss functon : iter 32 ==> 37095013205.31256\n",
            "loss functon : iter 33 ==> 37053455069.77234\n",
            "loss functon : iter 34 ==> 37011997338.413666\n",
            "loss functon : iter 35 ==> 36970638122.78505\n",
            "loss functon : iter 36 ==> 36929375864.42906\n",
            "loss functon : iter 37 ==> 36888209270.45045\n",
            "loss functon : iter 38 ==> 36847137261.68134\n",
            "loss functon : iter 39 ==> 36806158930.980804\n",
            "loss functon : iter 40 ==> 36765273509.687164\n",
            "loss functon : iter 41 ==> 36724480340.62928\n",
            "loss functon : iter 42 ==> 36683778856.414276\n",
            "loss functon : iter 43 ==> 36643168561.96014\n",
            "loss functon : iter 44 ==> 36602649020.44333\n",
            "loss functon : iter 45 ==> 36562219841.99352\n",
            "loss functon : iter 46 ==> 36521880674.59867\n",
            "loss functon : iter 47 ==> 36481631196.78791\n",
            "loss functon : iter 48 ==> 36441471111.744995\n",
            "loss functon : iter 49 ==> 36401400142.57237\n",
            "loss functon : iter 50 ==> 36361418028.48111\n",
            "loss functon : iter 51 ==> 36321524521.72543\n",
            "loss functon : iter 52 ==> 36281719385.136536\n",
            "loss functon : iter 53 ==> 36242002390.13832\n",
            "loss functon : iter 54 ==> 36202373315.15091\n",
            "loss functon : iter 55 ==> 36162831944.30617\n",
            "loss functon : iter 56 ==> 36123378066.41404\n",
            "loss functon : iter 57 ==> 36084011474.13097\n",
            "loss functon : iter 58 ==> 36044731963.29058\n",
            "loss functon : iter 59 ==> 36005539332.365135\n",
            "loss functon : iter 60 ==> 35966433382.03203\n",
            "loss functon : iter 61 ==> 35927413914.82492\n",
            "loss functon : iter 62 ==> 35888480734.85283\n",
            "loss functon : iter 63 ==> 35849633647.574036\n",
            "loss functon : iter 64 ==> 35810872459.61397\n",
            "loss functon : iter 65 ==> 35772196978.61848\n",
            "loss functon : iter 66 ==> 35733607013.135735\n",
            "loss functon : iter 67 ==> 35695102372.5209\n",
            "loss functon : iter 68 ==> 35656682866.85937\n",
            "loss functon : iter 69 ==> 35618348306.90476\n",
            "loss functon : iter 70 ==> 35580098504.028915\n",
            "loss functon : iter 71 ==> 35541933270.1814\n",
            "loss functon : iter 72 ==> 35503852417.85691\n",
            "loss functon : iter 73 ==> 35465855760.06869\n",
            "loss functon : iter 74 ==> 35427943110.32707\n",
            "loss functon : iter 75 ==> 35390114282.62207\n",
            "loss functon : iter 76 ==> 35352369091.40904\n",
            "loss functon : iter 77 ==> 35314707351.5972\n",
            "loss functon : iter 78 ==> 35277128878.539986\n",
            "loss functon : iter 79 ==> 35239633488.0273\n",
            "loss functon : iter 80 ==> 35202220996.278984\n",
            "loss functon : iter 81 ==> 35164891219.93947\n",
            "loss functon : iter 82 ==> 35127643976.07321\n",
            "loss functon : iter 83 ==> 35090479082.16098\n",
            "loss functon : iter 84 ==> 35053396356.09655\n",
            "loss functon : iter 85 ==> 35016395616.183945\n",
            "loss functon : iter 86 ==> 34979476681.13509\n",
            "loss functon : iter 87 ==> 34942639370.06763\n",
            "loss functon : iter 88 ==> 34905883502.5031\n",
            "loss functon : iter 89 ==> 34869208898.3653\n",
            "loss functon : iter 90 ==> 34832615377.9787\n",
            "loss functon : iter 91 ==> 34796102762.06708\n",
            "loss functon : iter 92 ==> 34759670871.75226\n",
            "loss functon : iter 93 ==> 34723319528.55291\n",
            "loss functon : iter 94 ==> 34687048554.38333\n",
            "loss functon : iter 95 ==> 34650857771.55246\n",
            "loss functon : iter 96 ==> 34614747002.76277\n",
            "loss functon : iter 97 ==> 34578716071.10928\n",
            "loss functon : iter 98 ==> 34542764800.0786\n",
            "loss functon : iter 99 ==> 34506893013.54793\n",
            "loss functon : iter 100 ==> 34471100535.78417\n",
            "loss functon : iter 101 ==> 34435387191.44298\n",
            "loss functon : iter 102 ==> 34399752805.56786\n",
            "loss functon : iter 103 ==> 34364197203.58931\n",
            "loss functon : iter 104 ==> 34328720211.323864\n",
            "loss functon : iter 105 ==> 34293321654.97328\n",
            "loss functon : iter 106 ==> 34258001361.123653\n",
            "loss functon : iter 107 ==> 34222759156.744514\n",
            "loss functon : iter 108 ==> 34187594869.188026\n",
            "loss functon : iter 109 ==> 34152508326.18808\n",
            "loss functon : iter 110 ==> 34117499355.859474\n",
            "loss functon : iter 111 ==> 34082567786.69704\n",
            "loss functon : iter 112 ==> 34047713447.574837\n",
            "loss functon : iter 113 ==> 34012936167.745247\n",
            "loss functon : iter 114 ==> 33978235776.838196\n",
            "loss functon : iter 115 ==> 33943612104.86029\n",
            "loss functon : iter 116 ==> 33909064982.193977\n",
            "loss functon : iter 117 ==> 33874594239.596714\n",
            "loss functon : iter 118 ==> 33840199708.20015\n",
            "loss functon : iter 119 ==> 33805881219.50928\n",
            "loss functon : iter 120 ==> 33771638605.401634\n",
            "loss functon : iter 121 ==> 33737471698.126457\n",
            "loss functon : iter 122 ==> 33703380330.303844\n",
            "loss functon : iter 123 ==> 33669364334.923985\n",
            "loss functon : iter 124 ==> 33635423545.34629\n",
            "loss functon : iter 125 ==> 33601557795.298615\n",
            "loss functon : iter 126 ==> 33567766918.87641\n",
            "loss functon : iter 127 ==> 33534050750.541924\n",
            "loss functon : iter 128 ==> 33500409125.123413\n",
            "loss functon : iter 129 ==> 33466841877.81428\n",
            "loss functon : iter 130 ==> 33433348844.17233\n",
            "loss functon : iter 131 ==> 33399929860.11891\n",
            "loss functon : iter 132 ==> 33366584761.938137\n",
            "loss functon : iter 133 ==> 33333313386.276096\n",
            "loss functon : iter 134 ==> 33300115570.140007\n",
            "loss functon : iter 135 ==> 33266991150.89747\n",
            "loss functon : iter 136 ==> 33233939966.275642\n",
            "loss functon : iter 137 ==> 33200961854.36045\n",
            "loss functon : iter 138 ==> 33168056653.595795\n",
            "loss functon : iter 139 ==> 33135224202.782757\n",
            "loss functon : iter 140 ==> 33102464341.07882\n",
            "loss functon : iter 141 ==> 33069776907.997063\n",
            "loss functon : iter 142 ==> 33037161743.405396\n",
            "loss functon : iter 143 ==> 33004618687.52575\n",
            "loss functon : iter 144 ==> 32972147580.933323\n",
            "loss functon : iter 145 ==> 32939748264.55578\n",
            "loss functon : iter 146 ==> 32907420579.67247\n",
            "loss functon : iter 147 ==> 32875164367.913673\n",
            "loss functon : iter 148 ==> 32842979471.25979\n",
            "loss functon : iter 149 ==> 32810865732.0406\n",
            "loss functon : iter 150 ==> 32778822992.934467\n",
            "loss functon : iter 151 ==> 32746851096.967583\n",
            "loss functon : iter 152 ==> 32714949887.513187\n",
            "loss functon : iter 153 ==> 32683119208.290802\n",
            "loss functon : iter 154 ==> 32651358903.36548\n",
            "loss functon : iter 155 ==> 32619668817.14701\n",
            "loss functon : iter 156 ==> 32588048794.38921\n",
            "loss functon : iter 157 ==> 32556498680.189087\n",
            "loss functon : iter 158 ==> 32525018319.986156\n",
            "loss functon : iter 159 ==> 32493607559.561634\n",
            "loss functon : iter 160 ==> 32462266245.037697\n",
            "loss functon : iter 161 ==> 32430994222.876747\n",
            "loss functon : iter 162 ==> 32399791339.880615\n",
            "loss functon : iter 163 ==> 32368657443.189857\n",
            "loss functon : iter 164 ==> 32337592380.28298\n",
            "loss functon : iter 165 ==> 32306595998.9757\n",
            "loss functon : iter 166 ==> 32275668147.420193\n",
            "loss functon : iter 167 ==> 32244808674.10435\n",
            "loss functon : iter 168 ==> 32214017427.851067\n",
            "loss functon : iter 169 ==> 32183294257.817436\n",
            "loss functon : iter 170 ==> 32152639013.494076\n",
            "loss functon : iter 171 ==> 32122051544.70436\n",
            "loss functon : iter 172 ==> 32091531701.603676\n",
            "loss functon : iter 173 ==> 32061079334.67872\n",
            "loss functon : iter 174 ==> 32030694294.746723\n",
            "loss functon : iter 175 ==> 32000376432.954773\n",
            "loss functon : iter 176 ==> 31970125600.77903\n",
            "loss functon : iter 177 ==> 31939941650.024033\n",
            "loss functon : iter 178 ==> 31909824432.821976\n",
            "loss functon : iter 179 ==> 31879773801.631966\n",
            "loss functon : iter 180 ==> 31849789609.23929\n",
            "loss functon : iter 181 ==> 31819871708.754745\n",
            "loss functon : iter 182 ==> 31790019953.613857\n",
            "loss functon : iter 183 ==> 31760234197.576202\n",
            "loss functon : iter 184 ==> 31730514294.724686\n",
            "loss functon : iter 185 ==> 31700860099.464798\n",
            "loss functon : iter 186 ==> 31671271466.52395\n",
            "loss functon : iter 187 ==> 31641748250.950714\n",
            "loss functon : iter 188 ==> 31612290308.114155\n",
            "loss functon : iter 189 ==> 31582897493.70308\n",
            "loss functon : iter 190 ==> 31553569663.72537\n",
            "loss functon : iter 191 ==> 31524306674.50724\n",
            "loss functon : iter 192 ==> 31495108382.692577\n",
            "loss functon : iter 193 ==> 31465974645.24219\n",
            "loss functon : iter 194 ==> 31436905319.43315\n",
            "loss functon : iter 195 ==> 31407900262.858063\n",
            "loss functon : iter 196 ==> 31378959333.42438\n",
            "loss functon : iter 197 ==> 31350082389.353718\n",
            "loss functon : iter 198 ==> 31321269289.181145\n",
            "loss functon : iter 199 ==> 31292519891.75448\n",
            "loss functon : iter 200 ==> 31263834056.233627\n",
            "loss functon : iter 201 ==> 31235211642.08988\n",
            "loss functon : iter 202 ==> 31206652509.10521\n",
            "loss functon : iter 203 ==> 31178156517.371613\n",
            "loss functon : iter 204 ==> 31149723527.29039\n",
            "loss functon : iter 205 ==> 31121353399.57149\n",
            "loss functon : iter 206 ==> 31093045995.232815\n",
            "loss functon : iter 207 ==> 31064801175.599545\n",
            "loss functon : iter 208 ==> 31036618802.30345\n",
            "loss functon : iter 209 ==> 31008498737.282223\n",
            "loss functon : iter 210 ==> 30980440842.778793\n",
            "loss functon : iter 211 ==> 30952444981.34066\n",
            "loss functon : iter 212 ==> 30924511015.819214\n",
            "loss functon : iter 213 ==> 30896638809.369072\n",
            "loss functon : iter 214 ==> 30868828225.447395\n",
            "loss functon : iter 215 ==> 30841079127.81323\n",
            "loss functon : iter 216 ==> 30813391380.52683\n",
            "loss functon : iter 217 ==> 30785764847.949013\n",
            "loss functon : iter 218 ==> 30758199394.740456\n",
            "loss functon : iter 219 ==> 30730694885.861095\n",
            "loss functon : iter 220 ==> 30703251186.569386\n",
            "loss functon : iter 221 ==> 30675868162.421707\n",
            "loss functon : iter 222 ==> 30648545679.271675\n",
            "loss functon : iter 223 ==> 30621283603.269478\n",
            "loss functon : iter 224 ==> 30594081800.861244\n",
            "loss functon : iter 225 ==> 30566940138.78837\n",
            "loss functon : iter 226 ==> 30539858484.086884\n",
            "loss functon : iter 227 ==> 30512836704.08676\n",
            "loss functon : iter 228 ==> 30485874666.41132\n",
            "loss functon : iter 229 ==> 30458972238.976532\n",
            "loss functon : iter 230 ==> 30432129289.990402\n",
            "loss functon : iter 231 ==> 30405345687.952316\n",
            "loss functon : iter 232 ==> 30378621301.65239\n",
            "loss functon : iter 233 ==> 30351956000.17082\n",
            "loss functon : iter 234 ==> 30325349652.877266\n",
            "loss functon : iter 235 ==> 30298802129.430206\n",
            "loss functon : iter 236 ==> 30272313299.776264\n",
            "loss functon : iter 237 ==> 30245883034.14962\n",
            "loss functon : iter 238 ==> 30219511203.071342\n",
            "loss functon : iter 239 ==> 30193197677.34877\n",
            "loss functon : iter 240 ==> 30166942328.07486\n",
            "loss functon : iter 241 ==> 30140745026.627594\n",
            "loss functon : iter 242 ==> 30114605644.669296\n",
            "loss functon : iter 243 ==> 30088524054.14605\n",
            "loss functon : iter 244 ==> 30062500127.287045\n",
            "loss functon : iter 245 ==> 30036533736.603962\n",
            "loss functon : iter 246 ==> 30010624754.89034\n",
            "loss functon : iter 247 ==> 29984773055.22097\n",
            "loss functon : iter 248 ==> 29958978510.951244\n",
            "loss functon : iter 249 ==> 29933240995.716568\n",
            "loss functon : iter 250 ==> 29907560383.431713\n",
            "loss functon : iter 251 ==> 29881936548.29023\n",
            "loss functon : iter 252 ==> 29856369364.763794\n",
            "loss functon : iter 253 ==> 29830858707.601616\n",
            "loss functon : iter 254 ==> 29805404451.829834\n",
            "loss functon : iter 255 ==> 29780006472.750885\n",
            "loss functon : iter 256 ==> 29754664645.94289\n",
            "loss functon : iter 257 ==> 29729378847.259064\n",
            "loss functon : iter 258 ==> 29704148952.827087\n",
            "loss functon : iter 259 ==> 29678974839.048527\n",
            "loss functon : iter 260 ==> 29653856382.598194\n",
            "loss functon : iter 261 ==> 29628793460.42357\n",
            "loss functon : iter 262 ==> 29603785949.744186\n",
            "loss functon : iter 263 ==> 29578833728.05104\n",
            "loss functon : iter 264 ==> 29553936673.105965\n",
            "loss functon : iter 265 ==> 29529094662.94107\n",
            "loss functon : iter 266 ==> 29504307575.8581\n",
            "loss functon : iter 267 ==> 29479575290.427887\n",
            "loss functon : iter 268 ==> 29454897685.489716\n",
            "loss functon : iter 269 ==> 29430274640.15074\n",
            "loss functon : iter 270 ==> 29405706033.785408\n",
            "loss functon : iter 271 ==> 29381191746.03485\n",
            "loss functon : iter 272 ==> 29356731656.8063\n",
            "loss functon : iter 273 ==> 29332325646.272507\n",
            "loss functon : iter 274 ==> 29307973594.871136\n",
            "loss functon : iter 275 ==> 29283675383.3042\n",
            "loss functon : iter 276 ==> 29259430892.53747\n",
            "loss functon : iter 277 ==> 29235240003.79988\n",
            "loss functon : iter 278 ==> 29211102598.582962\n",
            "loss functon : iter 279 ==> 29187018558.64025\n",
            "loss functon : iter 280 ==> 29162987765.986725\n",
            "loss functon : iter 281 ==> 29139010102.898193\n",
            "loss functon : iter 282 ==> 29115085451.910767\n",
            "loss functon : iter 283 ==> 29091213695.820236\n",
            "loss functon : iter 284 ==> 29067394717.681526\n",
            "loss functon : iter 285 ==> 29043628400.808113\n",
            "loss functon : iter 286 ==> 29019914628.77146\n",
            "loss functon : iter 287 ==> 28996253285.400436\n",
            "loss functon : iter 288 ==> 28972644254.780754\n",
            "loss functon : iter 289 ==> 28949087421.25441\n",
            "loss functon : iter 290 ==> 28925582669.419083\n",
            "loss functon : iter 291 ==> 28902129884.127617\n",
            "loss functon : iter 292 ==> 28878728950.48743\n",
            "loss functon : iter 293 ==> 28855379753.85996\n",
            "loss functon : iter 294 ==> 28832082179.860077\n",
            "loss functon : iter 295 ==> 28808836114.355568\n",
            "loss functon : iter 296 ==> 28785641443.46654\n",
            "loss functon : iter 297 ==> 28762498053.56489\n",
            "loss functon : iter 298 ==> 28739405831.27373\n",
            "loss functon : iter 299 ==> 28716364663.46682\n",
            "loss functon : iter 300 ==> 28693374437.268063\n",
            "loss functon : iter 301 ==> 28670435040.05088\n",
            "loss functon : iter 302 ==> 28647546359.43773\n",
            "loss functon : iter 303 ==> 28624708283.29951\n",
            "loss functon : iter 304 ==> 28601920699.755028\n",
            "loss functon : iter 305 ==> 28579183497.170456\n",
            "loss functon : iter 306 ==> 28556496564.15876\n",
            "loss functon : iter 307 ==> 28533859789.579185\n",
            "loss functon : iter 308 ==> 28511273062.53669\n",
            "loss functon : iter 309 ==> 28488736272.381424\n",
            "loss functon : iter 310 ==> 28466249308.70815\n",
            "loss functon : iter 311 ==> 28443812061.355736\n",
            "loss functon : iter 312 ==> 28421424420.40661\n",
            "loss functon : iter 313 ==> 28399086276.18621\n",
            "loss functon : iter 314 ==> 28376797519.26245\n",
            "loss functon : iter 315 ==> 28354558040.445198\n",
            "loss functon : iter 316 ==> 28332367730.78572\n",
            "loss functon : iter 317 ==> 28310226481.576157\n",
            "loss functon : iter 318 ==> 28288134184.349003\n",
            "loss functon : iter 319 ==> 28266090730.87654\n",
            "loss functon : iter 320 ==> 28244096013.170353\n",
            "loss functon : iter 321 ==> 28222149923.480766\n",
            "loss functon : iter 322 ==> 28200252354.296326\n",
            "loss functon : iter 323 ==> 28178403198.34328\n",
            "loss functon : iter 324 ==> 28156602348.58505\n",
            "loss functon : iter 325 ==> 28134849698.221695\n",
            "loss functon : iter 326 ==> 28113145140.6894\n",
            "loss functon : iter 327 ==> 28091488569.659966\n",
            "loss functon : iter 328 ==> 28069879879.040253\n",
            "loss functon : iter 329 ==> 28048318962.97169\n",
            "loss functon : iter 330 ==> 28026805715.829758\n",
            "loss functon : iter 331 ==> 28005340032.223442\n",
            "loss functon : iter 332 ==> 27983921806.99476\n",
            "loss functon : iter 333 ==> 27962550935.2182\n",
            "loss functon : iter 334 ==> 27941227312.200245\n",
            "loss functon : iter 335 ==> 27919950833.478844\n",
            "loss functon : iter 336 ==> 27898721394.82289\n",
            "loss functon : iter 337 ==> 27877538892.23173\n",
            "loss functon : iter 338 ==> 27856403221.934647\n",
            "loss functon : iter 339 ==> 27835314280.39033\n",
            "loss functon : iter 340 ==> 27814271964.286415\n",
            "loss functon : iter 341 ==> 27793276170.538933\n",
            "loss functon : iter 342 ==> 27772326796.29183\n",
            "loss functon : iter 343 ==> 27751423738.91645\n",
            "loss functon : iter 344 ==> 27730566896.011047\n",
            "loss functon : iter 345 ==> 27709756165.400265\n",
            "loss functon : iter 346 ==> 27688991445.13466\n",
            "loss functon : iter 347 ==> 27668272633.49016\n",
            "loss functon : iter 348 ==> 27647599628.967636\n",
            "loss functon : iter 349 ==> 27626972330.292324\n",
            "loss functon : iter 350 ==> 27606390636.413395\n",
            "loss functon : iter 351 ==> 27585854446.50341\n",
            "loss functon : iter 352 ==> 27565363659.95788\n",
            "loss functon : iter 353 ==> 27544918176.3947\n",
            "loss functon : iter 354 ==> 27524517895.653736\n",
            "loss functon : iter 355 ==> 27504162717.79628\n",
            "loss functon : iter 356 ==> 27483852543.104584\n",
            "loss functon : iter 357 ==> 27463587272.08136\n",
            "loss functon : iter 358 ==> 27443366805.449306\n",
            "loss functon : iter 359 ==> 27423191044.1506\n",
            "loss functon : iter 360 ==> 27403059889.346436\n",
            "loss functon : iter 361 ==> 27382973242.41653\n",
            "loss functon : iter 362 ==> 27362931004.958633\n",
            "loss functon : iter 363 ==> 27342933078.788063\n",
            "loss functon : iter 364 ==> 27322979365.937187\n",
            "loss functon : iter 365 ==> 27303069768.655006\n",
            "loss functon : iter 366 ==> 27283204189.406616\n",
            "loss functon : iter 367 ==> 27263382530.872746\n",
            "loss functon : iter 368 ==> 27243604695.949303\n",
            "loss functon : iter 369 ==> 27223870587.746876\n",
            "loss functon : iter 370 ==> 27204180109.590267\n",
            "loss functon : iter 371 ==> 27184533165.018013\n",
            "loss functon : iter 372 ==> 27164929657.781918\n",
            "loss functon : iter 373 ==> 27145369491.84659\n",
            "loss functon : iter 374 ==> 27125852571.388947\n",
            "loss functon : iter 375 ==> 27106378800.79777\n",
            "loss functon : iter 376 ==> 27086948084.673225\n",
            "loss functon : iter 377 ==> 27067560327.8264\n",
            "loss functon : iter 378 ==> 27048215435.278824\n",
            "loss functon : iter 379 ==> 27028913312.26203\n",
            "loss functon : iter 380 ==> 27009653864.217068\n",
            "loss functon : iter 381 ==> 26990436996.794037\n",
            "loss functon : iter 382 ==> 26971262615.851646\n",
            "loss functon : iter 383 ==> 26952130627.45674\n",
            "loss functon : iter 384 ==> 26933040937.883835\n",
            "loss functon : iter 385 ==> 26913993453.61467\n",
            "loss functon : iter 386 ==> 26894988081.33774\n",
            "loss functon : iter 387 ==> 26876024727.947838\n",
            "loss functon : iter 388 ==> 26857103300.545612\n",
            "loss functon : iter 389 ==> 26838223706.437088\n",
            "loss functon : iter 390 ==> 26819385853.133247\n",
            "loss functon : iter 391 ==> 26800589648.349533\n",
            "loss functon : iter 392 ==> 26781835000.005436\n",
            "loss functon : iter 393 ==> 26763121816.224022\n",
            "loss functon : iter 394 ==> 26744450005.331482\n",
            "loss functon : iter 395 ==> 26725819475.8567\n",
            "loss functon : iter 396 ==> 26707230136.53078\n",
            "loss functon : iter 397 ==> 26688681896.28662\n",
            "loss functon : iter 398 ==> 26670174664.25846\n",
            "loss functon : iter 399 ==> 26651708349.78143\n"
          ]
        }
      ]
    },
    {
      "cell_type": "code",
      "metadata": {
        "colab": {
          "base_uri": "https://localhost:8080/"
        },
        "id": "wPnMsrQPMwWx",
        "outputId": "27d22439-e34b-42ae-8190-557df1e8eeb0"
      },
      "source": [
        "print(f'SSE on Train : {J[-1]}')"
      ],
      "execution_count": null,
      "outputs": [
        {
          "output_type": "stream",
          "name": "stdout",
          "text": [
            "SSE on Train : 26651708349.78143\n"
          ]
        }
      ]
    },
    {
      "cell_type": "code",
      "metadata": {
        "colab": {
          "base_uri": "https://localhost:8080/"
        },
        "id": "5vyU2dLwLbsl",
        "outputId": "8188963b-4937-4b8c-be35-8a132e4d3d04"
      },
      "source": [
        "theta.shape"
      ],
      "execution_count": null,
      "outputs": [
        {
          "output_type": "execute_result",
          "data": {
            "text/plain": [
              "(3, 1)"
            ]
          },
          "metadata": {},
          "execution_count": 13
        }
      ]
    },
    {
      "cell_type": "markdown",
      "metadata": {
        "id": "A51lfLpoQ4BD"
      },
      "source": [
        "باید هنوز ایپاک رو بیشتر بگیرم هنوز نزدیک نشده"
      ]
    },
    {
      "cell_type": "code",
      "metadata": {
        "colab": {
          "base_uri": "https://localhost:8080/"
        },
        "id": "7WIQA2w-LfFR",
        "outputId": "ee063e0d-8b71-4337-a3be-47ce360785bb"
      },
      "source": [
        "theta "
      ],
      "execution_count": null,
      "outputs": [
        {
          "output_type": "execute_result",
          "data": {
            "text/plain": [
              "array([[-1493.86515235],\n",
              "       [  300.03796353],\n",
              "       [  330.12705238]])"
            ]
          },
          "metadata": {},
          "execution_count": 14
        }
      ]
    },
    {
      "cell_type": "markdown",
      "metadata": {
        "id": "GGLSAxyABltF"
      },
      "source": [
        "بنظر می رسد نرخ یاگیری انتخاب شده برای این معادله زیاد باشد. زیرا خطا به یک بازه کاهش پیدا کرده و نمودار تیز شده است."
      ]
    },
    {
      "cell_type": "code",
      "metadata": {
        "colab": {
          "base_uri": "https://localhost:8080/",
          "height": 295
        },
        "id": "LNUeIC7GB5RF",
        "outputId": "b07787a9-3ea3-4609-ece2-852989a90843"
      },
      "source": [
        "plt.plot(J, label='Training loss')\n",
        "plt.xlabel('epoch')\n",
        "plt.ylabel('cost function')\n",
        "plt.legend(frameon=False)\n",
        "plt.title(f\"Loss function for {epoch} epochs\")\n",
        "plt.show()"
      ],
      "execution_count": null,
      "outputs": [
        {
          "output_type": "display_data",
          "data": {
            "image/png": "[encoded data removed]",
            "text/plain": [
              "<Figure size 432x288 with 1 Axes>"
            ]
          },
          "metadata": {
            "needs_background": "light"
          }
        }
      ]
    },
    {
      "cell_type": "code",
      "metadata": {
        "colab": {
          "base_uri": "https://localhost:8080/"
        },
        "id": "GY-dXnFpHQ1B",
        "outputId": "920a064b-2889-46ea-d33e-0ef7f68a9a7a"
      },
      "source": [
        "# set the theta as w_linear\n",
        "w_linear_GD = theta\n",
        "\n",
        "X_test = transform(data['x1_test'], data['x2_test'], 1)\n",
        "\n",
        "# calculate y_hat for X_test\n",
        "y_hat_test = y_hat(X_test, w_linear_GD)\n",
        "\n",
        "# Calculate SSE on the Test data\n",
        "test_loss = loss(data['y_test'], y_hat_test)\n",
        "print(f'SSE on Test : {test_loss}')"
      ],
      "execution_count": null,
      "outputs": [
        {
          "output_type": "stream",
          "name": "stdout",
          "text": [
            "SSE on Test : 19877459300.489796\n"
          ]
        }
      ]
    },
    {
      "cell_type": "markdown",
      "metadata": {
        "id": "ASZHh85B6vHc"
      },
      "source": [
        "### Polynomial Regression degree 3"
      ]
    },
    {
      "cell_type": "markdown",
      "metadata": {
        "id": "3Sbc3OYxF9d0"
      },
      "source": [
        "#### Experiment 1"
      ]
    },
    {
      "cell_type": "code",
      "metadata": {
        "colab": {
          "base_uri": "https://localhost:8080/"
        },
        "id": "OQxjOZMd80L6",
        "outputId": "9e57ef97-72fa-4bcb-ed43-405e1fe1a33d"
      },
      "source": [
        "# Initialize w_degree3 on normal distribution. we need 7 coefficients.\n",
        "w_degree3 = np.random.normal(0, 1, 7)\n",
        "\n",
        "print(f'w_degree3 shape : {w_degree3.shape}')\n",
        "print(f'w_degree3 with GD : {w_degree3}')"
      ],
      "execution_count": null,
      "outputs": [
        {
          "output_type": "stream",
          "name": "stdout",
          "text": [
            "w_degree3 shape : (7,)\n",
            "w_degree3 with GD : [ 2.2408932   1.86755799 -0.97727788  0.95008842 -0.15135721 -0.10321885\n",
            "  0.4105985 ]\n"
          ]
        }
      ]
    },
    {
      "cell_type": "markdown",
      "metadata": {
        "id": "X9CUns4s-jcx"
      },
      "source": [
        "در اینجا با نرخ یادگیری 0.001و تعداد تکرار 100 در تکرار 19 ام به بی نهایت می رود و به شدت واگرا می شود.پس باید نرخ یادگیری رو کاهش دهیم .با کاهش نرخ یادگیری به 0.0001 در تکرار 21 ام به بی نهایت میل می کنیم.\n",
        "پس باید خیلی بیشتر نرخ یادگیری رو کم کنیم تا همگرا شویم.\n",
        "همینطور باید نرخ یادگیری کاهش پیدا بکند. طبق آزمایش هایی که من انجام دادم در نرخ یادگیری 10 به توان منفی 11 همگرا می شویم. اما با این نرخ یادگیری به دلیل اینکه نرخ یادیگری خیلی کوچک است کاهش در خطای یادگیری خیلی کم میشه وم کم تغییر صورت می گیرد. پس باید تعداد ایپاک ها رو بیشتر کنیم تا کاهش رو بیشتر مشاهده کنیم.\n",
        "\n"
      ]
    },
    {
      "cell_type": "code",
      "metadata": {
        "id": "zD35j_Ma9a27"
      },
      "source": [
        "X_train = transform(data['x1'], data['x2'], 3)\n",
        "w_degree3 = w_degree3.reshape(-1, 1)\n",
        "\n",
        "alpha = 0.00000000001\n",
        "epoch = 400"
      ],
      "execution_count": null,
      "outputs": []
    },
    {
      "cell_type": "code",
      "metadata": {
        "colab": {
          "base_uri": "https://localhost:8080/"
        },
        "id": "TeYXGZbK-OP-",
        "outputId": "854efd4d-2de9-494d-df4e-72dbe6ef7e95"
      },
      "source": [
        "J, theta = gradient_descent1(X_train, data['y'], w_degree3, alpha, epoch)"
      ],
      "execution_count": null,
      "outputs": [
        {
          "output_type": "stream",
          "name": "stdout",
          "text": [
            "loss functon : iter 0 ==> 39817836103.27098\n",
            "loss functon : iter 1 ==> 35747972375.60405\n",
            "loss functon : iter 2 ==> 35196388970.36165\n",
            "loss functon : iter 3 ==> 34896991533.48916\n",
            "loss functon : iter 4 ==> 34620209897.15484\n",
            "loss functon : iter 5 ==> 34349822406.27896\n",
            "loss functon : iter 6 ==> 34084599040.560146\n",
            "loss functon : iter 7 ==> 33824364791.06682\n",
            "loss functon : iter 8 ==> 33569020438.62699\n",
            "loss functon : iter 9 ==> 33318473722.263306\n",
            "loss functon : iter 10 ==> 33072634472.388603\n",
            "loss functon : iter 11 ==> 32831414238.753883\n",
            "loss functon : iter 12 ==> 32594726234.76424\n",
            "loss functon : iter 13 ==> 32362485304.577858\n",
            "loss functon : iter 14 ==> 32134607892.350487\n",
            "loss functon : iter 15 ==> 31911012012.16502\n",
            "loss functon : iter 16 ==> 31691617218.5337\n",
            "loss functon : iter 17 ==> 31476344577.454964\n",
            "loss functon : iter 18 ==> 31265116638.01426\n",
            "loss functon : iter 19 ==> 31057857404.518368\n",
            "loss functon : iter 20 ==> 30854492309.153328\n",
            "loss functon : iter 21 ==> 30654948185.156075\n",
            "loss functon : iter 22 ==> 30459153240.490185\n",
            "loss functon : iter 23 ==> 30267037032.01621\n",
            "loss functon : iter 24 ==> 30078530440.147285\n",
            "loss functon : iter 25 ==> 29893565643.98099\n",
            "loss functon : iter 26 ==> 29712076096.898445\n",
            "loss functon : iter 27 ==> 29533996502.62183\n",
            "loss functon : iter 28 ==> 29359262791.721817\n",
            "loss functon : iter 29 ==> 29187812098.56636\n",
            "loss functon : iter 30 ==> 29019582738.702606\n",
            "loss functon : iter 31 ==> 28854514186.663795\n",
            "loss functon : iter 32 ==> 28692547054.193108\n",
            "loss functon : iter 33 ==> 28533623068.876713\n",
            "loss functon : iter 34 ==> 28377685053.17821\n",
            "loss functon : iter 35 ==> 28224676903.867073\n",
            "loss functon : iter 36 ==> 28074543571.833546\n",
            "loss functon : iter 37 ==> 27927231042.282825\n",
            "loss functon : iter 38 ==> 27782686315.301376\n",
            "loss functon : iter 39 ==> 27640857386.78837\n",
            "loss functon : iter 40 ==> 27501693229.745415\n",
            "loss functon : iter 41 ==> 27365143775.91783\n",
            "loss functon : iter 42 ==> 27231159897.780846\n",
            "loss functon : iter 43 ==> 27099693390.864296\n",
            "loss functon : iter 44 ==> 26970696956.40937\n",
            "loss functon : iter 45 ==> 26844124184.351257\n",
            "loss functon : iter 46 ==> 26719929536.62153\n",
            "loss functon : iter 47 ==> 26598068330.764236\n",
            "loss functon : iter 48 ==> 26478496723.859833\n",
            "loss functon : iter 49 ==> 26361171696.75121\n",
            "loss functon : iter 50 ==> 26246051038.566\n",
            "loss functon : iter 51 ==> 26133093331.52983\n",
            "loss functon : iter 52 ==> 26022257936.06479\n",
            "loss functon : iter 53 ==> 25913504976.16795\n",
            "loss functon : iter 54 ==> 25806795325.06461\n",
            "loss functon : iter 55 ==> 25702090591.131058\n",
            "loss functon : iter 56 ==> 25599353104.08188\n",
            "loss functon : iter 57 ==> 25498545901.41675\n",
            "loss functon : iter 58 ==> 25399632715.12191\n",
            "loss functon : iter 59 ==> 25302577958.62149\n",
            "loss functon : iter 60 ==> 25207346713.974\n",
            "loss functon : iter 61 ==> 25113904719.309383\n",
            "loss functon : iter 62 ==> 25022218356.502167\n",
            "loss functon : iter 63 ==> 24932254639.076122\n",
            "loss functon : iter 64 ==> 24843981200.336273\n",
            "loss functon : iter 65 ==> 24757366281.723846\n",
            "loss functon : iter 66 ==> 24672378721.390034\n",
            "loss functon : iter 67 ==> 24588987942.984436\n",
            "loss functon : iter 68 ==> 24507163944.65416\n",
            "loss functon : iter 69 ==> 24426877288.249622\n",
            "loss functon : iter 70 ==> 24348099088.733154\n",
            "loss functon : iter 71 ==> 24270801003.786594\n",
            "loss functon : iter 72 ==> 24194955223.614193\n",
            "loss functon : iter 73 ==> 24120534460.937035\n",
            "loss functon : iter 74 ==> 24047511941.17553\n",
            "loss functon : iter 75 ==> 23975861392.8163\n",
            "loss functon : iter 76 ==> 23905557037.96013\n",
            "loss functon : iter 77 ==> 23836573583.047447\n",
            "loss functon : iter 78 ==> 23768886209.7581\n",
            "loss functon : iter 79 ==> 23702470566.0821\n",
            "loss functon : iter 80 ==> 23637302757.55816\n",
            "loss functon : iter 81 ==> 23573359338.67681\n",
            "loss functon : iter 82 ==> 23510617304.4451\n",
            "loss functon : iter 83 ==> 23449054082.10971\n",
            "loss functon : iter 84 ==> 23388647523.035667\n",
            "loss functon : iter 85 ==> 23329375894.737576\n",
            "loss functon : iter 86 ==> 23271217873.060623\n",
            "loss functon : iter 87 ==> 23214152534.508457\n",
            "loss functon : iter 88 ==> 23158159348.715263\n",
            "loss functon : iter 89 ==> 23103218171.05922\n",
            "loss functon : iter 90 ==> 23049309235.414803\n",
            "loss functon : iter 91 ==> 22996413147.04122\n",
            "loss functon : iter 92 ==> 22944510875.604507\n",
            "loss functon : iter 93 ==> 22893583748.330658\n",
            "loss functon : iter 94 ==> 22843613443.28749\n",
            "loss functon : iter 95 ==> 22794581982.792698\n",
            "loss functon : iter 96 ==> 22746471726.945724\n",
            "loss functon : iter 97 ==> 22699265367.281227\n",
            "loss functon : iter 98 ==> 22652945920.54174\n",
            "loss functon : iter 99 ==> 22607496722.567383\n",
            "loss functon : iter 100 ==> 22562901422.300327\n",
            "loss functon : iter 101 ==> 22519143975.901936\n",
            "loss functon : iter 102 ==> 22476208640.980476\n",
            "loss functon : iter 103 ==> 22434079970.9272\n",
            "loss functon : iter 104 ==> 22392742809.358917\n",
            "loss functon : iter 105 ==> 22352182284.66497\n",
            "loss functon : iter 106 ==> 22312383804.65664\n",
            "loss functon : iter 107 ==> 22273333051.317097\n",
            "loss functon : iter 108 ==> 22235015975.650024\n",
            "loss functon : iter 109 ==> 22197418792.624985\n",
            "loss functon : iter 110 ==> 22160527976.21778\n",
            "loss functon : iter 111 ==> 22124330254.544014\n",
            "loss functon : iter 112 ==> 22088812605.084038\n",
            "loss functon : iter 113 ==> 22053962249.99769\n",
            "loss functon : iter 114 ==> 22019766651.52699\n",
            "loss functon : iter 115 ==> 21986213507.485268\n",
            "loss functon : iter 116 ==> 21953290746.83102\n",
            "loss functon : iter 117 ==> 21920986525.324936\n",
            "loss functon : iter 118 ==> 21889289221.268524\n",
            "loss functon : iter 119 ==> 21858187431.322784\n",
            "loss functon : iter 120 ==> 21827669966.405502\n",
            "loss functon : iter 121 ==> 21797725847.66555\n",
            "loss functon : iter 122 ==> 21768344302.532894\n",
            "loss functon : iter 123 ==> 21739514760.842762\n",
            "loss functon : iter 124 ==> 21711226851.03269\n",
            "loss functon : iter 125 ==> 21683470396.41097\n",
            "loss functon : iter 126 ==> 21656235411.495243\n",
            "loss functon : iter 127 ==> 21629512098.41989\n",
            "loss functon : iter 128 ==> 21603290843.410877\n",
            "loss functon : iter 129 ==> 21577562213.326893\n",
            "loss functon : iter 130 ==> 21552316952.26545\n",
            "loss functon : iter 131 ==> 21527545978.23274\n",
            "loss functon : iter 132 ==> 21503240379.876083\n",
            "loss functon : iter 133 ==> 21479391413.277756\n",
            "loss functon : iter 134 ==> 21455990498.80906\n",
            "loss functon : iter 135 ==> 21433029218.043518\n",
            "loss functon : iter 136 ==> 21410499310.72804\n",
            "loss functon : iter 137 ==> 21388392671.811012\n",
            "loss functon : iter 138 ==> 21366701348.526237\n",
            "loss functon : iter 139 ==> 21345417537.531628\n",
            "loss functon : iter 140 ==> 21324533582.101707\n",
            "loss functon : iter 141 ==> 21304041969.372833\n",
            "loss functon : iter 142 ==> 21283935327.640167\n",
            "loss functon : iter 143 ==> 21264206423.705475\n",
            "loss functon : iter 144 ==> 21244848160.274715\n",
            "loss functon : iter 145 ==> 21225853573.40454\n",
            "loss functon : iter 146 ==> 21207215829.99679\n",
            "loss functon : iter 147 ==> 21188928225.340046\n",
            "loss functon : iter 148 ==> 21170984180.697365\n",
            "loss functon : iter 149 ==> 21153377240.939373\n",
            "loss functon : iter 150 ==> 21136101072.221786\n",
            "loss functon : iter 151 ==> 21119149459.706604\n",
            "loss functon : iter 152 ==> 21102516305.326115\n",
            "loss functon : iter 153 ==> 21086195625.588882\n",
            "loss functon : iter 154 ==> 21070181549.426987\n",
            "loss functon : iter 155 ==> 21054468316.083733\n",
            "loss functon : iter 156 ==> 21039050273.04096\n",
            "loss functon : iter 157 ==> 21023921873.985405\n",
            "loss functon : iter 158 ==> 21009077676.8132\n",
            "loss functon : iter 159 ==> 20994512341.671906\n",
            "loss functon : iter 160 ==> 20980220629.039284\n",
            "loss functon : iter 161 ==> 20966197397.83822\n",
            "loss functon : iter 162 ==> 20952437603.587044\n",
            "loss functon : iter 163 ==> 20938936296.584602\n",
            "loss functon : iter 164 ==> 20925688620.12941\n",
            "loss functon : iter 165 ==> 20912689808.772316\n",
            "loss functon : iter 166 ==> 20899935186.60196\n",
            "loss functon : iter 167 ==> 20887420165.562416\n",
            "loss functon : iter 168 ==> 20875140243.802544\n",
            "loss functon : iter 169 ==> 20863091004.056236\n",
            "loss functon : iter 170 ==> 20851268112.05318\n",
            "loss functon : iter 171 ==> 20839667314.959457\n",
            "loss functon : iter 172 ==> 20828284439.847427\n",
            "loss functon : iter 173 ==> 20817115392.194366\n",
            "loss functon : iter 174 ==> 20806156154.409348\n",
            "loss functon : iter 175 ==> 20795402784.387756\n",
            "loss functon : iter 176 ==> 20784851414.09297\n",
            "loss functon : iter 177 ==> 20774498248.164726\n",
            "loss functon : iter 178 ==> 20764339562.553585\n",
            "loss functon : iter 179 ==> 20754371703.18109\n",
            "loss functon : iter 180 ==> 20744591084.625076\n",
            "loss functon : iter 181 ==> 20734994188.8297\n",
            "loss functon : iter 182 ==> 20725577563.839687\n",
            "loss functon : iter 183 ==> 20716337822.558384\n",
            "loss functon : iter 184 ==> 20707271641.529114\n",
            "loss functon : iter 185 ==> 20698375759.739475\n",
            "loss functon : iter 186 ==> 20689646977.44805\n",
            "loss functon : iter 187 ==> 20681082155.03321\n",
            "loss functon : iter 188 ==> 20672678211.863518\n",
            "loss functon : iter 189 ==> 20664432125.189354\n",
            "loss functon : iter 190 ==> 20656340929.055412\n",
            "loss functon : iter 191 ==> 20648401713.233543\n",
            "loss functon : iter 192 ==> 20640611622.17576\n",
            "loss functon : iter 193 ==> 20632967853.986794\n",
            "loss functon : iter 194 ==> 20625467659.416054\n",
            "loss functon : iter 195 ==> 20618108340.868484\n",
            "loss functon : iter 196 ==> 20610887251.434013\n",
            "loss functon : iter 197 ==> 20603801793.93521\n",
            "loss functon : iter 198 ==> 20596849419.992897\n",
            "loss functon : iter 199 ==> 20590027629.109253\n",
            "loss functon : iter 200 ==> 20583333967.768196\n",
            "loss functon : iter 201 ==> 20576766028.552624\n",
            "loss functon : iter 202 ==> 20570321449.278275\n",
            "loss functon : iter 203 ==> 20563997912.143852\n",
            "loss functon : iter 204 ==> 20557793142.897102\n",
            "loss functon : iter 205 ==> 20551704910.0166\n",
            "loss functon : iter 206 ==> 20545731023.908844\n",
            "loss functon : iter 207 ==> 20539869336.120506\n",
            "loss functon : iter 208 ==> 20534117738.565437\n",
            "loss functon : iter 209 ==> 20528474162.766212\n",
            "loss functon : iter 210 ==> 20522936579.109924\n",
            "loss functon : iter 211 ==> 20517502996.117958\n",
            "loss functon : iter 212 ==> 20512171459.729492\n",
            "loss functon : iter 213 ==> 20506940052.598457\n",
            "loss functon : iter 214 ==> 20501806893.4037\n",
            "loss functon : iter 215 ==> 20496770136.17212\n",
            "loss functon : iter 216 ==> 20491827969.614502\n",
            "loss functon : iter 217 ==> 20486978616.473866\n",
            "loss functon : iter 218 ==> 20482220332.886013\n",
            "loss functon : iter 219 ==> 20477551407.75212\n",
            "loss functon : iter 220 ==> 20472970162.12313\n",
            "loss functon : iter 221 ==> 20468474948.595646\n",
            "loss functon : iter 222 ==> 20464064150.71928\n",
            "loss functon : iter 223 ==> 20459736182.41503\n",
            "loss functon : iter 224 ==> 20455489487.40466\n",
            "loss functon : iter 225 ==> 20451322538.650764\n",
            "loss functon : iter 226 ==> 20447233837.807373\n",
            "loss functon : iter 227 ==> 20443221914.680847\n",
            "loss functon : iter 228 ==> 20439285326.70096\n",
            "loss functon : iter 229 ==> 20435422658.401848\n",
            "loss functon : iter 230 ==> 20431632520.91278\n",
            "loss functon : iter 231 ==> 20427913551.458435\n",
            "loss functon : iter 232 ==> 20424264412.86861\n",
            "loss functon : iter 233 ==> 20420683793.09713\n",
            "loss functon : iter 234 ==> 20417170404.749794\n",
            "loss functon : iter 235 ==> 20413722984.62117\n",
            "loss functon : iter 236 ==> 20410340293.240143\n",
            "loss functon : iter 237 ==> 20407021114.42395\n",
            "loss functon : iter 238 ==> 20403764254.84063\n",
            "loss functon : iter 239 ==> 20400568543.57967\n",
            "loss functon : iter 240 ==> 20397432831.730747\n",
            "loss functon : iter 241 ==> 20394355991.970345\n",
            "loss functon : iter 242 ==> 20391336918.156166\n",
            "loss functon : iter 243 ==> 20388374524.929188\n",
            "loss functon : iter 244 ==> 20385467747.32312\n",
            "loss functon : iter 245 ==> 20382615540.381287\n",
            "loss functon : iter 246 ==> 20379816878.780632\n",
            "loss functon : iter 247 ==> 20377070756.462868\n",
            "loss functon : iter 248 ==> 20374376186.27246\n",
            "loss functon : iter 249 ==> 20371732199.60151\n",
            "loss functon : iter 250 ==> 20369137846.04122\n",
            "loss functon : iter 251 ==> 20366592193.040005\n",
            "loss functon : iter 252 ==> 20364094325.567924\n",
            "loss functon : iter 253 ==> 20361643345.78749\n",
            "loss functon : iter 254 ==> 20359238372.730648\n",
            "loss functon : iter 255 ==> 20356878541.98179\n",
            "loss functon : iter 256 ==> 20354563005.366787\n",
            "loss functon : iter 257 ==> 20352290930.6478\n",
            "loss functon : iter 258 ==> 20350061501.223873\n",
            "loss functon : iter 259 ==> 20347873915.83712\n",
            "loss functon : iter 260 ==> 20345727388.28444\n",
            "loss functon : iter 261 ==> 20343621147.134678\n",
            "loss functon : iter 262 ==> 20341554435.45105\n",
            "loss functon : iter 263 ==> 20339526510.518818\n",
            "loss functon : iter 264 ==> 20337536643.578083\n",
            "loss functon : iter 265 ==> 20335584119.56156\n",
            "loss functon : iter 266 ==> 20333668236.837357\n",
            "loss functon : iter 267 ==> 20331788306.956482\n",
            "loss functon : iter 268 ==> 20329943654.40518\n",
            "loss functon : iter 269 ==> 20328133616.361908\n",
            "loss functon : iter 270 ==> 20326357542.458817\n",
            "loss functon : iter 271 ==> 20324614794.547806\n",
            "loss functon : iter 272 ==> 20322904746.470894\n",
            "loss functon : iter 273 ==> 20321226783.834957\n",
            "loss functon : iter 274 ==> 20319580303.790676\n",
            "loss functon : iter 275 ==> 20317964714.81563\n",
            "loss functon : iter 276 ==> 20316379436.501488\n",
            "loss functon : iter 277 ==> 20314823899.345177\n",
            "loss functon : iter 278 ==> 20313297544.54399\n",
            "loss functon : iter 279 ==> 20311799823.79454\n",
            "loss functon : iter 280 ==> 20310330199.095474\n",
            "loss functon : iter 281 ==> 20308888142.55393\n",
            "loss functon : iter 282 ==> 20307473136.19559\n",
            "loss functon : iter 283 ==> 20306084671.77834\n",
            "loss functon : iter 284 ==> 20304722250.609386\n",
            "loss functon : iter 285 ==> 20303385383.365864\n",
            "loss functon : iter 286 ==> 20302073589.918755\n",
            "loss functon : iter 287 ==> 20300786399.16018\n",
            "loss functon : iter 288 ==> 20299523348.83386\n",
            "loss functon : iter 289 ==> 20298283985.368843\n",
            "loss functon : iter 290 ==> 20297067863.71629\n",
            "loss functon : iter 291 ==> 20295874547.18936\n",
            "loss functon : iter 292 ==> 20294703607.306107\n",
            "loss functon : iter 293 ==> 20293554623.635315\n",
            "loss functon : iter 294 ==> 20292427183.645203\n",
            "loss functon : iter 295 ==> 20291320882.555058\n",
            "loss functon : iter 296 ==> 20290235323.189552\n",
            "loss functon : iter 297 ==> 20289170115.835873\n",
            "loss functon : iter 298 ==> 20288124878.1035\n",
            "loss functon : iter 299 ==> 20287099234.786636\n",
            "loss functon : iter 300 ==> 20286092817.729187\n",
            "loss functon : iter 301 ==> 20285105265.692352\n",
            "loss functon : iter 302 ==> 20284136224.224598\n",
            "loss functon : iter 303 ==> 20283185345.534187\n",
            "loss functon : iter 304 ==> 20282252288.364014\n",
            "loss functon : iter 305 ==> 20281336717.868835\n",
            "loss functon : iter 306 ==> 20280438305.494793\n",
            "loss functon : iter 307 ==> 20279556728.861225\n",
            "loss functon : iter 308 ==> 20278691671.644646\n",
            "loss functon : iter 309 ==> 20277842823.464973\n",
            "loss functon : iter 310 ==> 20277009879.77382\n",
            "loss functon : iter 311 ==> 20276192541.74496\n",
            "loss functon : iter 312 ==> 20275390516.166794\n",
            "loss functon : iter 313 ==> 20274603515.336857\n",
            "loss functon : iter 314 ==> 20273831256.958305\n",
            "loss functon : iter 315 ==> 20273073464.038376\n",
            "loss functon : iter 316 ==> 20272329864.788685\n",
            "loss functon : iter 317 ==> 20271600192.527485\n",
            "loss functon : iter 318 ==> 20270884185.58368\n",
            "loss functon : iter 319 ==> 20270181587.202724\n",
            "loss functon : iter 320 ==> 20269492145.454193\n",
            "loss functon : iter 321 ==> 20268815613.141182\n",
            "loss functon : iter 322 ==> 20268151747.711365\n",
            "loss functon : iter 323 ==> 20267500311.169704\n",
            "loss functon : iter 324 ==> 20266861069.992844\n",
            "loss functon : iter 325 ==> 20266233795.04509\n",
            "loss functon : iter 326 ==> 20265618261.495964\n",
            "loss functon : iter 327 ==> 20265014248.73931\n",
            "loss functon : iter 328 ==> 20264421540.313942\n",
            "loss functon : iter 329 ==> 20263839923.82575\n",
            "loss functon : iter 330 ==> 20263269190.87127\n",
            "loss functon : iter 331 ==> 20262709136.96274\n",
            "loss functon : iter 332 ==> 20262159561.454502\n",
            "loss functon : iter 333 ==> 20261620267.470806\n",
            "loss functon : iter 334 ==> 20261091061.835014\n",
            "loss functon : iter 335 ==> 20260571755.000046\n",
            "loss functon : iter 336 ==> 20260062160.980244\n",
            "loss functon : iter 337 ==> 20259562097.284397\n",
            "loss functon : iter 338 ==> 20259071384.85012\n",
            "loss functon : iter 339 ==> 20258589847.97943\n",
            "loss functon : iter 340 ==> 20258117314.275524\n",
            "loss functon : iter 341 ==> 20257653614.58074\n",
            "loss functon : iter 342 ==> 20257198582.915726\n",
            "loss functon : iter 343 ==> 20256752056.419693\n",
            "loss functon : iter 344 ==> 20256313875.291847\n",
            "loss functon : iter 345 ==> 20255883882.733875\n",
            "loss functon : iter 346 ==> 20255461924.893547\n",
            "loss functon : iter 347 ==> 20255047850.80935\n",
            "loss functon : iter 348 ==> 20254641512.356174\n",
            "loss functon : iter 349 ==> 20254242764.192036\n",
            "loss functon : iter 350 ==> 20253851463.70576\n",
            "loss functon : iter 351 ==> 20253467470.965702\n",
            "loss functon : iter 352 ==> 20253090648.669373\n",
            "loss functon : iter 353 ==> 20252720862.09406\n",
            "loss functon : iter 354 ==> 20252357979.04834\n",
            "loss functon : iter 355 ==> 20252001869.82453\n",
            "loss functon : iter 356 ==> 20251652407.15204\n",
            "loss functon : iter 357 ==> 20251309466.15152\n",
            "loss functon : iter 358 ==> 20250972924.29001\n",
            "loss functon : iter 359 ==> 20250642661.336784\n",
            "loss functon : iter 360 ==> 20250318559.320145\n",
            "loss functon : iter 361 ==> 20250000502.48496\n",
            "loss functon : iter 362 ==> 20249688377.250996\n",
            "loss functon : iter 363 ==> 20249382072.172092\n",
            "loss functon : iter 364 ==> 20249081477.896034\n",
            "loss functon : iter 365 ==> 20248786487.12523\n",
            "loss functon : iter 366 ==> 20248496994.578068\n",
            "loss functon : iter 367 ==> 20248212896.951107\n",
            "loss functon : iter 368 ==> 20247934092.881844\n",
            "loss functon : iter 369 ==> 20247660482.912273\n",
            "loss functon : iter 370 ==> 20247391969.453102\n",
            "loss functon : iter 371 ==> 20247128456.74865\n",
            "loss functon : iter 372 ==> 20246869850.842365\n",
            "loss functon : iter 373 ==> 20246616059.543045\n",
            "loss functon : iter 374 ==> 20246366992.391674\n",
            "loss functon : iter 375 ==> 20246122560.628857\n",
            "loss functon : iter 376 ==> 20245882677.162895\n",
            "loss functon : iter 377 ==> 20245647256.538452\n",
            "loss functon : iter 378 ==> 20245416214.905807\n",
            "loss functon : iter 379 ==> 20245189469.990692\n",
            "loss functon : iter 380 ==> 20244966941.06467\n",
            "loss functon : iter 381 ==> 20244748548.91613\n",
            "loss functon : iter 382 ==> 20244534215.82174\n",
            "loss functon : iter 383 ==> 20244323865.518524\n",
            "loss functon : iter 384 ==> 20244117423.1764\n",
            "loss functon : iter 385 ==> 20243914815.37127\n",
            "loss functon : iter 386 ==> 20243715970.05858\n",
            "loss functon : iter 387 ==> 20243520816.547447\n",
            "loss functon : iter 388 ==> 20243329285.47517\n",
            "loss functon : iter 389 ==> 20243141308.782307\n",
            "loss functon : iter 390 ==> 20242956819.688187\n",
            "loss functon : iter 391 ==> 20242775752.66687\n",
            "loss functon : iter 392 ==> 20242598043.423584\n",
            "loss functon : iter 393 ==> 20242423628.871586\n",
            "loss functon : iter 394 ==> 20242252447.109467\n",
            "loss functon : iter 395 ==> 20242084437.39888\n",
            "loss functon : iter 396 ==> 20241919540.142685\n",
            "loss functon : iter 397 ==> 20241757696.863514\n",
            "loss functon : iter 398 ==> 20241598850.182724\n",
            "loss functon : iter 399 ==> 20241442943.79975\n"
          ]
        }
      ]
    },
    {
      "cell_type": "code",
      "metadata": {
        "colab": {
          "base_uri": "https://localhost:8080/"
        },
        "id": "mlkSlE84-eiL",
        "outputId": "53b03dde-9930-4e5d-a03b-062a588d0d62"
      },
      "source": [
        "theta"
      ],
      "execution_count": null,
      "outputs": [
        {
          "output_type": "execute_result",
          "data": {
            "text/plain": [
              "array([[ 2.23813635],\n",
              "       [ 1.91889828],\n",
              "       [-0.96130524],\n",
              "       [ 1.43480786],\n",
              "       [ 0.05545153],\n",
              "       [ 3.90815034],\n",
              "       [ 1.06480878]])"
            ]
          },
          "metadata": {},
          "execution_count": 20
        }
      ]
    },
    {
      "cell_type": "code",
      "metadata": {
        "colab": {
          "base_uri": "https://localhost:8080/"
        },
        "id": "fyWprwU9OQ5U",
        "outputId": "14be1a2c-0f26-4c30-cf9e-07fd54c96175"
      },
      "source": [
        "print(f'SSE on Train : {J[-1]}')"
      ],
      "execution_count": null,
      "outputs": [
        {
          "output_type": "stream",
          "name": "stdout",
          "text": [
            "SSE on Train : 20241442943.79975\n"
          ]
        }
      ]
    },
    {
      "cell_type": "markdown",
      "metadata": {
        "id": "_fpHSWmeBF87"
      },
      "source": [
        "همانطور که در شکل زیر می بینیم به نظر می رسد 400 ایپاک نیاز نباشد. زیرا حدودا از ایپاک 250 به بعد تغییر زیادی رخ نداده است. حال مقدار خطا روی داده ی تست رو امتحان می کنیم تا ببینیم چگونه است.\n",
        "ولی نرخ یادگیری انتخاب شده خوب است زیرا خطا با شیب مناسبی کم شده. نه نمودار تیز است و نه شیب خیلی ثابتی دارد."
      ]
    },
    {
      "cell_type": "code",
      "metadata": {
        "colab": {
          "base_uri": "https://localhost:8080/",
          "height": 295
        },
        "id": "cSRQ3-te-v0C",
        "outputId": "d50b1588-180a-415d-bf2f-a8fcbb7a21b7"
      },
      "source": [
        "plt.plot(J, label='Training loss')\n",
        "plt.xlabel('epoch')\n",
        "plt.ylabel('cost function')\n",
        "plt.legend(frameon=False)\n",
        "plt.title(f\"Loss function for {epoch} epochs\")\n",
        "plt.show()"
      ],
      "execution_count": null,
      "outputs": [
        {
          "output_type": "display_data",
          "data": {
            "image/png": "[encoded data removed]",
            "text/plain": [
              "<Figure size 432x288 with 1 Axes>"
            ]
          },
          "metadata": {
            "needs_background": "light"
          }
        }
      ]
    },
    {
      "cell_type": "code",
      "metadata": {
        "colab": {
          "base_uri": "https://localhost:8080/"
        },
        "id": "dw5UYp9XAxxv",
        "outputId": "a9848ed1-2199-4c4b-8c2c-bfaeca3ec4d3"
      },
      "source": [
        "# set the theta as w_degree3\n",
        "w_degree3_GD = theta\n",
        "\n",
        "X_test = transform(data['x1_test'], data['x2_test'], 3)\n",
        "\n",
        "# calculate y_hat for X_test\n",
        "y_hat_test = y_hat(X_test, w_degree3_GD)\n",
        "\n",
        "# Calculate SSE on the Test data\n",
        "test_loss = loss(data['y_test'], y_hat_test)\n",
        "print(f'SSE on Test : {test_loss}')"
      ],
      "execution_count": null,
      "outputs": [
        {
          "output_type": "stream",
          "name": "stdout",
          "text": [
            "SSE on Test : 11289933996.035786\n"
          ]
        }
      ]
    },
    {
      "cell_type": "markdown",
      "metadata": {
        "id": "6PcoxCvPGXvh"
      },
      "source": [
        "#### Experiment 2"
      ]
    },
    {
      "cell_type": "markdown",
      "metadata": {
        "id": "T4xeX0o9DF7U"
      },
      "source": [
        "حال می خواهیم آزمایش کنیم که با 250 ایپاک نتیجه بهتری می گیریم و یا با 400 ایپاک تا بررسی کنیم  بش برازش اتفاق نیفتاده باشد."
      ]
    },
    {
      "cell_type": "code",
      "metadata": {
        "colab": {
          "base_uri": "https://localhost:8080/"
        },
        "id": "uMFZUyHRCZ6I",
        "outputId": "b80c0716-58d3-41b6-9282-1a6d79f477d6"
      },
      "source": [
        "alpha = 0.00000000001\n",
        "epoch = 250\n",
        "\n",
        "J, theta = gradient_descent1(X_train, data['y'], w_degree3, alpha, epoch)"
      ],
      "execution_count": null,
      "outputs": [
        {
          "output_type": "stream",
          "name": "stdout",
          "text": [
            "loss functon : iter 0 ==> 39817836103.27098\n",
            "loss functon : iter 1 ==> 35747972375.60405\n",
            "loss functon : iter 2 ==> 35196388970.36165\n",
            "loss functon : iter 3 ==> 34896991533.48916\n",
            "loss functon : iter 4 ==> 34620209897.15484\n",
            "loss functon : iter 5 ==> 34349822406.27896\n",
            "loss functon : iter 6 ==> 34084599040.560146\n",
            "loss functon : iter 7 ==> 33824364791.06682\n",
            "loss functon : iter 8 ==> 33569020438.62699\n",
            "loss functon : iter 9 ==> 33318473722.263306\n",
            "loss functon : iter 10 ==> 33072634472.388603\n",
            "loss functon : iter 11 ==> 32831414238.753883\n",
            "loss functon : iter 12 ==> 32594726234.76424\n",
            "loss functon : iter 13 ==> 32362485304.577858\n",
            "loss functon : iter 14 ==> 32134607892.350487\n",
            "loss functon : iter 15 ==> 31911012012.16502\n",
            "loss functon : iter 16 ==> 31691617218.5337\n",
            "loss functon : iter 17 ==> 31476344577.454964\n",
            "loss functon : iter 18 ==> 31265116638.01426\n",
            "loss functon : iter 19 ==> 31057857404.518368\n",
            "loss functon : iter 20 ==> 30854492309.153328\n",
            "loss functon : iter 21 ==> 30654948185.156075\n",
            "loss functon : iter 22 ==> 30459153240.490185\n",
            "loss functon : iter 23 ==> 30267037032.01621\n",
            "loss functon : iter 24 ==> 30078530440.147285\n",
            "loss functon : iter 25 ==> 29893565643.98099\n",
            "loss functon : iter 26 ==> 29712076096.898445\n",
            "loss functon : iter 27 ==> 29533996502.62183\n",
            "loss functon : iter 28 ==> 29359262791.721817\n",
            "loss functon : iter 29 ==> 29187812098.56636\n",
            "loss functon : iter 30 ==> 29019582738.702606\n",
            "loss functon : iter 31 ==> 28854514186.663795\n",
            "loss functon : iter 32 ==> 28692547054.193108\n",
            "loss functon : iter 33 ==> 28533623068.876713\n",
            "loss functon : iter 34 ==> 28377685053.17821\n",
            "loss functon : iter 35 ==> 28224676903.867073\n",
            "loss functon : iter 36 ==> 28074543571.833546\n",
            "loss functon : iter 37 ==> 27927231042.282825\n",
            "loss functon : iter 38 ==> 27782686315.301376\n",
            "loss functon : iter 39 ==> 27640857386.78837\n",
            "loss functon : iter 40 ==> 27501693229.745415\n",
            "loss functon : iter 41 ==> 27365143775.91783\n",
            "loss functon : iter 42 ==> 27231159897.780846\n",
            "loss functon : iter 43 ==> 27099693390.864296\n",
            "loss functon : iter 44 ==> 26970696956.40937\n",
            "loss functon : iter 45 ==> 26844124184.351257\n",
            "loss functon : iter 46 ==> 26719929536.62153\n",
            "loss functon : iter 47 ==> 26598068330.764236\n",
            "loss functon : iter 48 ==> 26478496723.859833\n",
            "loss functon : iter 49 ==> 26361171696.75121\n",
            "loss functon : iter 50 ==> 26246051038.566\n",
            "loss functon : iter 51 ==> 26133093331.52983\n",
            "loss functon : iter 52 ==> 26022257936.06479\n",
            "loss functon : iter 53 ==> 25913504976.16795\n",
            "loss functon : iter 54 ==> 25806795325.06461\n",
            "loss functon : iter 55 ==> 25702090591.131058\n",
            "loss functon : iter 56 ==> 25599353104.08188\n",
            "loss functon : iter 57 ==> 25498545901.41675\n",
            "loss functon : iter 58 ==> 25399632715.12191\n",
            "loss functon : iter 59 ==> 25302577958.62149\n",
            "loss functon : iter 60 ==> 25207346713.974\n",
            "loss functon : iter 61 ==> 25113904719.309383\n",
            "loss functon : iter 62 ==> 25022218356.502167\n",
            "loss functon : iter 63 ==> 24932254639.076122\n",
            "loss functon : iter 64 ==> 24843981200.336273\n",
            "loss functon : iter 65 ==> 24757366281.723846\n",
            "loss functon : iter 66 ==> 24672378721.390034\n",
            "loss functon : iter 67 ==> 24588987942.984436\n",
            "loss functon : iter 68 ==> 24507163944.65416\n",
            "loss functon : iter 69 ==> 24426877288.249622\n",
            "loss functon : iter 70 ==> 24348099088.733154\n",
            "loss functon : iter 71 ==> 24270801003.786594\n",
            "loss functon : iter 72 ==> 24194955223.614193\n",
            "loss functon : iter 73 ==> 24120534460.937035\n",
            "loss functon : iter 74 ==> 24047511941.17553\n",
            "loss functon : iter 75 ==> 23975861392.8163\n",
            "loss functon : iter 76 ==> 23905557037.96013\n",
            "loss functon : iter 77 ==> 23836573583.047447\n",
            "loss functon : iter 78 ==> 23768886209.7581\n",
            "loss functon : iter 79 ==> 23702470566.0821\n",
            "loss functon : iter 80 ==> 23637302757.55816\n",
            "loss functon : iter 81 ==> 23573359338.67681\n",
            "loss functon : iter 82 ==> 23510617304.4451\n",
            "loss functon : iter 83 ==> 23449054082.10971\n",
            "loss functon : iter 84 ==> 23388647523.035667\n",
            "loss functon : iter 85 ==> 23329375894.737576\n",
            "loss functon : iter 86 ==> 23271217873.060623\n",
            "loss functon : iter 87 ==> 23214152534.508457\n",
            "loss functon : iter 88 ==> 23158159348.715263\n",
            "loss functon : iter 89 ==> 23103218171.05922\n",
            "loss functon : iter 90 ==> 23049309235.414803\n",
            "loss functon : iter 91 ==> 22996413147.04122\n",
            "loss functon : iter 92 ==> 22944510875.604507\n",
            "loss functon : iter 93 ==> 22893583748.330658\n",
            "loss functon : iter 94 ==> 22843613443.28749\n",
            "loss functon : iter 95 ==> 22794581982.792698\n",
            "loss functon : iter 96 ==> 22746471726.945724\n",
            "loss functon : iter 97 ==> 22699265367.281227\n",
            "loss functon : iter 98 ==> 22652945920.54174\n",
            "loss functon : iter 99 ==> 22607496722.567383\n",
            "loss functon : iter 100 ==> 22562901422.300327\n",
            "loss functon : iter 101 ==> 22519143975.901936\n",
            "loss functon : iter 102 ==> 22476208640.980476\n",
            "loss functon : iter 103 ==> 22434079970.9272\n",
            "loss functon : iter 104 ==> 22392742809.358917\n",
            "loss functon : iter 105 ==> 22352182284.66497\n",
            "loss functon : iter 106 ==> 22312383804.65664\n",
            "loss functon : iter 107 ==> 22273333051.317097\n",
            "loss functon : iter 108 ==> 22235015975.650024\n",
            "loss functon : iter 109 ==> 22197418792.624985\n",
            "loss functon : iter 110 ==> 22160527976.21778\n",
            "loss functon : iter 111 ==> 22124330254.544014\n",
            "loss functon : iter 112 ==> 22088812605.084038\n",
            "loss functon : iter 113 ==> 22053962249.99769\n",
            "loss functon : iter 114 ==> 22019766651.52699\n",
            "loss functon : iter 115 ==> 21986213507.485268\n",
            "loss functon : iter 116 ==> 21953290746.83102\n",
            "loss functon : iter 117 ==> 21920986525.324936\n",
            "loss functon : iter 118 ==> 21889289221.268524\n",
            "loss functon : iter 119 ==> 21858187431.322784\n",
            "loss functon : iter 120 ==> 21827669966.405502\n",
            "loss functon : iter 121 ==> 21797725847.66555\n",
            "loss functon : iter 122 ==> 21768344302.532894\n",
            "loss functon : iter 123 ==> 21739514760.842762\n",
            "loss functon : iter 124 ==> 21711226851.03269\n",
            "loss functon : iter 125 ==> 21683470396.41097\n",
            "loss functon : iter 126 ==> 21656235411.495243\n",
            "loss functon : iter 127 ==> 21629512098.41989\n",
            "loss functon : iter 128 ==> 21603290843.410877\n",
            "loss functon : iter 129 ==> 21577562213.326893\n",
            "loss functon : iter 130 ==> 21552316952.26545\n",
            "loss functon : iter 131 ==> 21527545978.23274\n",
            "loss functon : iter 132 ==> 21503240379.876083\n",
            "loss functon : iter 133 ==> 21479391413.277756\n",
            "loss functon : iter 134 ==> 21455990498.80906\n",
            "loss functon : iter 135 ==> 21433029218.043518\n",
            "loss functon : iter 136 ==> 21410499310.72804\n",
            "loss functon : iter 137 ==> 21388392671.811012\n",
            "loss functon : iter 138 ==> 21366701348.526237\n",
            "loss functon : iter 139 ==> 21345417537.531628\n",
            "loss functon : iter 140 ==> 21324533582.101707\n",
            "loss functon : iter 141 ==> 21304041969.372833\n",
            "loss functon : iter 142 ==> 21283935327.640167\n",
            "loss functon : iter 143 ==> 21264206423.705475\n",
            "loss functon : iter 144 ==> 21244848160.274715\n",
            "loss functon : iter 145 ==> 21225853573.40454\n",
            "loss functon : iter 146 ==> 21207215829.99679\n",
            "loss functon : iter 147 ==> 21188928225.340046\n",
            "loss functon : iter 148 ==> 21170984180.697365\n",
            "loss functon : iter 149 ==> 21153377240.939373\n",
            "loss functon : iter 150 ==> 21136101072.221786\n",
            "loss functon : iter 151 ==> 21119149459.706604\n",
            "loss functon : iter 152 ==> 21102516305.326115\n",
            "loss functon : iter 153 ==> 21086195625.588882\n",
            "loss functon : iter 154 ==> 21070181549.426987\n",
            "loss functon : iter 155 ==> 21054468316.083733\n",
            "loss functon : iter 156 ==> 21039050273.04096\n",
            "loss functon : iter 157 ==> 21023921873.985405\n",
            "loss functon : iter 158 ==> 21009077676.8132\n",
            "loss functon : iter 159 ==> 20994512341.671906\n",
            "loss functon : iter 160 ==> 20980220629.039284\n",
            "loss functon : iter 161 ==> 20966197397.83822\n",
            "loss functon : iter 162 ==> 20952437603.587044\n",
            "loss functon : iter 163 ==> 20938936296.584602\n",
            "loss functon : iter 164 ==> 20925688620.12941\n",
            "loss functon : iter 165 ==> 20912689808.772316\n",
            "loss functon : iter 166 ==> 20899935186.60196\n",
            "loss functon : iter 167 ==> 20887420165.562416\n",
            "loss functon : iter 168 ==> 20875140243.802544\n",
            "loss functon : iter 169 ==> 20863091004.056236\n",
            "loss functon : iter 170 ==> 20851268112.05318\n",
            "loss functon : iter 171 ==> 20839667314.959457\n",
            "loss functon : iter 172 ==> 20828284439.847427\n",
            "loss functon : iter 173 ==> 20817115392.194366\n",
            "loss functon : iter 174 ==> 20806156154.409348\n",
            "loss functon : iter 175 ==> 20795402784.387756\n",
            "loss functon : iter 176 ==> 20784851414.09297\n",
            "loss functon : iter 177 ==> 20774498248.164726\n",
            "loss functon : iter 178 ==> 20764339562.553585\n",
            "loss functon : iter 179 ==> 20754371703.18109\n",
            "loss functon : iter 180 ==> 20744591084.625076\n",
            "loss functon : iter 181 ==> 20734994188.8297\n",
            "loss functon : iter 182 ==> 20725577563.839687\n",
            "loss functon : iter 183 ==> 20716337822.558384\n",
            "loss functon : iter 184 ==> 20707271641.529114\n",
            "loss functon : iter 185 ==> 20698375759.739475\n",
            "loss functon : iter 186 ==> 20689646977.44805\n",
            "loss functon : iter 187 ==> 20681082155.03321\n",
            "loss functon : iter 188 ==> 20672678211.863518\n",
            "loss functon : iter 189 ==> 20664432125.189354\n",
            "loss functon : iter 190 ==> 20656340929.055412\n",
            "loss functon : iter 191 ==> 20648401713.233543\n",
            "loss functon : iter 192 ==> 20640611622.17576\n",
            "loss functon : iter 193 ==> 20632967853.986794\n",
            "loss functon : iter 194 ==> 20625467659.416054\n",
            "loss functon : iter 195 ==> 20618108340.868484\n",
            "loss functon : iter 196 ==> 20610887251.434013\n",
            "loss functon : iter 197 ==> 20603801793.93521\n",
            "loss functon : iter 198 ==> 20596849419.992897\n",
            "loss functon : iter 199 ==> 20590027629.109253\n",
            "loss functon : iter 200 ==> 20583333967.768196\n",
            "loss functon : iter 201 ==> 20576766028.552624\n",
            "loss functon : iter 202 ==> 20570321449.278275\n",
            "loss functon : iter 203 ==> 20563997912.143852\n",
            "loss functon : iter 204 ==> 20557793142.897102\n",
            "loss functon : iter 205 ==> 20551704910.0166\n",
            "loss functon : iter 206 ==> 20545731023.908844\n",
            "loss functon : iter 207 ==> 20539869336.120506\n",
            "loss functon : iter 208 ==> 20534117738.565437\n",
            "loss functon : iter 209 ==> 20528474162.766212\n",
            "loss functon : iter 210 ==> 20522936579.109924\n",
            "loss functon : iter 211 ==> 20517502996.117958\n",
            "loss functon : iter 212 ==> 20512171459.729492\n",
            "loss functon : iter 213 ==> 20506940052.598457\n",
            "loss functon : iter 214 ==> 20501806893.4037\n",
            "loss functon : iter 215 ==> 20496770136.17212\n",
            "loss functon : iter 216 ==> 20491827969.614502\n",
            "loss functon : iter 217 ==> 20486978616.473866\n",
            "loss functon : iter 218 ==> 20482220332.886013\n",
            "loss functon : iter 219 ==> 20477551407.75212\n",
            "loss functon : iter 220 ==> 20472970162.12313\n",
            "loss functon : iter 221 ==> 20468474948.595646\n",
            "loss functon : iter 222 ==> 20464064150.71928\n",
            "loss functon : iter 223 ==> 20459736182.41503\n",
            "loss functon : iter 224 ==> 20455489487.40466\n",
            "loss functon : iter 225 ==> 20451322538.650764\n",
            "loss functon : iter 226 ==> 20447233837.807373\n",
            "loss functon : iter 227 ==> 20443221914.680847\n",
            "loss functon : iter 228 ==> 20439285326.70096\n",
            "loss functon : iter 229 ==> 20435422658.401848\n",
            "loss functon : iter 230 ==> 20431632520.91278\n",
            "loss functon : iter 231 ==> 20427913551.458435\n",
            "loss functon : iter 232 ==> 20424264412.86861\n",
            "loss functon : iter 233 ==> 20420683793.09713\n",
            "loss functon : iter 234 ==> 20417170404.749794\n",
            "loss functon : iter 235 ==> 20413722984.62117\n",
            "loss functon : iter 236 ==> 20410340293.240143\n",
            "loss functon : iter 237 ==> 20407021114.42395\n",
            "loss functon : iter 238 ==> 20403764254.84063\n",
            "loss functon : iter 239 ==> 20400568543.57967\n",
            "loss functon : iter 240 ==> 20397432831.730747\n",
            "loss functon : iter 241 ==> 20394355991.970345\n",
            "loss functon : iter 242 ==> 20391336918.156166\n",
            "loss functon : iter 243 ==> 20388374524.929188\n",
            "loss functon : iter 244 ==> 20385467747.32312\n",
            "loss functon : iter 245 ==> 20382615540.381287\n",
            "loss functon : iter 246 ==> 20379816878.780632\n",
            "loss functon : iter 247 ==> 20377070756.462868\n",
            "loss functon : iter 248 ==> 20374376186.27246\n",
            "loss functon : iter 249 ==> 20371732199.60151\n"
          ]
        }
      ]
    },
    {
      "cell_type": "code",
      "metadata": {
        "colab": {
          "base_uri": "https://localhost:8080/"
        },
        "id": "k-ibBjXZPcoR",
        "outputId": "2138e6b4-2546-4e77-de5c-cd4bc605f823"
      },
      "source": [
        "print(f'SSE on Train : {J[-1]}')"
      ],
      "execution_count": null,
      "outputs": [
        {
          "output_type": "stream",
          "name": "stdout",
          "text": [
            "SSE on Train : 20371732199.60151\n"
          ]
        }
      ]
    },
    {
      "cell_type": "markdown",
      "metadata": {
        "id": "QQRSDX0DDT-t"
      },
      "source": [
        "خطای داده ی آموزشی که در نهایت بهش می رسیم بیشتر از حالت قبل با 400 ایپاک است."
      ]
    },
    {
      "cell_type": "code",
      "metadata": {
        "colab": {
          "base_uri": "https://localhost:8080/",
          "height": 295
        },
        "id": "LOjiLQMdCnkB",
        "outputId": "29869b03-7fc0-4175-86e1-d94b1c683e65"
      },
      "source": [
        "plt.plot(J, label='Training loss')\n",
        "plt.xlabel('epoch')\n",
        "plt.ylabel('cost function')\n",
        "plt.legend(frameon=False)\n",
        "plt.title(f\"Loss function for {epoch} epochs\")\n",
        "plt.show()"
      ],
      "execution_count": null,
      "outputs": [
        {
          "output_type": "display_data",
          "data": {
            "image/png": "[encoded data removed]",
            "text/plain": [
              "<Figure size 432x288 with 1 Axes>"
            ]
          },
          "metadata": {
            "needs_background": "light"
          }
        }
      ]
    },
    {
      "cell_type": "code",
      "metadata": {
        "colab": {
          "base_uri": "https://localhost:8080/"
        },
        "id": "vin36pDqCob2",
        "outputId": "2ec0ea19-5b7c-48e7-a323-b34815f70b04"
      },
      "source": [
        "theta"
      ],
      "execution_count": null,
      "outputs": [
        {
          "output_type": "execute_result",
          "data": {
            "text/plain": [
              "array([[ 2.24071287],\n",
              "       [ 1.91513302],\n",
              "       [-0.95855516],\n",
              "       [ 1.39087882],\n",
              "       [ 0.03603183],\n",
              "       [ 3.62212221],\n",
              "       [ 1.08194862]])"
            ]
          },
          "metadata": {},
          "execution_count": 27
        }
      ]
    },
    {
      "cell_type": "markdown",
      "metadata": {
        "id": "DJkEFu7MDb-R"
      },
      "source": [
        "اما طبق محاسبات زیر خطا روی داده های تست برای 250 ایپاک کمتر از خطا برای 400 ایپاک است و این به این معنی است که با 400 ایپاک به سمت بیش برازش داشتیم می رفتیم و منحنی داشت خیلی خوب روی داده های آموزشی فیت میشد اما روی داده های تست عملکرد خوبی نداشت. پس تعداد تکرار مناسب در اینجا 250 می باشد."
      ]
    },
    {
      "cell_type": "code",
      "metadata": {
        "colab": {
          "base_uri": "https://localhost:8080/"
        },
        "id": "DVBMHt73C9mj",
        "outputId": "372d417e-45a8-4344-84ac-ef0876885f25"
      },
      "source": [
        "# set the theta as w_degree3\n",
        "w_degree3_GD = theta\n",
        "\n",
        "X_test = transform(data['x1_test'], data['x2_test'], 3)\n",
        "\n",
        "# calculate y_hat for X_test\n",
        "y_hat_test = y_hat(X_test, w_degree3_GD)\n",
        "\n",
        "# Calculate SSE on the Test data\n",
        "test_loss = loss(data['y_test'], y_hat_test)\n",
        "print(f'SSE on Test : {test_loss}')"
      ],
      "execution_count": null,
      "outputs": [
        {
          "output_type": "stream",
          "name": "stdout",
          "text": [
            "SSE on Test : 11266546807.59792\n"
          ]
        }
      ]
    },
    {
      "cell_type": "markdown",
      "metadata": {
        "id": "6VckpQaHGcE1"
      },
      "source": [
        "#### Experiment 3"
      ]
    },
    {
      "cell_type": "markdown",
      "metadata": {
        "id": "r71yQnZ_FGry"
      },
      "source": [
        "حال برای اطمینان بیشتر ایپاک را روی 300 نیز تنظیم می کنیم تا هطا روی داده تست و ترین رو محاسبه کنیم.\n",
        " مشاهده می کنیم که نتایح روی 300 ایپاک بهتر از 250 نیز هست . یعنی خطا روی داده  آموزشی کاهش می یابد همچنین خطا روی داده تست نیز کاهش میابدو اما بیشتر از 300 مثلا 350 دیگر خوب نیست چون داره داریم داده آموزشی رو خوب یاد می گیریم اما داده ی تست رو نه.\n",
        "\n",
        " "
      ]
    },
    {
      "cell_type": "code",
      "metadata": {
        "colab": {
          "base_uri": "https://localhost:8080/"
        },
        "id": "Q8Kp7VLBDAXi",
        "outputId": "4044f10e-a77e-4d92-f0b6-30a049e93e40"
      },
      "source": [
        "alpha = 0.00000000001\n",
        "epoch = 300\n",
        "\n",
        "J, theta = gradient_descent1(X_train, data['y'], w_degree3, alpha, epoch)"
      ],
      "execution_count": null,
      "outputs": [
        {
          "output_type": "stream",
          "name": "stdout",
          "text": [
            "loss functon : iter 0 ==> 39817836103.27098\n",
            "loss functon : iter 1 ==> 35747972375.60405\n",
            "loss functon : iter 2 ==> 35196388970.36165\n",
            "loss functon : iter 3 ==> 34896991533.48916\n",
            "loss functon : iter 4 ==> 34620209897.15484\n",
            "loss functon : iter 5 ==> 34349822406.27896\n",
            "loss functon : iter 6 ==> 34084599040.560146\n",
            "loss functon : iter 7 ==> 33824364791.06682\n",
            "loss functon : iter 8 ==> 33569020438.62699\n",
            "loss functon : iter 9 ==> 33318473722.263306\n",
            "loss functon : iter 10 ==> 33072634472.388603\n",
            "loss functon : iter 11 ==> 32831414238.753883\n",
            "loss functon : iter 12 ==> 32594726234.76424\n",
            "loss functon : iter 13 ==> 32362485304.577858\n",
            "loss functon : iter 14 ==> 32134607892.350487\n",
            "loss functon : iter 15 ==> 31911012012.16502\n",
            "loss functon : iter 16 ==> 31691617218.5337\n",
            "loss functon : iter 17 ==> 31476344577.454964\n",
            "loss functon : iter 18 ==> 31265116638.01426\n",
            "loss functon : iter 19 ==> 31057857404.518368\n",
            "loss functon : iter 20 ==> 30854492309.153328\n",
            "loss functon : iter 21 ==> 30654948185.156075\n",
            "loss functon : iter 22 ==> 30459153240.490185\n",
            "loss functon : iter 23 ==> 30267037032.01621\n",
            "loss functon : iter 24 ==> 30078530440.147285\n",
            "loss functon : iter 25 ==> 29893565643.98099\n",
            "loss functon : iter 26 ==> 29712076096.898445\n",
            "loss functon : iter 27 ==> 29533996502.62183\n",
            "loss functon : iter 28 ==> 29359262791.721817\n",
            "loss functon : iter 29 ==> 29187812098.56636\n",
            "loss functon : iter 30 ==> 29019582738.702606\n",
            "loss functon : iter 31 ==> 28854514186.663795\n",
            "loss functon : iter 32 ==> 28692547054.193108\n",
            "loss functon : iter 33 ==> 28533623068.876713\n",
            "loss functon : iter 34 ==> 28377685053.17821\n",
            "loss functon : iter 35 ==> 28224676903.867073\n",
            "loss functon : iter 36 ==> 28074543571.833546\n",
            "loss functon : iter 37 ==> 27927231042.282825\n",
            "loss functon : iter 38 ==> 27782686315.301376\n",
            "loss functon : iter 39 ==> 27640857386.78837\n",
            "loss functon : iter 40 ==> 27501693229.745415\n",
            "loss functon : iter 41 ==> 27365143775.91783\n",
            "loss functon : iter 42 ==> 27231159897.780846\n",
            "loss functon : iter 43 ==> 27099693390.864296\n",
            "loss functon : iter 44 ==> 26970696956.40937\n",
            "loss functon : iter 45 ==> 26844124184.351257\n",
            "loss functon : iter 46 ==> 26719929536.62153\n",
            "loss functon : iter 47 ==> 26598068330.764236\n",
            "loss functon : iter 48 ==> 26478496723.859833\n",
            "loss functon : iter 49 ==> 26361171696.75121\n",
            "loss functon : iter 50 ==> 26246051038.566\n",
            "loss functon : iter 51 ==> 26133093331.52983\n",
            "loss functon : iter 52 ==> 26022257936.06479\n",
            "loss functon : iter 53 ==> 25913504976.16795\n",
            "loss functon : iter 54 ==> 25806795325.06461\n",
            "loss functon : iter 55 ==> 25702090591.131058\n",
            "loss functon : iter 56 ==> 25599353104.08188\n",
            "loss functon : iter 57 ==> 25498545901.41675\n",
            "loss functon : iter 58 ==> 25399632715.12191\n",
            "loss functon : iter 59 ==> 25302577958.62149\n",
            "loss functon : iter 60 ==> 25207346713.974\n",
            "loss functon : iter 61 ==> 25113904719.309383\n",
            "loss functon : iter 62 ==> 25022218356.502167\n",
            "loss functon : iter 63 ==> 24932254639.076122\n",
            "loss functon : iter 64 ==> 24843981200.336273\n",
            "loss functon : iter 65 ==> 24757366281.723846\n",
            "loss functon : iter 66 ==> 24672378721.390034\n",
            "loss functon : iter 67 ==> 24588987942.984436\n",
            "loss functon : iter 68 ==> 24507163944.65416\n",
            "loss functon : iter 69 ==> 24426877288.249622\n",
            "loss functon : iter 70 ==> 24348099088.733154\n",
            "loss functon : iter 71 ==> 24270801003.786594\n",
            "loss functon : iter 72 ==> 24194955223.614193\n",
            "loss functon : iter 73 ==> 24120534460.937035\n",
            "loss functon : iter 74 ==> 24047511941.17553\n",
            "loss functon : iter 75 ==> 23975861392.8163\n",
            "loss functon : iter 76 ==> 23905557037.96013\n",
            "loss functon : iter 77 ==> 23836573583.047447\n",
            "loss functon : iter 78 ==> 23768886209.7581\n",
            "loss functon : iter 79 ==> 23702470566.0821\n",
            "loss functon : iter 80 ==> 23637302757.55816\n",
            "loss functon : iter 81 ==> 23573359338.67681\n",
            "loss functon : iter 82 ==> 23510617304.4451\n",
            "loss functon : iter 83 ==> 23449054082.10971\n",
            "loss functon : iter 84 ==> 23388647523.035667\n",
            "loss functon : iter 85 ==> 23329375894.737576\n",
            "loss functon : iter 86 ==> 23271217873.060623\n",
            "loss functon : iter 87 ==> 23214152534.508457\n",
            "loss functon : iter 88 ==> 23158159348.715263\n",
            "loss functon : iter 89 ==> 23103218171.05922\n",
            "loss functon : iter 90 ==> 23049309235.414803\n",
            "loss functon : iter 91 ==> 22996413147.04122\n",
            "loss functon : iter 92 ==> 22944510875.604507\n",
            "loss functon : iter 93 ==> 22893583748.330658\n",
            "loss functon : iter 94 ==> 22843613443.28749\n",
            "loss functon : iter 95 ==> 22794581982.792698\n",
            "loss functon : iter 96 ==> 22746471726.945724\n",
            "loss functon : iter 97 ==> 22699265367.281227\n",
            "loss functon : iter 98 ==> 22652945920.54174\n",
            "loss functon : iter 99 ==> 22607496722.567383\n",
            "loss functon : iter 100 ==> 22562901422.300327\n",
            "loss functon : iter 101 ==> 22519143975.901936\n",
            "loss functon : iter 102 ==> 22476208640.980476\n",
            "loss functon : iter 103 ==> 22434079970.9272\n",
            "loss functon : iter 104 ==> 22392742809.358917\n",
            "loss functon : iter 105 ==> 22352182284.66497\n",
            "loss functon : iter 106 ==> 22312383804.65664\n",
            "loss functon : iter 107 ==> 22273333051.317097\n",
            "loss functon : iter 108 ==> 22235015975.650024\n",
            "loss functon : iter 109 ==> 22197418792.624985\n",
            "loss functon : iter 110 ==> 22160527976.21778\n",
            "loss functon : iter 111 ==> 22124330254.544014\n",
            "loss functon : iter 112 ==> 22088812605.084038\n",
            "loss functon : iter 113 ==> 22053962249.99769\n",
            "loss functon : iter 114 ==> 22019766651.52699\n",
            "loss functon : iter 115 ==> 21986213507.485268\n",
            "loss functon : iter 116 ==> 21953290746.83102\n",
            "loss functon : iter 117 ==> 21920986525.324936\n",
            "loss functon : iter 118 ==> 21889289221.268524\n",
            "loss functon : iter 119 ==> 21858187431.322784\n",
            "loss functon : iter 120 ==> 21827669966.405502\n",
            "loss functon : iter 121 ==> 21797725847.66555\n",
            "loss functon : iter 122 ==> 21768344302.532894\n",
            "loss functon : iter 123 ==> 21739514760.842762\n",
            "loss functon : iter 124 ==> 21711226851.03269\n",
            "loss functon : iter 125 ==> 21683470396.41097\n",
            "loss functon : iter 126 ==> 21656235411.495243\n",
            "loss functon : iter 127 ==> 21629512098.41989\n",
            "loss functon : iter 128 ==> 21603290843.410877\n",
            "loss functon : iter 129 ==> 21577562213.326893\n",
            "loss functon : iter 130 ==> 21552316952.26545\n",
            "loss functon : iter 131 ==> 21527545978.23274\n",
            "loss functon : iter 132 ==> 21503240379.876083\n",
            "loss functon : iter 133 ==> 21479391413.277756\n",
            "loss functon : iter 134 ==> 21455990498.80906\n",
            "loss functon : iter 135 ==> 21433029218.043518\n",
            "loss functon : iter 136 ==> 21410499310.72804\n",
            "loss functon : iter 137 ==> 21388392671.811012\n",
            "loss functon : iter 138 ==> 21366701348.526237\n",
            "loss functon : iter 139 ==> 21345417537.531628\n",
            "loss functon : iter 140 ==> 21324533582.101707\n",
            "loss functon : iter 141 ==> 21304041969.372833\n",
            "loss functon : iter 142 ==> 21283935327.640167\n",
            "loss functon : iter 143 ==> 21264206423.705475\n",
            "loss functon : iter 144 ==> 21244848160.274715\n",
            "loss functon : iter 145 ==> 21225853573.40454\n",
            "loss functon : iter 146 ==> 21207215829.99679\n",
            "loss functon : iter 147 ==> 21188928225.340046\n",
            "loss functon : iter 148 ==> 21170984180.697365\n",
            "loss functon : iter 149 ==> 21153377240.939373\n",
            "loss functon : iter 150 ==> 21136101072.221786\n",
            "loss functon : iter 151 ==> 21119149459.706604\n",
            "loss functon : iter 152 ==> 21102516305.326115\n",
            "loss functon : iter 153 ==> 21086195625.588882\n",
            "loss functon : iter 154 ==> 21070181549.426987\n",
            "loss functon : iter 155 ==> 21054468316.083733\n",
            "loss functon : iter 156 ==> 21039050273.04096\n",
            "loss functon : iter 157 ==> 21023921873.985405\n",
            "loss functon : iter 158 ==> 21009077676.8132\n",
            "loss functon : iter 159 ==> 20994512341.671906\n",
            "loss functon : iter 160 ==> 20980220629.039284\n",
            "loss functon : iter 161 ==> 20966197397.83822\n",
            "loss functon : iter 162 ==> 20952437603.587044\n",
            "loss functon : iter 163 ==> 20938936296.584602\n",
            "loss functon : iter 164 ==> 20925688620.12941\n",
            "loss functon : iter 165 ==> 20912689808.772316\n",
            "loss functon : iter 166 ==> 20899935186.60196\n",
            "loss functon : iter 167 ==> 20887420165.562416\n",
            "loss functon : iter 168 ==> 20875140243.802544\n",
            "loss functon : iter 169 ==> 20863091004.056236\n",
            "loss functon : iter 170 ==> 20851268112.05318\n",
            "loss functon : iter 171 ==> 20839667314.959457\n",
            "loss functon : iter 172 ==> 20828284439.847427\n",
            "loss functon : iter 173 ==> 20817115392.194366\n",
            "loss functon : iter 174 ==> 20806156154.409348\n",
            "loss functon : iter 175 ==> 20795402784.387756\n",
            "loss functon : iter 176 ==> 20784851414.09297\n",
            "loss functon : iter 177 ==> 20774498248.164726\n",
            "loss functon : iter 178 ==> 20764339562.553585\n",
            "loss functon : iter 179 ==> 20754371703.18109\n",
            "loss functon : iter 180 ==> 20744591084.625076\n",
            "loss functon : iter 181 ==> 20734994188.8297\n",
            "loss functon : iter 182 ==> 20725577563.839687\n",
            "loss functon : iter 183 ==> 20716337822.558384\n",
            "loss functon : iter 184 ==> 20707271641.529114\n",
            "loss functon : iter 185 ==> 20698375759.739475\n",
            "loss functon : iter 186 ==> 20689646977.44805\n",
            "loss functon : iter 187 ==> 20681082155.03321\n",
            "loss functon : iter 188 ==> 20672678211.863518\n",
            "loss functon : iter 189 ==> 20664432125.189354\n",
            "loss functon : iter 190 ==> 20656340929.055412\n",
            "loss functon : iter 191 ==> 20648401713.233543\n",
            "loss functon : iter 192 ==> 20640611622.17576\n",
            "loss functon : iter 193 ==> 20632967853.986794\n",
            "loss functon : iter 194 ==> 20625467659.416054\n",
            "loss functon : iter 195 ==> 20618108340.868484\n",
            "loss functon : iter 196 ==> 20610887251.434013\n",
            "loss functon : iter 197 ==> 20603801793.93521\n",
            "loss functon : iter 198 ==> 20596849419.992897\n",
            "loss functon : iter 199 ==> 20590027629.109253\n",
            "loss functon : iter 200 ==> 20583333967.768196\n",
            "loss functon : iter 201 ==> 20576766028.552624\n",
            "loss functon : iter 202 ==> 20570321449.278275\n",
            "loss functon : iter 203 ==> 20563997912.143852\n",
            "loss functon : iter 204 ==> 20557793142.897102\n",
            "loss functon : iter 205 ==> 20551704910.0166\n",
            "loss functon : iter 206 ==> 20545731023.908844\n",
            "loss functon : iter 207 ==> 20539869336.120506\n",
            "loss functon : iter 208 ==> 20534117738.565437\n",
            "loss functon : iter 209 ==> 20528474162.766212\n",
            "loss functon : iter 210 ==> 20522936579.109924\n",
            "loss functon : iter 211 ==> 20517502996.117958\n",
            "loss functon : iter 212 ==> 20512171459.729492\n",
            "loss functon : iter 213 ==> 20506940052.598457\n",
            "loss functon : iter 214 ==> 20501806893.4037\n",
            "loss functon : iter 215 ==> 20496770136.17212\n",
            "loss functon : iter 216 ==> 20491827969.614502\n",
            "loss functon : iter 217 ==> 20486978616.473866\n",
            "loss functon : iter 218 ==> 20482220332.886013\n",
            "loss functon : iter 219 ==> 20477551407.75212\n",
            "loss functon : iter 220 ==> 20472970162.12313\n",
            "loss functon : iter 221 ==> 20468474948.595646\n",
            "loss functon : iter 222 ==> 20464064150.71928\n",
            "loss functon : iter 223 ==> 20459736182.41503\n",
            "loss functon : iter 224 ==> 20455489487.40466\n",
            "loss functon : iter 225 ==> 20451322538.650764\n",
            "loss functon : iter 226 ==> 20447233837.807373\n",
            "loss functon : iter 227 ==> 20443221914.680847\n",
            "loss functon : iter 228 ==> 20439285326.70096\n",
            "loss functon : iter 229 ==> 20435422658.401848\n",
            "loss functon : iter 230 ==> 20431632520.91278\n",
            "loss functon : iter 231 ==> 20427913551.458435\n",
            "loss functon : iter 232 ==> 20424264412.86861\n",
            "loss functon : iter 233 ==> 20420683793.09713\n",
            "loss functon : iter 234 ==> 20417170404.749794\n",
            "loss functon : iter 235 ==> 20413722984.62117\n",
            "loss functon : iter 236 ==> 20410340293.240143\n",
            "loss functon : iter 237 ==> 20407021114.42395\n",
            "loss functon : iter 238 ==> 20403764254.84063\n",
            "loss functon : iter 239 ==> 20400568543.57967\n",
            "loss functon : iter 240 ==> 20397432831.730747\n",
            "loss functon : iter 241 ==> 20394355991.970345\n",
            "loss functon : iter 242 ==> 20391336918.156166\n",
            "loss functon : iter 243 ==> 20388374524.929188\n",
            "loss functon : iter 244 ==> 20385467747.32312\n",
            "loss functon : iter 245 ==> 20382615540.381287\n",
            "loss functon : iter 246 ==> 20379816878.780632\n",
            "loss functon : iter 247 ==> 20377070756.462868\n",
            "loss functon : iter 248 ==> 20374376186.27246\n",
            "loss functon : iter 249 ==> 20371732199.60151\n",
            "loss functon : iter 250 ==> 20369137846.04122\n",
            "loss functon : iter 251 ==> 20366592193.040005\n",
            "loss functon : iter 252 ==> 20364094325.567924\n",
            "loss functon : iter 253 ==> 20361643345.78749\n",
            "loss functon : iter 254 ==> 20359238372.730648\n",
            "loss functon : iter 255 ==> 20356878541.98179\n",
            "loss functon : iter 256 ==> 20354563005.366787\n",
            "loss functon : iter 257 ==> 20352290930.6478\n",
            "loss functon : iter 258 ==> 20350061501.223873\n",
            "loss functon : iter 259 ==> 20347873915.83712\n",
            "loss functon : iter 260 ==> 20345727388.28444\n",
            "loss functon : iter 261 ==> 20343621147.134678\n",
            "loss functon : iter 262 ==> 20341554435.45105\n",
            "loss functon : iter 263 ==> 20339526510.518818\n",
            "loss functon : iter 264 ==> 20337536643.578083\n",
            "loss functon : iter 265 ==> 20335584119.56156\n",
            "loss functon : iter 266 ==> 20333668236.837357\n",
            "loss functon : iter 267 ==> 20331788306.956482\n",
            "loss functon : iter 268 ==> 20329943654.40518\n",
            "loss functon : iter 269 ==> 20328133616.361908\n",
            "loss functon : iter 270 ==> 20326357542.458817\n",
            "loss functon : iter 271 ==> 20324614794.547806\n",
            "loss functon : iter 272 ==> 20322904746.470894\n",
            "loss functon : iter 273 ==> 20321226783.834957\n",
            "loss functon : iter 274 ==> 20319580303.790676\n",
            "loss functon : iter 275 ==> 20317964714.81563\n",
            "loss functon : iter 276 ==> 20316379436.501488\n",
            "loss functon : iter 277 ==> 20314823899.345177\n",
            "loss functon : iter 278 ==> 20313297544.54399\n",
            "loss functon : iter 279 ==> 20311799823.79454\n",
            "loss functon : iter 280 ==> 20310330199.095474\n",
            "loss functon : iter 281 ==> 20308888142.55393\n",
            "loss functon : iter 282 ==> 20307473136.19559\n",
            "loss functon : iter 283 ==> 20306084671.77834\n",
            "loss functon : iter 284 ==> 20304722250.609386\n",
            "loss functon : iter 285 ==> 20303385383.365864\n",
            "loss functon : iter 286 ==> 20302073589.918755\n",
            "loss functon : iter 287 ==> 20300786399.16018\n",
            "loss functon : iter 288 ==> 20299523348.83386\n",
            "loss functon : iter 289 ==> 20298283985.368843\n",
            "loss functon : iter 290 ==> 20297067863.71629\n",
            "loss functon : iter 291 ==> 20295874547.18936\n",
            "loss functon : iter 292 ==> 20294703607.306107\n",
            "loss functon : iter 293 ==> 20293554623.635315\n",
            "loss functon : iter 294 ==> 20292427183.645203\n",
            "loss functon : iter 295 ==> 20291320882.555058\n",
            "loss functon : iter 296 ==> 20290235323.189552\n",
            "loss functon : iter 297 ==> 20289170115.835873\n",
            "loss functon : iter 298 ==> 20288124878.1035\n",
            "loss functon : iter 299 ==> 20287099234.786636\n"
          ]
        }
      ]
    },
    {
      "cell_type": "code",
      "metadata": {
        "colab": {
          "base_uri": "https://localhost:8080/"
        },
        "id": "WxrEvy_0PoOa",
        "outputId": "2699ddee-37cb-45a1-ec41-1bfe0adb5772"
      },
      "source": [
        "print(f'SSE on Train : {J[-1]}')"
      ],
      "execution_count": null,
      "outputs": [
        {
          "output_type": "stream",
          "name": "stdout",
          "text": [
            "SSE on Train : 20287099234.786636\n"
          ]
        }
      ]
    },
    {
      "cell_type": "code",
      "metadata": {
        "colab": {
          "base_uri": "https://localhost:8080/"
        },
        "id": "F0qRr4zXQYbI",
        "outputId": "7a1ca7cf-1a3a-4fc0-81bb-39b0dbbf91d3"
      },
      "source": [
        "theta"
      ],
      "execution_count": null,
      "outputs": [
        {
          "output_type": "execute_result",
          "data": {
            "text/plain": [
              "array([[ 2.23991203],\n",
              "       [ 1.91698387],\n",
              "       [-0.9591724 ],\n",
              "       [ 1.41085409],\n",
              "       [ 0.04403957],\n",
              "       [ 3.76470835],\n",
              "       [ 1.0735133 ]])"
            ]
          },
          "metadata": {},
          "execution_count": 31
        }
      ]
    },
    {
      "cell_type": "code",
      "metadata": {
        "colab": {
          "base_uri": "https://localhost:8080/",
          "height": 295
        },
        "id": "JK9pISDmD9eP",
        "outputId": "435b3694-950e-4dd3-837f-d738648a9a2d"
      },
      "source": [
        "plt.plot(J, label='Training loss')\n",
        "plt.xlabel('epoch')\n",
        "plt.ylabel('cost function')\n",
        "plt.legend(frameon=False)\n",
        "plt.title(f\"Loss function for {epoch} epochs\")\n",
        "plt.show()"
      ],
      "execution_count": null,
      "outputs": [
        {
          "output_type": "display_data",
          "data": {
            "image/png": "[encoded data removed]",
            "text/plain": [
              "<Figure size 432x288 with 1 Axes>"
            ]
          },
          "metadata": {
            "needs_background": "light"
          }
        }
      ]
    },
    {
      "cell_type": "code",
      "metadata": {
        "colab": {
          "base_uri": "https://localhost:8080/"
        },
        "id": "St8dHw5_EQE6",
        "outputId": "28959d35-6c66-4491-fd43-3fdcecc39f9a"
      },
      "source": [
        "theta"
      ],
      "execution_count": null,
      "outputs": [
        {
          "output_type": "execute_result",
          "data": {
            "text/plain": [
              "array([[ 2.23904486],\n",
              "       [ 1.91815325],\n",
              "       [-0.96013199],\n",
              "       [ 1.42472952],\n",
              "       [ 0.05029336],\n",
              "       [ 3.85324812],\n",
              "       [ 1.06819189]])"
            ]
          },
          "metadata": {},
          "execution_count": 111
        }
      ]
    },
    {
      "cell_type": "code",
      "metadata": {
        "colab": {
          "base_uri": "https://localhost:8080/"
        },
        "id": "J0M3d4p6EPB9",
        "outputId": "7677b622-c75d-463d-baca-dd2a42e280e2"
      },
      "source": [
        "# set the theta as w_linear\n",
        "w_degree3_GD = theta\n",
        "\n",
        "X_test = transform(data['x1_test'], data['x2_test'], 3)\n",
        "\n",
        "# calculate y_hat for X_test\n",
        "y_hat_test = y_hat(X_test, w_degree3_GD)\n",
        "\n",
        "# Calculate SSE on the Test data\n",
        "test_loss = loss(data['y_test'], y_hat_test)\n",
        "print(f'SSE on Test : {test_loss}')"
      ],
      "execution_count": null,
      "outputs": [
        {
          "output_type": "stream",
          "name": "stdout",
          "text": [
            "SSE on Test : 11263530024.108376\n"
          ]
        }
      ]
    },
    {
      "cell_type": "markdown",
      "metadata": {
        "id": "omea-X13GfuJ"
      },
      "source": [
        "پس طبق آزمایش انجام شده برای معادله درجه 3 رگرسیون، از بین نرخ یادگیری های زیر و ایپاک های زیر، نرخ یادگیری 0.0000000001 و ایپاک 300 بهترین است.\n",
        "\n",
        "alpha = [0.001, 0.0001, 0.00001, 0.000001, 0.0000001, 0.00000001, 0.000000001, ..., 0.00000000001]\n",
        "\n",
        "epoch = [100, 200, 250, 300, 400]"
      ]
    },
    {
      "cell_type": "markdown",
      "metadata": {
        "id": "chZqFt99Hhol"
      },
      "source": [
        "**این واگرایی ای که در معادله ی درجه یک و درجه سه رخ داده بخش زیادی به علت نرمال نبودن داده ها است. زیرا اگر داده  ها نرمال باشند داده های ما کوچک تر می شوند و با گرادیان کاهشی همگرا می شوند**\n",
        "\n",
        "\n",
        "\n",
        "\n"
      ]
    },
    {
      "cell_type": "markdown",
      "metadata": {
        "id": "g-akjUDhHbWu"
      },
      "source": [
        "### Polynomial degree 5"
      ]
    },
    {
      "cell_type": "code",
      "metadata": {
        "id": "MflWH89eEXeA",
        "colab": {
          "base_uri": "https://localhost:8080/"
        },
        "outputId": "ea4cee5d-70d0-4fe9-a835-d3401b9b0ad4"
      },
      "source": [
        "# Initialize w_degree5 on normal distribution. we need 11 coefficients.\n",
        "w_degree5 = np.random.normal(0, 1, 11)\n",
        "\n",
        "print(f'w_degree5 shape : {w_degree5.shape}')\n",
        "print(f'w_degree5 with GD : {w_degree5}')"
      ],
      "execution_count": null,
      "outputs": [
        {
          "output_type": "stream",
          "name": "stdout",
          "text": [
            "w_degree5 shape : (11,)\n",
            "w_degree5 with GD : [ 0.14404357  1.45427351  0.76103773  0.12167502  0.44386323  0.33367433\n",
            "  1.49407907 -0.20515826  0.3130677  -0.85409574 -2.55298982]\n"
          ]
        }
      ]
    },
    {
      "cell_type": "code",
      "metadata": {
        "id": "XobhaKaSKWiT"
      },
      "source": [
        "X_train = transform(data['x1'], data['x2'], 5)\n",
        "w_degree5 = w_degree5.reshape(-1, 1)\n",
        "'0.0000000000000001'\n",
        "alpha = 0.00000000000000001\n",
        "epoch = 700"
      ],
      "execution_count": null,
      "outputs": []
    },
    {
      "cell_type": "code",
      "metadata": {
        "colab": {
          "base_uri": "https://localhost:8080/"
        },
        "id": "gODUQPCdKaaf",
        "outputId": "fabfb4a3-306e-40a3-8839-a8442d1a815a"
      },
      "source": [
        "J, theta = gradient_descent1(X_train, data['y'], w_degree5, alpha, epoch)"
      ],
      "execution_count": null,
      "outputs": [
        {
          "output_type": "stream",
          "name": "stdout",
          "text": [
            "loss functon : iter 0 ==> 4.127492285604403e+16\n",
            "loss functon : iter 1 ==> 3.5334411123434024e+16\n",
            "loss functon : iter 2 ==> 3.0248994960790684e+16\n",
            "loss functon : iter 3 ==> 2.589558926214539e+16\n",
            "loss functon : iter 4 ==> 2.2168826173080144e+16\n",
            "loss functon : iter 5 ==> 1.8978504814639776e+16\n",
            "loss functon : iter 6 ==> 1.6247408101886776e+16\n",
            "loss functon : iter 7 ==> 1.3909433816358112e+16\n",
            "loss functon : iter 8 ==> 1.1907994697743852e+16\n",
            "loss functon : iter 9 ==> 1.0194648831327096e+16\n",
            "loss functon : iter 10 ==> 8727927181699754.0\n",
            "loss functon : iter 11 ==> 7472329894908350.0\n",
            "loss functon : iter 12 ==> 6397467075979030.0\n",
            "loss functon : iter 13 ==> 5477323245588074.0\n",
            "loss functon : iter 14 ==> 4689627673118435.0\n",
            "loss functon : iter 15 ==> 4015315345927256.0\n",
            "loss functon : iter 16 ==> 3438065528367252.5\n",
            "loss functon : iter 17 ==> 2943906742052437.0\n",
            "loss functon : iter 18 ==> 2520878606488394.0\n",
            "loss functon : iter 19 ==> 2158742355410090.5\n",
            "loss functon : iter 20 ==> 1848733022295014.5\n",
            "loss functon : iter 21 ==> 1583347297061455.0\n",
            "loss functon : iter 22 ==> 1356161919330978.5\n",
            "loss functon : iter 23 ==> 1161678212727449.8\n",
            "loss functon : iter 24 ==> 995188997390774.8\n",
            "loss functon : iter 25 ==> 852664659515816.4\n",
            "loss functon : iter 26 ==> 730655620394903.8\n",
            "loss functon : iter 27 ==> 626208844368577.9\n",
            "loss functon : iter 28 ==> 536796364880619.4\n",
            "loss functon : iter 29 ==> 460254098714189.4\n",
            "loss functon : iter 30 ==> 394729467496412.2\n",
            "loss functon : iter 31 ==> 338636558725890.8\n",
            "loss functon : iter 32 ==> 290617741060863.1\n",
            "loss functon : iter 33 ==> 249510804821720.94\n",
            "loss functon : iter 34 ==> 214320832391415.75\n",
            "loss functon : iter 35 ==> 184196117677595.56\n",
            "loss functon : iter 36 ==> 158407551801977.38\n",
            "loss functon : iter 37 ==> 136330976077468.78\n",
            "loss functon : iter 38 ==> 117432075152443.98\n",
            "loss functon : iter 39 ==> 101253444682643.72\n",
            "loss functon : iter 40 ==> 87403520522455.16\n",
            "loss functon : iter 41 ==> 75547101482702.8\n",
            "loss functon : iter 42 ==> 65397236272049.85\n",
            "loss functon : iter 43 ==> 56708278257194.14\n",
            "loss functon : iter 44 ==> 49269939942401.7\n",
            "loss functon : iter 45 ==> 42902203265679.9\n",
            "loss functon : iter 46 ==> 37450962522690.234\n",
            "loss functon : iter 47 ==> 32784294461694.336\n",
            "loss functon : iter 48 ==> 28789265272591.16\n",
            "loss functon : iter 49 ==> 25369197187846.035\n",
            "loss functon : iter 50 ==> 22441328537351.87\n",
            "loss functon : iter 51 ==> 19934810622244.445\n",
            "loss functon : iter 52 ==> 17788992924907.484\n",
            "loss functon : iter 53 ==> 15951955151163.344\n",
            "loss functon : iter 54 ==> 14379250574859.303\n",
            "loss functon : iter 55 ==> 13032830269328.113\n",
            "loss functon : iter 56 ==> 11880122188305.531\n",
            "loss functon : iter 57 ==> 10893242806794.184\n",
            "loss functon : iter 58 ==> 10048322240784.355\n",
            "loss functon : iter 59 ==> 9324926511333.316\n",
            "loss functon : iter 60 ==> 8705562969743.356\n",
            "loss functon : iter 61 ==> 8175256913372.162\n",
            "loss functon : iter 62 ==> 7721189144675.362\n",
            "loss functon : iter 63 ==> 7332385701123.588\n",
            "loss functon : iter 64 ==> 6999452246356.675\n",
            "loss functon : iter 65 ==> 6714346693898.166\n",
            "loss functon : iter 66 ==> 6470184560116.898\n",
            "loss functon : iter 67 ==> 6261072335286.453\n",
            "loss functon : iter 68 ==> 6081964839730.621\n",
            "loss functon : iter 69 ==> 5928543112567.306\n",
            "loss functon : iter 70 ==> 5797109877524.996\n",
            "loss functon : iter 71 ==> 5684500055733.541\n",
            "loss functon : iter 72 ==> 5588004159581.102\n",
            "loss functon : iter 73 ==> 5505302713496.72\n",
            "loss functon : iter 74 ==> 5434410114408.639\n",
            "loss functon : iter 75 ==> 5373626573102.211\n",
            "loss functon : iter 76 ==> 5321496973287.678\n",
            "loss functon : iter 77 ==> 5276775652621.201\n",
            "loss functon : iter 78 ==> 5238396253254.865\n",
            "loss functon : iter 79 ==> 5205445912191.929\n",
            "loss functon : iter 80 ==> 5177143166762.326\n",
            "loss functon : iter 81 ==> 5152819040452.478\n",
            "loss functon : iter 82 ==> 5131900851299.373\n",
            "loss functon : iter 83 ==> 5113898350954.579\n",
            "loss functon : iter 84 ==> 5098391858934.323\n",
            "loss functon : iter 85 ==> 5085022104862.393\n",
            "loss functon : iter 86 ==> 5073481532852.059\n",
            "loss functon : iter 87 ==> 5063506857562.22\n",
            "loss functon : iter 88 ==> 5054872691757.884\n",
            "loss functon : iter 89 ==> 5047386091139.341\n",
            "loss functon : iter 90 ==> 5040881884405.528\n",
            "loss functon : iter 91 ==> 5035218675522.553\n",
            "loss functon : iter 92 ==> 5030275421438.058\n",
            "loss functon : iter 93 ==> 5025948502409.995\n",
            "loss functon : iter 94 ==> 5022149214041.352\n",
            "loss functon : iter 95 ==> 5018801620319.172\n",
            "loss functon : iter 96 ==> 5015840715693.783\n",
            "loss functon : iter 97 ==> 5013210851714.049\n",
            "loss functon : iter 98 ==> 5010864390137.605\n",
            "loss functon : iter 99 ==> 5008760549916.6\n",
            "loss functon : iter 100 ==> 5006864420151.854\n",
            "loss functon : iter 101 ==> 5005146115125.479\n",
            "loss functon : iter 102 ==> 5003580050960.71\n",
            "loss functon : iter 103 ==> 5002144326401.566\n",
            "loss functon : iter 104 ==> 5000820192725.004\n",
            "loss functon : iter 105 ==> 4999591599955.551\n",
            "loss functon : iter 106 ==> 4998444808399.229\n",
            "loss functon : iter 107 ==> 4997368056094.471\n",
            "loss functon : iter 108 ==> 4996351274131.189\n",
            "loss functon : iter 109 ==> 4995385842947.702\n",
            "loss functon : iter 110 ==> 4994464383707.035\n",
            "loss functon : iter 111 ==> 4993580579703.154\n",
            "loss functon : iter 112 ==> 4992729023474.557\n",
            "loss functon : iter 113 ==> 4991905085924.793\n",
            "loss functon : iter 114 ==> 4991104804282.186\n",
            "loss functon : iter 115 ==> 4990324786186.983\n",
            "loss functon : iter 116 ==> 4989562127584.496\n",
            "loss functon : iter 117 ==> 4988814342436.951\n",
            "loss functon : iter 118 ==> 4988079302552.85\n",
            "loss functon : iter 119 ==> 4987355186077.459\n",
            "loss functon : iter 120 ==> 4986640433397.752\n",
            "loss functon : iter 121 ==> 4985933709394.52\n",
            "loss functon : iter 122 ==> 4985233871128.043\n",
            "loss functon : iter 123 ==> 4984539940175.178\n",
            "loss functon : iter 124 ==> 4983851078948.329\n",
            "loss functon : iter 125 ==> 4983166570423.145\n",
            "loss functon : iter 126 ==> 4982485800784.271\n",
            "loss functon : iter 127 ==> 4981808244569.133\n",
            "loss functon : iter 128 ==> 4981133451950.153\n",
            "loss functon : iter 129 ==> 4980461037847.624\n",
            "loss functon : iter 130 ==> 4979790672609.695\n",
            "loss functon : iter 131 ==> 4979122074033.917\n",
            "loss functon : iter 132 ==> 4978455000537.2295\n",
            "loss functon : iter 133 ==> 4977789245309.076\n",
            "loss functon : iter 134 ==> 4977124631306.146\n",
            "loss functon : iter 135 ==> 4976461006967.587\n",
            "loss functon : iter 136 ==> 4975798242546.977\n",
            "loss functon : iter 137 ==> 4975136226972.286\n",
            "loss functon : iter 138 ==> 4974474865157.837\n",
            "loss functon : iter 139 ==> 4973814075703.168\n",
            "loss functon : iter 140 ==> 4973153788923.147\n",
            "loss functon : iter 141 ==> 4972493945161.633\n",
            "loss functon : iter 142 ==> 4971834493347.866\n",
            "loss functon : iter 143 ==> 4971175389760.668\n",
            "loss functon : iter 144 ==> 4970516596970.514\n",
            "loss functon : iter 145 ==> 4969858082933.896\n",
            "loss functon : iter 146 ==> 4969199820218.049\n",
            "loss functon : iter 147 ==> 4968541785337.252\n",
            "loss functon : iter 148 ==> 4967883958184.697\n",
            "loss functon : iter 149 ==> 4967226321546.1\n",
            "loss functon : iter 150 ==> 4966568860683.357\n",
            "loss functon : iter 151 ==> 4965911562978.106\n",
            "loss functon : iter 152 ==> 4965254417626.609\n",
            "loss functon : iter 153 ==> 4964597415378.549\n",
            "loss functon : iter 154 ==> 4963940548313.424\n",
            "loss functon : iter 155 ==> 4963283809649.131\n",
            "loss functon : iter 156 ==> 4962627193578.1045\n",
            "loss functon : iter 157 ==> 4961970695127.033\n",
            "loss functon : iter 158 ==> 4961314310036.779\n",
            "loss functon : iter 159 ==> 4960658034659.578\n",
            "loss functon : iter 160 ==> 4960001865871.031\n",
            "loss functon : iter 161 ==> 4959345800994.777\n",
            "loss functon : iter 162 ==> 4958689837737.996\n",
            "loss functon : iter 163 ==> 4958033974136.204\n",
            "loss functon : iter 164 ==> 4957378208505.99\n",
            "loss functon : iter 165 ==> 4956722539404.558\n",
            "loss functon : iter 166 ==> 4956066965595.093\n",
            "loss functon : iter 167 ==> 4955411486017.111\n",
            "loss functon : iter 168 ==> 4954756099761.08\n",
            "loss functon : iter 169 ==> 4954100806046.686\n",
            "loss functon : iter 170 ==> 4953445604204.24\n",
            "loss functon : iter 171 ==> 4952790493658.748\n",
            "loss functon : iter 172 ==> 4952135473916.288\n",
            "loss functon : iter 173 ==> 4951480544552.334\n",
            "loss functon : iter 174 ==> 4950825705201.768\n",
            "loss functon : iter 175 ==> 4950170955550.334\n",
            "loss functon : iter 176 ==> 4949516295327.311\n",
            "loss functon : iter 177 ==> 4948861724299.246\n",
            "loss functon : iter 178 ==> 4948207242264.602\n",
            "loss functon : iter 179 ==> 4947552849049.145\n",
            "loss functon : iter 180 ==> 4946898544502.028\n",
            "loss functon : iter 181 ==> 4946244328492.424\n",
            "loss functon : iter 182 ==> 4945590200906.637\n",
            "loss functon : iter 183 ==> 4944936161645.641\n",
            "loss functon : iter 184 ==> 4944282210622.97\n",
            "loss functon : iter 185 ==> 4943628347762.908\n",
            "loss functon : iter 186 ==> 4942974572998.943\n",
            "loss functon : iter 187 ==> 4942320886272.441\n",
            "loss functon : iter 188 ==> 4941667287531.515\n",
            "loss functon : iter 189 ==> 4941013776730.046\n",
            "loss functon : iter 190 ==> 4940360353826.868\n",
            "loss functon : iter 191 ==> 4939707018785.039\n",
            "loss functon : iter 192 ==> 4939053771571.246\n",
            "loss functon : iter 193 ==> 4938400612155.271\n",
            "loss functon : iter 194 ==> 4937747540509.561\n",
            "loss functon : iter 195 ==> 4937094556608.825\n",
            "loss functon : iter 196 ==> 4936441660429.73\n",
            "loss functon : iter 197 ==> 4935788851950.601\n",
            "loss functon : iter 198 ==> 4935136131151.195\n",
            "loss functon : iter 199 ==> 4934483498012.486\n",
            "loss functon : iter 200 ==> 4933830952516.499\n",
            "loss functon : iter 201 ==> 4933178494646.152\n",
            "loss functon : iter 202 ==> 4932526124385.132\n",
            "loss functon : iter 203 ==> 4931873841717.779\n",
            "loss functon : iter 204 ==> 4931221646629.0\n",
            "loss functon : iter 205 ==> 4930569539104.182\n",
            "loss functon : iter 206 ==> 4929917519129.122\n",
            "loss functon : iter 207 ==> 4929265586689.976\n",
            "loss functon : iter 208 ==> 4928613741773.197\n",
            "loss functon : iter 209 ==> 4927961984365.502\n",
            "loss functon : iter 210 ==> 4927310314453.828\n",
            "loss functon : iter 211 ==> 4926658732025.303\n",
            "loss functon : iter 212 ==> 4926007237067.219\n",
            "loss functon : iter 213 ==> 4925355829567.008\n",
            "loss functon : iter 214 ==> 4924704509512.222\n",
            "loss functon : iter 215 ==> 4924053276890.514\n",
            "loss functon : iter 216 ==> 4923402131689.627\n",
            "loss functon : iter 217 ==> 4922751073897.383\n",
            "loss functon : iter 218 ==> 4922100103501.666\n",
            "loss functon : iter 219 ==> 4921449220490.414\n",
            "loss functon : iter 220 ==> 4920798424851.617\n",
            "loss functon : iter 221 ==> 4920147716573.308\n",
            "loss functon : iter 222 ==> 4919497095643.547\n",
            "loss functon : iter 223 ==> 4918846562050.4375\n",
            "loss functon : iter 224 ==> 4918196115782.099\n",
            "loss functon : iter 225 ==> 4917545756826.68\n",
            "loss functon : iter 226 ==> 4916895485172.346\n",
            "loss functon : iter 227 ==> 4916245300807.283\n",
            "loss functon : iter 228 ==> 4915595203719.686\n",
            "loss functon : iter 229 ==> 4914945193897.77\n",
            "loss functon : iter 230 ==> 4914295271329.758\n",
            "loss functon : iter 231 ==> 4913645436003.883\n",
            "loss functon : iter 232 ==> 4912995687908.386\n",
            "loss functon : iter 233 ==> 4912346027031.52\n",
            "loss functon : iter 234 ==> 4911696453361.539\n",
            "loss functon : iter 235 ==> 4911046966886.707\n",
            "loss functon : iter 236 ==> 4910397567595.291\n",
            "loss functon : iter 237 ==> 4909748255475.568\n",
            "loss functon : iter 238 ==> 4909099030515.8125\n",
            "loss functon : iter 239 ==> 4908449892704.309\n",
            "loss functon : iter 240 ==> 4907800842029.34\n",
            "loss functon : iter 241 ==> 4907151878479.193\n",
            "loss functon : iter 242 ==> 4906503002042.164\n",
            "loss functon : iter 243 ==> 4905854212706.546\n",
            "loss functon : iter 244 ==> 4905205510460.636\n",
            "loss functon : iter 245 ==> 4904556895292.734\n",
            "loss functon : iter 246 ==> 4903908367191.145\n",
            "loss functon : iter 247 ==> 4903259926144.168\n",
            "loss functon : iter 248 ==> 4902611572140.115\n",
            "loss functon : iter 249 ==> 4901963305167.29\n",
            "loss functon : iter 250 ==> 4901315125214.01\n",
            "loss functon : iter 251 ==> 4900667032268.582\n",
            "loss functon : iter 252 ==> 4900019026319.324\n",
            "loss functon : iter 253 ==> 4899371107354.553\n",
            "loss functon : iter 254 ==> 4898723275362.586\n",
            "loss functon : iter 255 ==> 4898075530331.742\n",
            "loss functon : iter 256 ==> 4897427872250.345\n",
            "loss functon : iter 257 ==> 4896780301106.718\n",
            "loss functon : iter 258 ==> 4896132816889.186\n",
            "loss functon : iter 259 ==> 4895485419586.074\n",
            "loss functon : iter 260 ==> 4894838109185.715\n",
            "loss functon : iter 261 ==> 4894190885676.436\n",
            "loss functon : iter 262 ==> 4893543749046.569\n",
            "loss functon : iter 263 ==> 4892896699284.449\n",
            "loss functon : iter 264 ==> 4892249736378.41\n",
            "loss functon : iter 265 ==> 4891602860316.789\n",
            "loss functon : iter 266 ==> 4890956071087.926\n",
            "loss functon : iter 267 ==> 4890309368680.158\n",
            "loss functon : iter 268 ==> 4889662753081.83\n",
            "loss functon : iter 269 ==> 4889016224281.282\n",
            "loss functon : iter 270 ==> 4888369782266.86\n",
            "loss functon : iter 271 ==> 4887723427026.91\n",
            "loss functon : iter 272 ==> 4887077158549.781\n",
            "loss functon : iter 273 ==> 4886430976823.82\n",
            "loss functon : iter 274 ==> 4885784881837.382\n",
            "loss functon : iter 275 ==> 4885138873578.814\n",
            "loss functon : iter 276 ==> 4884492952036.477\n",
            "loss functon : iter 277 ==> 4883847117198.723\n",
            "loss functon : iter 278 ==> 4883201369053.906\n",
            "loss functon : iter 279 ==> 4882555707590.392\n",
            "loss functon : iter 280 ==> 4881910132796.536\n",
            "loss functon : iter 281 ==> 4881264644660.702\n",
            "loss functon : iter 282 ==> 4880619243171.254\n",
            "loss functon : iter 283 ==> 4879973928316.555\n",
            "loss functon : iter 284 ==> 4879328700084.975\n",
            "loss functon : iter 285 ==> 4878683558464.879\n",
            "loss functon : iter 286 ==> 4878038503444.64\n",
            "loss functon : iter 287 ==> 4877393535012.626\n",
            "loss functon : iter 288 ==> 4876748653157.213\n",
            "loss functon : iter 289 ==> 4876103857866.773\n",
            "loss functon : iter 290 ==> 4875459149129.685\n",
            "loss functon : iter 291 ==> 4874814526934.324\n",
            "loss functon : iter 292 ==> 4874169991269.07\n",
            "loss functon : iter 293 ==> 4873525542122.305\n",
            "loss functon : iter 294 ==> 4872881179482.41\n",
            "loss functon : iter 295 ==> 4872236903337.77\n",
            "loss functon : iter 296 ==> 4871592713676.77\n",
            "loss functon : iter 297 ==> 4870948610487.795\n",
            "loss functon : iter 298 ==> 4870304593759.236\n",
            "loss functon : iter 299 ==> 4869660663479.483\n",
            "loss functon : iter 300 ==> 4869016819636.928\n",
            "loss functon : iter 301 ==> 4868373062219.961\n",
            "loss functon : iter 302 ==> 4867729391216.982\n",
            "loss functon : iter 303 ==> 4867085806616.383\n",
            "loss functon : iter 304 ==> 4866442308406.564\n",
            "loss functon : iter 305 ==> 4865798896575.924\n",
            "loss functon : iter 306 ==> 4865155571112.863\n",
            "loss functon : iter 307 ==> 4864512332005.785\n",
            "loss functon : iter 308 ==> 4863869179243.094\n",
            "loss functon : iter 309 ==> 4863226112813.197\n",
            "loss functon : iter 310 ==> 4862583132704.499\n",
            "loss functon : iter 311 ==> 4861940238905.41\n",
            "loss functon : iter 312 ==> 4861297431404.34\n",
            "loss functon : iter 313 ==> 4860654710189.699\n",
            "loss functon : iter 314 ==> 4860012075249.905\n",
            "loss functon : iter 315 ==> 4859369526573.37\n",
            "loss functon : iter 316 ==> 4858727064148.511\n",
            "loss functon : iter 317 ==> 4858084687963.746\n",
            "loss functon : iter 318 ==> 4857442398007.496\n",
            "loss functon : iter 319 ==> 4856800194268.182\n",
            "loss functon : iter 320 ==> 4856158076734.225\n",
            "loss functon : iter 321 ==> 4855516045394.049\n",
            "loss functon : iter 322 ==> 4854874100236.083\n",
            "loss functon : iter 323 ==> 4854232241248.753\n",
            "loss functon : iter 324 ==> 4853590468420.488\n",
            "loss functon : iter 325 ==> 4852948781739.72\n",
            "loss functon : iter 326 ==> 4852307181194.878\n",
            "loss functon : iter 327 ==> 4851665666774.397\n",
            "loss functon : iter 328 ==> 4851024238466.715\n",
            "loss functon : iter 329 ==> 4850382896260.266\n",
            "loss functon : iter 330 ==> 4849741640143.488\n",
            "loss functon : iter 331 ==> 4849100470104.823\n",
            "loss functon : iter 332 ==> 4848459386132.711\n",
            "loss functon : iter 333 ==> 4847818388215.596\n",
            "loss functon : iter 334 ==> 4847177476341.922\n",
            "loss functon : iter 335 ==> 4846536650500.133\n",
            "loss functon : iter 336 ==> 4845895910678.681\n",
            "loss functon : iter 337 ==> 4845255256866.012\n",
            "loss functon : iter 338 ==> 4844614689050.578\n",
            "loss functon : iter 339 ==> 4843974207220.832\n",
            "loss functon : iter 340 ==> 4843333811365.227\n",
            "loss functon : iter 341 ==> 4842693501472.217\n",
            "loss functon : iter 342 ==> 4842053277530.262\n",
            "loss functon : iter 343 ==> 4841413139527.818\n",
            "loss functon : iter 344 ==> 4840773087453.348\n",
            "loss functon : iter 345 ==> 4840133121295.309\n",
            "loss functon : iter 346 ==> 4839493241042.168\n",
            "loss functon : iter 347 ==> 4838853446682.389\n",
            "loss functon : iter 348 ==> 4838213738204.4375\n",
            "loss functon : iter 349 ==> 4837574115596.783\n",
            "loss functon : iter 350 ==> 4836934578847.893\n",
            "loss functon : iter 351 ==> 4836295127946.238\n",
            "loss functon : iter 352 ==> 4835655762880.294\n",
            "loss functon : iter 353 ==> 4835016483638.531\n",
            "loss functon : iter 354 ==> 4834377290209.427\n",
            "loss functon : iter 355 ==> 4833738182581.456\n",
            "loss functon : iter 356 ==> 4833099160743.102\n",
            "loss functon : iter 357 ==> 4832460224682.84\n",
            "loss functon : iter 358 ==> 4831821374389.154\n",
            "loss functon : iter 359 ==> 4831182609850.529\n",
            "loss functon : iter 360 ==> 4830543931055.447\n",
            "loss functon : iter 361 ==> 4829905337992.396\n",
            "loss functon : iter 362 ==> 4829266830649.863\n",
            "loss functon : iter 363 ==> 4828628409016.338\n",
            "loss functon : iter 364 ==> 4827990073080.3125\n",
            "loss functon : iter 365 ==> 4827351822830.277\n",
            "loss functon : iter 366 ==> 4826713658254.729\n",
            "loss functon : iter 367 ==> 4826075579342.162\n",
            "loss functon : iter 368 ==> 4825437586081.072\n",
            "loss functon : iter 369 ==> 4824799678459.961\n",
            "loss functon : iter 370 ==> 4824161856467.328\n",
            "loss functon : iter 371 ==> 4823524120091.674\n",
            "loss functon : iter 372 ==> 4822886469321.502\n",
            "loss functon : iter 373 ==> 4822248904145.318\n",
            "loss functon : iter 374 ==> 4821611424551.629\n",
            "loss functon : iter 375 ==> 4820974030528.942\n",
            "loss functon : iter 376 ==> 4820336722065.768\n",
            "loss functon : iter 377 ==> 4819699499150.615\n",
            "loss functon : iter 378 ==> 4819062361772.0\n",
            "loss functon : iter 379 ==> 4818425309918.433\n",
            "loss functon : iter 380 ==> 4817788343578.432\n",
            "loss functon : iter 381 ==> 4817151462740.515\n",
            "loss functon : iter 382 ==> 4816514667393.199\n",
            "loss functon : iter 383 ==> 4815877957525.005\n",
            "loss functon : iter 384 ==> 4815241333124.455\n",
            "loss functon : iter 385 ==> 4814604794180.073\n",
            "loss functon : iter 386 ==> 4813968340680.383\n",
            "loss functon : iter 387 ==> 4813331972613.912\n",
            "loss functon : iter 388 ==> 4812695689969.1875\n",
            "loss functon : iter 389 ==> 4812059492734.74\n",
            "loss functon : iter 390 ==> 4811423380899.102\n",
            "loss functon : iter 391 ==> 4810787354450.802\n",
            "loss functon : iter 392 ==> 4810151413378.379\n",
            "loss functon : iter 393 ==> 4809515557670.364\n",
            "loss functon : iter 394 ==> 4808879787315.299\n",
            "loss functon : iter 395 ==> 4808244102301.719\n",
            "loss functon : iter 396 ==> 4807608502618.168\n",
            "loss functon : iter 397 ==> 4806972988253.186\n",
            "loss functon : iter 398 ==> 4806337559195.314\n",
            "loss functon : iter 399 ==> 4805702215433.102\n",
            "loss functon : iter 400 ==> 4805066956955.094\n",
            "loss functon : iter 401 ==> 4804431783749.836\n",
            "loss functon : iter 402 ==> 4803796695805.881\n",
            "loss functon : iter 403 ==> 4803161693111.779\n",
            "loss functon : iter 404 ==> 4802526775656.082\n",
            "loss functon : iter 405 ==> 4801891943427.346\n",
            "loss functon : iter 406 ==> 4801257196414.125\n",
            "loss functon : iter 407 ==> 4800622534604.975\n",
            "loss functon : iter 408 ==> 4799987957988.459\n",
            "loss functon : iter 409 ==> 4799353466553.135\n",
            "loss functon : iter 410 ==> 4798719060287.564\n",
            "loss functon : iter 411 ==> 4798084739180.312\n",
            "loss functon : iter 412 ==> 4797450503219.941\n",
            "loss functon : iter 413 ==> 4796816352395.02\n",
            "loss functon : iter 414 ==> 4796182286694.115\n",
            "loss functon : iter 415 ==> 4795548306105.798\n",
            "loss functon : iter 416 ==> 4794914410618.638\n",
            "loss functon : iter 417 ==> 4794280600221.207\n",
            "loss functon : iter 418 ==> 4793646874902.082\n",
            "loss functon : iter 419 ==> 4793013234649.838\n",
            "loss functon : iter 420 ==> 4792379679453.051\n",
            "loss functon : iter 421 ==> 4791746209300.299\n",
            "loss functon : iter 422 ==> 4791112824180.166\n",
            "loss functon : iter 423 ==> 4790479524081.23\n",
            "loss functon : iter 424 ==> 4789846308992.076\n",
            "loss functon : iter 425 ==> 4789213178901.291\n",
            "loss functon : iter 426 ==> 4788580133797.457\n",
            "loss functon : iter 427 ==> 4787947173669.166\n",
            "loss functon : iter 428 ==> 4787314298505.006\n",
            "loss functon : iter 429 ==> 4786681508293.566\n",
            "loss functon : iter 430 ==> 4786048803023.441\n",
            "loss functon : iter 431 ==> 4785416182683.227\n",
            "loss functon : iter 432 ==> 4784783647261.516\n",
            "loss functon : iter 433 ==> 4784151196746.907\n",
            "loss functon : iter 434 ==> 4783518831127.998\n",
            "loss functon : iter 435 ==> 4782886550393.389\n",
            "loss functon : iter 436 ==> 4782254354531.683\n",
            "loss functon : iter 437 ==> 4781622243531.482\n",
            "loss functon : iter 438 ==> 4780990217381.391\n",
            "loss functon : iter 439 ==> 4780358276070.019\n",
            "loss functon : iter 440 ==> 4779726419585.97\n",
            "loss functon : iter 441 ==> 4779094647917.855\n",
            "loss functon : iter 442 ==> 4778462961054.286\n",
            "loss functon : iter 443 ==> 4777831358983.875\n",
            "loss functon : iter 444 ==> 4777199841695.234\n",
            "loss functon : iter 445 ==> 4776568409176.981\n",
            "loss functon : iter 446 ==> 4775937061417.732\n",
            "loss functon : iter 447 ==> 4775305798406.107\n",
            "loss functon : iter 448 ==> 4774674620130.724\n",
            "loss functon : iter 449 ==> 4774043526580.206\n",
            "loss functon : iter 450 ==> 4773412517743.176\n",
            "loss functon : iter 451 ==> 4772781593608.258\n",
            "loss functon : iter 452 ==> 4772150754164.078\n",
            "loss functon : iter 453 ==> 4771519999399.266\n",
            "loss functon : iter 454 ==> 4770889329302.449\n",
            "loss functon : iter 455 ==> 4770258743862.26\n",
            "loss functon : iter 456 ==> 4769628243067.329\n",
            "loss functon : iter 457 ==> 4768997826906.292\n",
            "loss functon : iter 458 ==> 4768367495367.782\n",
            "loss functon : iter 459 ==> 4767737248440.4375\n",
            "loss functon : iter 460 ==> 4767107086112.898\n",
            "loss functon : iter 461 ==> 4766477008373.802\n",
            "loss functon : iter 462 ==> 4765847015211.791\n",
            "loss functon : iter 463 ==> 4765217106615.508\n",
            "loss functon : iter 464 ==> 4764587282573.598\n",
            "loss functon : iter 465 ==> 4763957543074.707\n",
            "loss functon : iter 466 ==> 4763327888107.482\n",
            "loss functon : iter 467 ==> 4762698317660.575\n",
            "loss functon : iter 468 ==> 4762068831722.633\n",
            "loss functon : iter 469 ==> 4761439430282.309\n",
            "loss functon : iter 470 ==> 4760810113328.257\n",
            "loss functon : iter 471 ==> 4760180880849.133\n",
            "loss functon : iter 472 ==> 4759551732833.592\n",
            "loss functon : iter 473 ==> 4758922669270.295\n",
            "loss functon : iter 474 ==> 4758293690147.9\n",
            "loss functon : iter 475 ==> 4757664795455.067\n",
            "loss functon : iter 476 ==> 4757035985180.461\n",
            "loss functon : iter 477 ==> 4756407259312.747\n",
            "loss functon : iter 478 ==> 4755778617840.589\n",
            "loss functon : iter 479 ==> 4755150060752.655\n",
            "loss functon : iter 480 ==> 4754521588037.613\n",
            "loss functon : iter 481 ==> 4753893199684.137\n",
            "loss functon : iter 482 ==> 4753264895680.895\n",
            "loss functon : iter 483 ==> 4752636676016.561\n",
            "loss functon : iter 484 ==> 4752008540679.812\n",
            "loss functon : iter 485 ==> 4751380489659.323\n",
            "loss functon : iter 486 ==> 4750752522943.773\n",
            "loss functon : iter 487 ==> 4750124640521.842\n",
            "loss functon : iter 488 ==> 4749496842382.209\n",
            "loss functon : iter 489 ==> 4748869128513.559\n",
            "loss functon : iter 490 ==> 4748241498904.574\n",
            "loss functon : iter 491 ==> 4747613953543.939\n",
            "loss functon : iter 492 ==> 4746986492420.346\n",
            "loss functon : iter 493 ==> 4746359115522.4795\n",
            "loss functon : iter 494 ==> 4745731822839.031\n",
            "loss functon : iter 495 ==> 4745104614358.69\n",
            "loss functon : iter 496 ==> 4744477490070.154\n",
            "loss functon : iter 497 ==> 4743850449962.115\n",
            "loss functon : iter 498 ==> 4743223494023.2705\n",
            "loss functon : iter 499 ==> 4742596622242.317\n",
            "loss functon : iter 500 ==> 4741969834607.954\n",
            "loss functon : iter 501 ==> 4741343131108.883\n",
            "loss functon : iter 502 ==> 4740716511733.807\n",
            "loss functon : iter 503 ==> 4740089976471.426\n",
            "loss functon : iter 504 ==> 4739463525310.452\n",
            "loss functon : iter 505 ==> 4738837158239.587\n",
            "loss functon : iter 506 ==> 4738210875247.54\n",
            "loss functon : iter 507 ==> 4737584676323.021\n",
            "loss functon : iter 508 ==> 4736958561454.744\n",
            "loss functon : iter 509 ==> 4736332530631.42\n",
            "loss functon : iter 510 ==> 4735706583841.764\n",
            "loss functon : iter 511 ==> 4735080721074.49\n",
            "loss functon : iter 512 ==> 4734454942318.318\n",
            "loss functon : iter 513 ==> 4733829247561.966\n",
            "loss functon : iter 514 ==> 4733203636794.154\n",
            "loss functon : iter 515 ==> 4732578110003.605\n",
            "loss functon : iter 516 ==> 4731952667179.044\n",
            "loss functon : iter 517 ==> 4731327308309.192\n",
            "loss functon : iter 518 ==> 4730702033382.779\n",
            "loss functon : iter 519 ==> 4730076842388.534\n",
            "loss functon : iter 520 ==> 4729451735315.183\n",
            "loss functon : iter 521 ==> 4728826712151.459\n",
            "loss functon : iter 522 ==> 4728201772886.095\n",
            "loss functon : iter 523 ==> 4727576917507.824\n",
            "loss functon : iter 524 ==> 4726952146005.383\n",
            "loss functon : iter 525 ==> 4726327458367.508\n",
            "loss functon : iter 526 ==> 4725702854582.939\n",
            "loss functon : iter 527 ==> 4725078334640.416\n",
            "loss functon : iter 528 ==> 4724453898528.678\n",
            "loss functon : iter 529 ==> 4723829546236.474\n",
            "loss functon : iter 530 ==> 4723205277752.544\n",
            "loss functon : iter 531 ==> 4722581093065.636\n",
            "loss functon : iter 532 ==> 4721956992164.496\n",
            "loss functon : iter 533 ==> 4721332975037.875\n",
            "loss functon : iter 534 ==> 4720709041674.525\n",
            "loss functon : iter 535 ==> 4720085192063.197\n",
            "loss functon : iter 536 ==> 4719461426192.645\n",
            "loss functon : iter 537 ==> 4718837744051.622\n",
            "loss functon : iter 538 ==> 4718214145628.888\n",
            "loss functon : iter 539 ==> 4717590630913.199\n",
            "loss functon : iter 540 ==> 4716967199893.317\n",
            "loss functon : iter 541 ==> 4716343852558.002\n",
            "loss functon : iter 542 ==> 4715720588896.018\n",
            "loss functon : iter 543 ==> 4715097408896.128\n",
            "loss functon : iter 544 ==> 4714474312547.1\n",
            "loss functon : iter 545 ==> 4713851299837.698\n",
            "loss functon : iter 546 ==> 4713228370756.693\n",
            "loss functon : iter 547 ==> 4712605525292.856\n",
            "loss functon : iter 548 ==> 4711982763434.96\n",
            "loss functon : iter 549 ==> 4711360085171.775\n",
            "loss functon : iter 550 ==> 4710737490492.078\n",
            "loss functon : iter 551 ==> 4710114979384.645\n",
            "loss functon : iter 552 ==> 4709492551838.254\n",
            "loss functon : iter 553 ==> 4708870207841.686\n",
            "loss functon : iter 554 ==> 4708247947383.718\n",
            "loss functon : iter 555 ==> 4707625770453.135\n",
            "loss functon : iter 556 ==> 4707003677038.724\n",
            "loss functon : iter 557 ==> 4706381667129.266\n",
            "loss functon : iter 558 ==> 4705759740713.549\n",
            "loss functon : iter 559 ==> 4705137897780.362\n",
            "loss functon : iter 560 ==> 4704516138318.495\n",
            "loss functon : iter 561 ==> 4703894462316.74\n",
            "loss functon : iter 562 ==> 4703272869763.891\n",
            "loss functon : iter 563 ==> 4702651360648.738\n",
            "loss functon : iter 564 ==> 4702029934960.082\n",
            "loss functon : iter 565 ==> 4701408592686.719\n",
            "loss functon : iter 566 ==> 4700787333817.445\n",
            "loss functon : iter 567 ==> 4700166158341.065\n",
            "loss functon : iter 568 ==> 4699545066246.381\n",
            "loss functon : iter 569 ==> 4698924057522.192\n",
            "loss functon : iter 570 ==> 4698303132157.309\n",
            "loss functon : iter 571 ==> 4697682290140.533\n",
            "loss functon : iter 572 ==> 4697061531460.676\n",
            "loss functon : iter 573 ==> 4696440856106.545\n",
            "loss functon : iter 574 ==> 4695820264066.953\n",
            "loss functon : iter 575 ==> 4695199755330.711\n",
            "loss functon : iter 576 ==> 4694579329886.635\n",
            "loss functon : iter 577 ==> 4693958987723.537\n",
            "loss functon : iter 578 ==> 4693338728830.238\n",
            "loss functon : iter 579 ==> 4692718553195.557\n",
            "loss functon : iter 580 ==> 4692098460808.309\n",
            "loss functon : iter 581 ==> 4691478451657.32\n",
            "loss functon : iter 582 ==> 4690858525731.411\n",
            "loss functon : iter 583 ==> 4690238683019.408\n",
            "loss functon : iter 584 ==> 4689618923510.137\n",
            "loss functon : iter 585 ==> 4688999247192.424\n",
            "loss functon : iter 586 ==> 4688379654055.1\n",
            "loss functon : iter 587 ==> 4687760144086.994\n",
            "loss functon : iter 588 ==> 4687140717276.939\n",
            "loss functon : iter 589 ==> 4686521373613.769\n",
            "loss functon : iter 590 ==> 4685902113086.318\n",
            "loss functon : iter 591 ==> 4685282935683.424\n",
            "loss functon : iter 592 ==> 4684663841393.923\n",
            "loss functon : iter 593 ==> 4684044830206.655\n",
            "loss functon : iter 594 ==> 4683425902110.463\n",
            "loss functon : iter 595 ==> 4682807057094.1875\n",
            "loss functon : iter 596 ==> 4682188295146.674\n",
            "loss functon : iter 597 ==> 4681569616256.768\n",
            "loss functon : iter 598 ==> 4680951020413.314\n",
            "loss functon : iter 599 ==> 4680332507605.166\n",
            "loss functon : iter 600 ==> 4679714077821.168\n",
            "loss functon : iter 601 ==> 4679095731050.176\n",
            "loss functon : iter 602 ==> 4678477467281.039\n",
            "loss functon : iter 603 ==> 4677859286502.615\n",
            "loss functon : iter 604 ==> 4677241188703.759\n",
            "loss functon : iter 605 ==> 4676623173873.327\n",
            "loss functon : iter 606 ==> 4676005242000.182\n",
            "loss functon : iter 607 ==> 4675387393073.181\n",
            "loss functon : iter 608 ==> 4674769627081.1875\n",
            "loss functon : iter 609 ==> 4674151944013.064\n",
            "loss functon : iter 610 ==> 4673534343857.678\n",
            "loss functon : iter 611 ==> 4672916826603.893\n",
            "loss functon : iter 612 ==> 4672299392240.578\n",
            "loss functon : iter 613 ==> 4671682040756.602\n",
            "loss functon : iter 614 ==> 4671064772140.837\n",
            "loss functon : iter 615 ==> 4670447586382.156\n",
            "loss functon : iter 616 ==> 4669830483469.432\n",
            "loss functon : iter 617 ==> 4669213463391.541\n",
            "loss functon : iter 618 ==> 4668596526137.359\n",
            "loss functon : iter 619 ==> 4667979671695.767\n",
            "loss functon : iter 620 ==> 4667362900055.643\n",
            "loss functon : iter 621 ==> 4666746211205.866\n",
            "loss functon : iter 622 ==> 4666129605135.324\n",
            "loss functon : iter 623 ==> 4665513081832.898\n",
            "loss functon : iter 624 ==> 4664896641287.476\n",
            "loss functon : iter 625 ==> 4664280283487.943\n",
            "loss functon : iter 626 ==> 4663664008423.19\n",
            "loss functon : iter 627 ==> 4663047816082.107\n",
            "loss functon : iter 628 ==> 4662431706453.586\n",
            "loss functon : iter 629 ==> 4661815679526.5205\n",
            "loss functon : iter 630 ==> 4661199735289.804\n",
            "loss functon : iter 631 ==> 4660583873732.335\n",
            "loss functon : iter 632 ==> 4659968094843.01\n",
            "loss functon : iter 633 ==> 4659352398610.729\n",
            "loss functon : iter 634 ==> 4658736785024.391\n",
            "loss functon : iter 635 ==> 4658121254072.899\n",
            "loss functon : iter 636 ==> 4657505805745.159\n",
            "loss functon : iter 637 ==> 4656890440030.076\n",
            "loss functon : iter 638 ==> 4656275156916.555\n",
            "loss functon : iter 639 ==> 4655659956393.506\n",
            "loss functon : iter 640 ==> 4655044838449.838\n",
            "loss functon : iter 641 ==> 4654429803074.462\n",
            "loss functon : iter 642 ==> 4653814850256.291\n",
            "loss functon : iter 643 ==> 4653199979984.238\n",
            "loss functon : iter 644 ==> 4652585192247.222\n",
            "loss functon : iter 645 ==> 4651970487034.158\n",
            "loss functon : iter 646 ==> 4651355864333.965\n",
            "loss functon : iter 647 ==> 4650741324135.5625\n",
            "loss functon : iter 648 ==> 4650126866427.873\n",
            "loss functon : iter 649 ==> 4649512491199.82\n",
            "loss functon : iter 650 ==> 4648898198440.328\n",
            "loss functon : iter 651 ==> 4648283988138.322\n",
            "loss functon : iter 652 ==> 4647669860282.732\n",
            "loss functon : iter 653 ==> 4647055814862.485\n",
            "loss functon : iter 654 ==> 4646441851866.512\n",
            "loss functon : iter 655 ==> 4645827971283.746\n",
            "loss functon : iter 656 ==> 4645214173103.121\n",
            "loss functon : iter 657 ==> 4644600457313.57\n",
            "loss functon : iter 658 ==> 4643986823904.03\n",
            "loss functon : iter 659 ==> 4643373272863.441\n",
            "loss functon : iter 660 ==> 4642759804180.742\n",
            "loss functon : iter 661 ==> 4642146417844.872\n",
            "loss functon : iter 662 ==> 4641533113844.775\n",
            "loss functon : iter 663 ==> 4640919892169.396\n",
            "loss functon : iter 664 ==> 4640306752807.679\n",
            "loss functon : iter 665 ==> 4639693695748.57\n",
            "loss functon : iter 666 ==> 4639080720981.02\n",
            "loss functon : iter 667 ==> 4638467828493.979\n",
            "loss functon : iter 668 ==> 4637855018276.395\n",
            "loss functon : iter 669 ==> 4637242290317.225\n",
            "loss functon : iter 670 ==> 4636629644605.42\n",
            "loss functon : iter 671 ==> 4636017081129.938\n",
            "loss functon : iter 672 ==> 4635404599879.736\n",
            "loss functon : iter 673 ==> 4634792200843.773\n",
            "loss functon : iter 674 ==> 4634179884011.008\n",
            "loss functon : iter 675 ==> 4633567649370.405\n",
            "loss functon : iter 676 ==> 4632955496910.925\n",
            "loss functon : iter 677 ==> 4632343426621.535\n",
            "loss functon : iter 678 ==> 4631731438491.198\n",
            "loss functon : iter 679 ==> 4631119532508.885\n",
            "loss functon : iter 680 ==> 4630507708663.5625\n",
            "loss functon : iter 681 ==> 4629895966944.203\n",
            "loss functon : iter 682 ==> 4629284307339.779\n",
            "loss functon : iter 683 ==> 4628672729839.265\n",
            "loss functon : iter 684 ==> 4628061234431.633\n",
            "loss functon : iter 685 ==> 4627449821105.861\n",
            "loss functon : iter 686 ==> 4626838489850.928\n",
            "loss functon : iter 687 ==> 4626227240655.812\n",
            "loss functon : iter 688 ==> 4625616073509.495\n",
            "loss functon : iter 689 ==> 4625004988400.959\n",
            "loss functon : iter 690 ==> 4624393985319.189\n",
            "loss functon : iter 691 ==> 4623783064253.17\n",
            "loss functon : iter 692 ==> 4623172225191.889\n",
            "loss functon : iter 693 ==> 4622561468124.336\n",
            "loss functon : iter 694 ==> 4621950793039.498\n",
            "loss functon : iter 695 ==> 4621340199926.367\n",
            "loss functon : iter 696 ==> 4620729688773.937\n",
            "loss functon : iter 697 ==> 4620119259571.201\n",
            "loss functon : iter 698 ==> 4619508912307.157\n",
            "loss functon : iter 699 ==> 4618898646970.801\n"
          ]
        }
      ]
    },
    {
      "cell_type": "markdown",
      "metadata": {
        "id": "ZWbQu0oqTBBv"
      },
      "source": [
        "2023746163849.1125"
      ]
    },
    {
      "cell_type": "code",
      "metadata": {
        "colab": {
          "base_uri": "https://localhost:8080/"
        },
        "id": "uQt-id1XKa_d",
        "outputId": "0137a18c-f81a-4b6d-bd4c-089aa1ad085e"
      },
      "source": [
        "theta "
      ],
      "execution_count": null,
      "outputs": [
        {
          "output_type": "execute_result",
          "data": {
            "text/plain": [
              "array([[ 0.14404551],\n",
              "       [ 1.45428626],\n",
              "       [ 0.7610656 ],\n",
              "       [ 0.12177454],\n",
              "       [ 0.44432235],\n",
              "       [ 0.33450445],\n",
              "       [ 1.5020141 ],\n",
              "       [-0.19798376],\n",
              "       [ 0.45373991],\n",
              "       [-0.79067797],\n",
              "       [-0.01811122]])"
            ]
          },
          "metadata": {},
          "execution_count": 85
        }
      ]
    },
    {
      "cell_type": "markdown",
      "metadata": {
        "id": "20vp1LoTTa9o"
      },
      "source": [
        "لرنینگ قبلی زیادی بزگ بود شیبش تیز شده بود االان این بهتره، فک کنم کوچکتر هم باید باشه"
      ]
    },
    {
      "cell_type": "code",
      "metadata": {
        "colab": {
          "base_uri": "https://localhost:8080/",
          "height": 295
        },
        "id": "IWRru4BDKj8a",
        "outputId": "e997b7db-23cd-4d41-bfcd-0330bca77f55"
      },
      "source": [
        "plt.plot(J, label='Training loss')\n",
        "plt.xlabel('epoch')\n",
        "plt.ylabel('cost function')\n",
        "plt.legend(frameon=False)\n",
        "plt.title(f\"Loss function for {epoch} epochs\")\n",
        "plt.show()"
      ],
      "execution_count": null,
      "outputs": [
        {
          "output_type": "display_data",
          "data": {
            "image/png": "[encoded data removed]",
            "text/plain": [
              "<Figure size 432x288 with 1 Axes>"
            ]
          },
          "metadata": {
            "needs_background": "light"
          }
        }
      ]
    },
    {
      "cell_type": "code",
      "metadata": {
        "colab": {
          "base_uri": "https://localhost:8080/"
        },
        "id": "tr2eDLm6KnuH",
        "outputId": "8afb086e-f680-4bf0-b65f-6a6743d8ef63"
      },
      "source": [
        "# set the theta as w_degree5\n",
        "w_degree5_GD = theta\n",
        "\n",
        "X_test = transform(data['x1_test'], data['x2_test'], 5)\n",
        "\n",
        "# calculate y_hat for X_test\n",
        "y_hat_test = y_hat(X_test, w_degree5_GD)\n",
        "\n",
        "# Calculate SSE on the Test data\n",
        "test_loss = loss(data['y_test'], y_hat_test)\n",
        "print(f'SSE on Test : {test_loss}')"
      ],
      "execution_count": null,
      "outputs": [
        {
          "output_type": "stream",
          "name": "stdout",
          "text": [
            "SSE on Test : 1280789976710.9927\n"
          ]
        }
      ]
    },
    {
      "cell_type": "markdown",
      "metadata": {
        "id": "MF3vKgjhAHnu"
      },
      "source": [
        "## Regression with Regularization"
      ]
    },
    {
      "cell_type": "markdown",
      "metadata": {
        "id": "aMKdyXzfTeDc"
      },
      "source": [
        "در این قسمت می خواهیم تا جمله ی منظم ساز را نیز به عبارت خطا اضافه کنیم تا مدل تشویق شود تا ساده باشد و ضرایب بزرگی را انتخاب نکند. برای محاسبه بردار ضرایب در این قسمت هم می توان از گرادیان کاهشی استفاده کرد و هم از فرم بسته رگرسیون، که من از فرم بسته رگرسیون استفاده می کنم. \n",
        "در واقع کاری که باید در این مرحله انجام شوداین است که از بین لامبدا ها (ضریب عبارت منظم ساز) لامبدای مناسب را برای هر مدل انتخاب کنیم. برای انتهاب بهترین لامبدا از روش Kfold cross validation استفاده می کنیم.\n",
        "این روش برای انتخاب بهترین پارامتر استفاده شود. به این صورت که داده ها را به 5 قسمت تقسیم می کند و هر باز یکی را به عنوان داده اعتبار سنجی در نظر می گیرد. با این کار در نهایت 5 خطا از 5 مدل بدست می آید که مامیانگین آن ها را در نظر می گیریم و با مقایسه این مقدار برای مقادیر مختل ف لامبدا، لامبدایی در نهایت انتخاب می شود که خطای اعبتار سنجی کمتری داشته باشد."
      ]
    },
    {
      "cell_type": "code",
      "metadata": {
        "id": "EF1Dkz3hEli1"
      },
      "source": [
        "def find_theta_regulariztion(X, y, L):\n",
        "  '''calculate theta based on Normal Equation with regularization.'''\n",
        "      \n",
        "  # reshaping y to (n,1)\n",
        "  y = y.reshape(-1,1)\n",
        "\n",
        "  identity_matirx = np.identity(X.shape[1])\n",
        "    \n",
        "  # The Normal Equation\n",
        "  theta = np.dot(np.linalg.inv(np.dot(X.T, X) + L*identity_matirx), np.dot(X.T, y))\n",
        "    \n",
        "  return theta"
      ],
      "execution_count": 7,
      "outputs": []
    },
    {
      "cell_type": "code",
      "metadata": {
        "id": "mLE-3Ykb9DsW"
      },
      "source": [
        "def unison_shuffled(a, b):\n",
        "  '''calculate shuffle of two array simultaneously'''\n",
        "\n",
        "  assert len(a) == len(b)\n",
        "  p = np.random.permutation(len(a))\n",
        "  return a[p], b[p]"
      ],
      "execution_count": 23,
      "outputs": []
    },
    {
      "cell_type": "code",
      "metadata": {
        "id": "0UNQ5cBULZeW"
      },
      "source": [
        "def KfoldCV(X, y, L):\n",
        "  '''Execute K fold cross validation (k =5) on train set.\n",
        "  Then return average of validation errors.\n",
        "  '''\n",
        "  # cost function on validation set in cross validation\n",
        "  J_cv = 0\n",
        "\n",
        "  X_shuffle, y_shuffle = unison_shuffled(X, y)\n",
        "\n",
        "  # number of dataset\n",
        "  n = X_shuffle.shape[0]\n",
        "\n",
        "  for i in range(0, 5): # 5 fold cross validation\n",
        "\n",
        "    # select validation set from 5 fold\n",
        "    X_valid = X_shuffle[(int(n/5)*i): (int(n/5)*(i+1))]\n",
        "    y_valid = y_shuffle[(int(n/5)*i): (int(n/5)*(i+1))]\n",
        "\n",
        "    # print([(n/5)*i, (n/5)*(i+1)])\n",
        "    \n",
        "    # remove validation set from X and set train set\n",
        "    X_train = np.delete(X_shuffle, np.arange((int(n/5)*i), (int(n/5)*(i+1))), axis=0)\n",
        "    y_train = np.delete(y_shuffle, np.arange((int(n/5)*i), (int(n/5)*(i+1))), axis=0)\n",
        "\n",
        "    # print(len(X_train),len(y_train))\n",
        "    # calculate w_hat base on normal equation and regularization term\n",
        "    w_hat = find_theta_regulariztion(X_train, y_train, L)\n",
        "\n",
        "    y_hat_valid = y_hat(X_valid, w_hat)\n",
        "    \n",
        "    J_cv += loss(y_valid, y_hat_valid)\n",
        "\n",
        "\n",
        "  return J_cv/5"
      ],
      "execution_count": 64,
      "outputs": []
    },
    {
      "cell_type": "markdown",
      "metadata": {
        "id": "0NFQWuL-AR0A"
      },
      "source": [
        "### Linear Regression"
      ]
    },
    {
      "cell_type": "code",
      "metadata": {
        "id": "3XQBzBcqf_-v"
      },
      "source": [
        "Lambda = [0.0001, 0.001, 0.01, 0.1, 1, 10, 100, 1000, 10000]"
      ],
      "execution_count": 65,
      "outputs": []
    },
    {
      "cell_type": "code",
      "metadata": {
        "id": "DVvw5wTnSdQr"
      },
      "source": [
        "X_train = transform(data['x1'], data['x2'], 1)\n",
        "\n",
        "cost_value = []\n",
        "\n",
        "for i in Lambda:\n",
        "  cost_value.append(KfoldCV(X_train, data['y'], i))"
      ],
      "execution_count": 67,
      "outputs": []
    },
    {
      "cell_type": "markdown",
      "metadata": {
        "id": "ufXC8YLelZK_"
      },
      "source": [
        "ما در کد بالا الگوریتم کراس ولیدیشن  را برای 9 مقدار لامبدایی که داشتیم اجرا کردم. در هر بار خطایی به ما داده میشود که مااین خطاها را در لیست ذخیره می کنیم تا در نمودار بتوان خطا ها را روی مقادیر مختلف لامبدا مقایسه کرد.\n",
        "\n",
        "طبق نمودار زیر انتخاب لامبدا مساوی با 0.0001 مناسب ترین انتخاب برای مدل با درجه یک است. زیرا خطای آن با روش کراس ولیدیشن، روی داده های ولیدیشن  نسبت به بقیه لامبدا ها کمتر است. پس الان کراس ولیدیشن در انتخاب بهترین پارامتر به ما کمک کرد.\n"
      ]
    },
    {
      "cell_type": "code",
      "metadata": {
        "colab": {
          "base_uri": "https://localhost:8080/",
          "height": 295
        },
        "id": "4ygawieTgpjR",
        "outputId": "d2539791-94b4-44a5-f1d6-caa3b066fd2a"
      },
      "source": [
        "default_x_ticks = range(len(Lambda))\n",
        "plt.plot(default_x_ticks, cost_value)\n",
        "plt.xticks(default_x_ticks, Lambda)\n",
        "plt.xlabel(\"Lambda\")\n",
        "plt.ylabel(\"SSE on validation\")\n",
        "plt.title(\"Comparison of error on Lambda values\")\n",
        "plt.show()"
      ],
      "execution_count": 77,
      "outputs": [
        {
          "output_type": "display_data",
          "data": {
            "image/png": "[encoded data removed]",
            "text/plain": [
              "<Figure size 432x288 with 1 Axes>"
            ]
          },
          "metadata": {
            "needs_background": "light"
          }
        }
      ]
    },
    {
      "cell_type": "code",
      "metadata": {
        "colab": {
          "base_uri": "https://localhost:8080/"
        },
        "id": "JrrG_uiihh8k",
        "outputId": "685f71f4-89b1-4231-ba5d-6d4dddb7d357"
      },
      "source": [
        "len(cost_value)"
      ],
      "execution_count": 78,
      "outputs": [
        {
          "output_type": "execute_result",
          "data": {
            "text/plain": [
              "9"
            ]
          },
          "metadata": {},
          "execution_count": 78
        }
      ]
    },
    {
      "cell_type": "markdown",
      "metadata": {
        "id": "xSij8QRjpOE7"
      },
      "source": [
        "حالا که بهترین مقدار لامبدا بدست اومد از اون برای محاسبه بردار ضرایب استفاده می کنیم و مدل درجه یک را میسازیم. سپس خطا را اروی داده های آموزشی و تست بدست می آوریم."
      ]
    },
    {
      "cell_type": "code",
      "metadata": {
        "colab": {
          "base_uri": "https://localhost:8080/"
        },
        "id": "TrMYwobygHrF",
        "outputId": "f803cc0a-c212-4cd7-e0b6-ff10f07185fb"
      },
      "source": [
        "w_linear = find_theta_regulariztion(X_train, data['y'], 0.0001) \n",
        "print(f'w for linear regression : \\n{w_linear}')"
      ],
      "execution_count": 80,
      "outputs": [
        {
          "output_type": "stream",
          "name": "stdout",
          "text": [
            "w for linear regression : \n",
            "[[-4226.06966707]\n",
            " [  537.30124021]\n",
            " [  446.63580786]]\n"
          ]
        }
      ]
    },
    {
      "cell_type": "code",
      "metadata": {
        "colab": {
          "base_uri": "https://localhost:8080/"
        },
        "id": "7x5S7lZFpZeN",
        "outputId": "793f0e1c-625c-403f-a294-e7cb34d4c5ba"
      },
      "source": [
        "y_hat_train = y_hat(X_train, w_linear)\n",
        "train_loss = loss(data['y'], y_hat_train)\n",
        "print(f'SSE on Train : {train_loss}')"
      ],
      "execution_count": 83,
      "outputs": [
        {
          "output_type": "stream",
          "name": "stdout",
          "text": [
            "SSE on Train : 18317759690.368134\n"
          ]
        }
      ]
    },
    {
      "cell_type": "markdown",
      "metadata": {
        "id": "G1wjG0hcse6O"
      },
      "source": [
        "وقتی مقادیر خطا برای داده های آموزشی و تست را با این مقادیر در روش بدون استفاده از منظم ساز مقایسه می کنیم می بینیم که خطا روی داده های آموزشی و تست در صورتی که از منظم ساز استفاده کنیم کمی بیشتر است. این احتمالا به این دلیل است که مدل ما به اندازه کافی نسبت به مدل اصلی که داده از روش ساخته شده ساده هست و اگر جمله منظم ساز استفاده شود باعث می شود کمتر به سمت فیت شدن روی داده های آموزشی برود.\n",
        "پس برای مدل درجه یک اگر از منظم ساز استفاده نکنیم بهتر است."
      ]
    },
    {
      "cell_type": "code",
      "metadata": {
        "colab": {
          "base_uri": "https://localhost:8080/"
        },
        "id": "eoGOtPPereG9",
        "outputId": "be8838a6-5966-4355-d468-bc4d32f0505a"
      },
      "source": [
        "X_test = transform(data['x1_test'], data['x2_test'], 1)\n",
        "y_hat_test = y_hat(X_test, w_linear)\n",
        "\n",
        "# calculate SSE (Sum of Squared Error) on the Test data\n",
        "test_loss = loss(data['y_test'], y_hat_test)\n",
        "print(f'SSE on Test : {test_loss}')"
      ],
      "execution_count": 82,
      "outputs": [
        {
          "output_type": "stream",
          "name": "stdout",
          "text": [
            "SSE on Test : 12944760583.086916\n"
          ]
        }
      ]
    },
    {
      "cell_type": "markdown",
      "metadata": {
        "id": "bdU5SqLOtHv1"
      },
      "source": [
        "### Polynomial Regression degree 3"
      ]
    },
    {
      "cell_type": "code",
      "metadata": {
        "id": "oJrQVjqdc81W"
      },
      "source": [
        "# create dataset and its featues for degree 3 polynomial\n",
        "X_train = transform(data['x1'], data['x2'], 3)\n",
        "\n",
        "cost_value = []\n",
        "\n",
        "for i in Lambda:\n",
        "  cost_value.append(KfoldCV(X_train, data['y'], i))"
      ],
      "execution_count": 86,
      "outputs": []
    },
    {
      "cell_type": "markdown",
      "metadata": {
        "id": "Wgy-ieSPud5n"
      },
      "source": [
        "همانطور که در شکل زیر می بینیم با افزایش مقدار لامبدا خطا تا یک جایی کاهش پیدا کرده و از لامبدا برایر با 10 مقدار خطا روی داده های اعتبار سنجی افزایش پیدا کرده. پس در این مدل انتخاب لامبدای 1 بهترین گزینه است. پس همین لامبدا را انتخاب می کنیم و مدل را آموزش می دهیم. "
      ]
    },
    {
      "cell_type": "code",
      "metadata": {
        "colab": {
          "base_uri": "https://localhost:8080/",
          "height": 295
        },
        "id": "GbNacZ-Itaze",
        "outputId": "430af815-ccc3-4636-ed83-46a3fa7d7131"
      },
      "source": [
        "default_x_ticks = range(len(Lambda))\n",
        "plt.plot(default_x_ticks, cost_value)\n",
        "plt.xticks(default_x_ticks, Lambda)\n",
        "plt.xlabel(\"Lambda\")\n",
        "plt.ylabel(\"SSE on validation\")\n",
        "plt.title(\"Comparison of error on Lambda values on degree3 regression\")\n",
        "plt.show()"
      ],
      "execution_count": 91,
      "outputs": [
        {
          "output_type": "display_data",
          "data": {
            "image/png": "[encoded data removed]",
            "text/plain": [
              "<Figure size 432x288 with 1 Axes>"
            ]
          },
          "metadata": {
            "needs_background": "light"
          }
        }
      ]
    },
    {
      "cell_type": "code",
      "metadata": {
        "colab": {
          "base_uri": "https://localhost:8080/"
        },
        "id": "wUMZ1cgatvvB",
        "outputId": "392f7ca0-5eae-44ce-d599-68ca3c1e4857"
      },
      "source": [
        "print(f'cost values on degree 3 model: \\n{cost_value}')"
      ],
      "execution_count": 96,
      "outputs": [
        {
          "output_type": "stream",
          "name": "stdout",
          "text": [
            "cost values on degree 3 model: \n",
            "[2973331122.169543, 2972296427.380429, 2973029287.1459556, 2977354777.2915163, 2968046001.78843, 2968883122.596544, 3017373522.2811594, 3217845155.932776, 3559716979.886533]\n"
          ]
        }
      ]
    },
    {
      "cell_type": "code",
      "metadata": {
        "colab": {
          "base_uri": "https://localhost:8080/"
        },
        "id": "Sd8oq-5atzzY",
        "outputId": "efa852cb-a470-43f4-82fc-b941cfb05cf4"
      },
      "source": [
        "w_degree3 = find_theta_regulariztion(X_train, data['y'], 1) \n",
        "print(f'w for degree 3 regression : \\n{w_degree3}')"
      ],
      "execution_count": 100,
      "outputs": [
        {
          "output_type": "stream",
          "name": "stdout",
          "text": [
            "w for degree 3 regression : \n",
            "[[-2.78364264e+03]\n",
            " [ 5.35421631e+02]\n",
            " [ 5.30688936e+01]\n",
            " [-2.04539685e+00]\n",
            " [ 1.55794025e+01]\n",
            " [ 1.91856063e-01]\n",
            " [ 2.24237808e-01]]\n"
          ]
        }
      ]
    },
    {
      "cell_type": "markdown",
      "metadata": {
        "id": "T_UkXw4Wxwil"
      },
      "source": [
        "با مقایسه ی خطای آموزشی و تست بدست آمده در روش با جمله منظم ساز با مدل با همین درجه بدون منظم ساز می بینیم که خطای آموزشی و تست با منظم ساز کمی بیشتر شده نسبت به روش قبل. پس در مدل درجه 3 استفاده نکردن از جمله منظم ساز بهتر است و خطای کمتری خواهیم داشت. و دلیل این کار هم به این دلیل است که این جمله منظم ساز با این ضریب باعث می شود مدل به اصطلاح آتل بندی شود و نتواند خودش رو روی داده های اصلی تطبیق بدهد و آن ها را یاد بگیرد."
      ]
    },
    {
      "cell_type": "code",
      "metadata": {
        "colab": {
          "base_uri": "https://localhost:8080/"
        },
        "id": "gYWpVhs8vhFs",
        "outputId": "84daf9d0-cbf6-48f3-86da-055d4889ccae"
      },
      "source": [
        "y_hat_train = y_hat(X_train, w_degree3)\n",
        "train_loss = loss(data['y'], y_hat_train)\n",
        "print(f'SSE on Train : {train_loss}')"
      ],
      "execution_count": 101,
      "outputs": [
        {
          "output_type": "stream",
          "name": "stdout",
          "text": [
            "SSE on Train : 14817897426.228828\n"
          ]
        }
      ]
    },
    {
      "cell_type": "code",
      "metadata": {
        "colab": {
          "base_uri": "https://localhost:8080/"
        },
        "id": "M3bTeSb5vmfg",
        "outputId": "fbf8bf46-b859-426d-af06-61f7deff1f51"
      },
      "source": [
        "X_test = transform(data['x1_test'], data['x2_test'], 3)\n",
        "y_hat_test = y_hat(X_test, w_degree3)\n",
        "\n",
        "# calculate SSE (Sum of Squared Error) on the Test data\n",
        "test_loss = loss(data['y_test'], y_hat_test)\n",
        "print(f'SSE on Test : {test_loss}')"
      ],
      "execution_count": 102,
      "outputs": [
        {
          "output_type": "stream",
          "name": "stdout",
          "text": [
            "SSE on Test : 9758836037.898756\n"
          ]
        }
      ]
    },
    {
      "cell_type": "markdown",
      "metadata": {
        "id": "3QD9CrjCv0aE"
      },
      "source": [
        "### Polynomial Regression degree 5"
      ]
    },
    {
      "cell_type": "code",
      "metadata": {
        "id": "7GnRm6NIv3fy"
      },
      "source": [
        "# create dataset and its featues for degree 5 polynomial\n",
        "X_train = transform(data['x1'], data['x2'], 5)\n",
        "\n",
        "cost_value = []\n",
        "\n",
        "for i in Lambda:\n",
        "  cost_value.append(KfoldCV(X_train, data['y'], i))"
      ],
      "execution_count": 103,
      "outputs": []
    },
    {
      "cell_type": "markdown",
      "metadata": {
        "id": "wchVfLKfzWSA"
      },
      "source": [
        "همانطور که در شکل زیر می بینیم در مدل درجه 5 بهترین انتخاب لامبدا 0.0001 است زیرا خطا با این لامبدا از بقیه کمتر است."
      ]
    },
    {
      "cell_type": "code",
      "metadata": {
        "colab": {
          "base_uri": "https://localhost:8080/",
          "height": 295
        },
        "id": "RVnaM3SQv9fB",
        "outputId": "4660e72c-1cb4-4c2a-82c8-f791068e67d3"
      },
      "source": [
        "default_x_ticks = range(len(Lambda))\n",
        "plt.plot(default_x_ticks, cost_value)\n",
        "plt.xticks(default_x_ticks, Lambda)\n",
        "plt.xlabel(\"Lambda\")\n",
        "plt.ylabel(\"SSE on validation\")\n",
        "plt.title(\"Comparison of error on Lambda values on degree5 regression\")\n",
        "plt.show()"
      ],
      "execution_count": 106,
      "outputs": [
        {
          "output_type": "display_data",
          "data": {
            "image/png": "[encoded data removed]",
            "text/plain": [
              "<Figure size 432x288 with 1 Axes>"
            ]
          },
          "metadata": {
            "needs_background": "light"
          }
        }
      ]
    },
    {
      "cell_type": "code",
      "metadata": {
        "colab": {
          "base_uri": "https://localhost:8080/"
        },
        "id": "hHebn8Ley2Iz",
        "outputId": "fbf79c77-ac5b-40d9-e29f-e5903bbbfb63"
      },
      "source": [
        "Lambda.index(min(Lambda))"
      ],
      "execution_count": 109,
      "outputs": [
        {
          "output_type": "execute_result",
          "data": {
            "text/plain": [
              "0"
            ]
          },
          "metadata": {},
          "execution_count": 109
        }
      ]
    },
    {
      "cell_type": "code",
      "metadata": {
        "colab": {
          "base_uri": "https://localhost:8080/"
        },
        "id": "ro0yfoY7wEI0",
        "outputId": "5acfa012-529e-4981-bdb7-1af45066fee0"
      },
      "source": [
        "print(f'cost values on degree 5 model: \\n{cost_value}')"
      ],
      "execution_count": 107,
      "outputs": [
        {
          "output_type": "stream",
          "name": "stdout",
          "text": [
            "cost values on degree 5 model: \n",
            "[2970190431.285209, 2971866939.725148, 2970398126.549262, 2977904815.1898127, 2973525695.0444946, 2974167045.2722793, 2999877620.2006826, 3189083131.1514044, 3448610511.6655264]\n"
          ]
        }
      ]
    },
    {
      "cell_type": "code",
      "metadata": {
        "colab": {
          "base_uri": "https://localhost:8080/"
        },
        "id": "YDbtFA0LwHAs",
        "outputId": "a68d5913-f541-4b40-e52e-92f396574ee5"
      },
      "source": [
        "w_degree5 = find_theta_regulariztion(X_train, data['y'], 0.0001) \n",
        "print(f'w for degree 5 regression : \\n{w_degree5}')"
      ],
      "execution_count": 110,
      "outputs": [
        {
          "output_type": "stream",
          "name": "stdout",
          "text": [
            "w for degree 5 regression : \n",
            "[[-2.61174405e+03]\n",
            " [ 4.70892010e+02]\n",
            " [-6.93869039e+01]\n",
            " [ 1.95489047e+00]\n",
            " [ 4.25682214e+01]\n",
            " [ 7.47786110e+00]\n",
            " [-1.76840536e+00]\n",
            " [-1.55737986e+00]\n",
            " [ 4.14224341e-02]\n",
            " [ 8.60624638e-02]\n",
            " [ 3.04879143e-04]]\n"
          ]
        }
      ]
    },
    {
      "cell_type": "markdown",
      "metadata": {
        "id": "M7UQJ9bc0Swj"
      },
      "source": [
        "در این روش نیز خطاهای بدست آمده در این مرحله نسبت به روش بدون منظم ساز کمی بیشتر است. یعنی خطاهایی که با روش منظم ساز بدست آمده اند خیلی کم بیشتر از روش بدون منظم ساز و این به معنی آن است که هرچه درجه مدل بالاتر رود استفاده از منظم ساز معقول تر است. برای مثال در رگرسیون های درجه یک و درجه 3 چون مدل ساده است و پیچیدگی ندارد لزومی به استفاده از منظم ساز نیست زیرا مدل را بیش از حد ساده می کند و باعث می شود مدل داده ها را به خوبی یاد نگیرد . اما در مدل های درجه بالاتر چون پیچیدگی مدل بالاتر می رود احتمال بیش برازش و حفظ کردن داده ها وجود دارد از منظم ساز استفاده می شود تا به سمت حفظ کردن و بیش برازش نرود."
      ]
    },
    {
      "cell_type": "code",
      "metadata": {
        "colab": {
          "base_uri": "https://localhost:8080/"
        },
        "id": "HNqU-FA0wQF5",
        "outputId": "81e69360-3f39-43e6-d592-fd4634b7879b"
      },
      "source": [
        "y_hat_train = y_hat(X_train, w_degree5)\n",
        "train_loss = loss(data['y'], y_hat_train)\n",
        "print(f'SSE on Train : {train_loss}')"
      ],
      "execution_count": 111,
      "outputs": [
        {
          "output_type": "stream",
          "name": "stdout",
          "text": [
            "SSE on Train : 14796048788.338896\n"
          ]
        }
      ]
    },
    {
      "cell_type": "code",
      "metadata": {
        "colab": {
          "base_uri": "https://localhost:8080/"
        },
        "id": "Il7jp_hhwUNP",
        "outputId": "7c8bde22-946d-4f0d-f7f5-742400729b6b"
      },
      "source": [
        "X_test = transform(data['x1_test'], data['x2_test'], 5)\n",
        "y_hat_test = y_hat(X_test, w_degree5)\n",
        "\n",
        "# calculate SSE (Sum of Squared Error) on the Test data\n",
        "test_loss = loss(data['y_test'], y_hat_test)\n",
        "print(f'SSE on Test : {test_loss}')"
      ],
      "execution_count": 112,
      "outputs": [
        {
          "output_type": "stream",
          "name": "stdout",
          "text": [
            "SSE on Test : 9201144915.303053\n"
          ]
        }
      ]
    },
    {
      "cell_type": "markdown",
      "metadata": {
        "id": "sKjOD5xuwjAf"
      },
      "source": [
        "### Model Comparision"
      ]
    },
    {
      "cell_type": "code",
      "metadata": {
        "id": "7FrSHUiCwigU"
      },
      "source": [
        "train_loss = [18317759690.368134,14817897426.228828,14796048788.338896]\n",
        "test_loss = [12944760583.086916,9758836037.898756,9201144915.303053]\n",
        "regressor = ['linear', 'degree3', 'degree5']"
      ],
      "execution_count": 1,
      "outputs": []
    },
    {
      "cell_type": "markdown",
      "metadata": {
        "id": "9DI-XFaeRfZq"
      },
      "source": [
        "طبق شکل های زیر مدل با درجه 5 برای این داده ها بهترین است زیرا هم خطا روی داده های آموزشی کم شده و هم نسبت به بقیه تعمیم بهتری دارد و خطا روی داده های تست هم کم شده و در واقع مدل با درجه 5 داده ها را بهتر از بقیه یاد گرفته است."
      ]
    },
    {
      "cell_type": "code",
      "metadata": {
        "colab": {
          "base_uri": "https://localhost:8080/",
          "height": 295
        },
        "id": "MAyGf9PRwrmr",
        "outputId": "860c36a6-d673-49e0-a403-a43445e73256"
      },
      "source": [
        "plt.plot(regressor ,train_loss)\n",
        "plt.xlabel('Regressor')\n",
        "plt.ylabel('Train Loss')\n",
        "plt.title(\"Model Comparition\")\n",
        "plt.show()"
      ],
      "execution_count": 6,
      "outputs": [
        {
          "output_type": "display_data",
          "data": {
            "image/png": "[encoded data removed]",
            "text/plain": [
              "<Figure size 432x288 with 1 Axes>"
            ]
          },
          "metadata": {
            "needs_background": "light"
          }
        }
      ]
    },
    {
      "cell_type": "code",
      "metadata": {
        "colab": {
          "base_uri": "https://localhost:8080/",
          "height": 295
        },
        "id": "qYZdQJMDwzaD",
        "outputId": "706ec93b-0c1b-4930-d754-4de35f80aac1"
      },
      "source": [
        "plt.plot(regressor ,test_loss)\n",
        "plt.xlabel('Regressor')\n",
        "plt.ylabel('Test Loss')\n",
        "plt.title(\"Model Comparition\")\n",
        "plt.show()"
      ],
      "execution_count": 7,
      "outputs": [
        {
          "output_type": "display_data",
          "data": {
            "image/png": "[encoded data removed]",
            "text/plain": [
              "<Figure size 432x288 with 1 Axes>"
            ]
          },
          "metadata": {
            "needs_background": "light"
          }
        }
      ]
    },
    {
      "cell_type": "code",
      "metadata": {
        "id": "H-j17RTBRP20"
      },
      "source": [
        ""
      ],
      "execution_count": null,
      "outputs": []
    }
  ]
}